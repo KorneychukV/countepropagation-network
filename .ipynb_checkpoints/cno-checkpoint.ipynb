{
 "cells": [
  {
   "cell_type": "code",
   "execution_count": 5,
   "metadata": {},
   "outputs": [],
   "source": [
    "import numpy as np\n",
    "import pandas as pd\n",
    "import csv\n",
    "import random"
   ]
  },
  {
   "cell_type": "markdown",
   "metadata": {},
   "source": [
    "# Инициализация"
   ]
  },
  {
   "cell_type": "code",
   "execution_count": 15,
   "metadata": {},
   "outputs": [],
   "source": [
    "drop_column = ['№п/п', 'Дата рождения', 'Учебное заведение', 'Населенный пункт по прописке', 'Основание поступления']\n",
    "gender_dict = {'Мужской': 0.95,'Женский': 0.05}\n",
    "\n",
    "# подготовленный датасет\n",
    "prepare_data = []\n",
    "# количество нейронов кохонена\n",
    "kohonen_neuron_count = 30\n",
    "# скорость обучения\n",
    "theta = 0.7"
   ]
  },
  {
   "cell_type": "markdown",
   "metadata": {},
   "source": [
    "# Считывание данных из файла и их подготовка"
   ]
  },
  {
   "cell_type": "code",
   "execution_count": 16,
   "metadata": {},
   "outputs": [],
   "source": [
    "df = pd.read_csv('data/input.csv', sep=',')\n",
    "df.drop(drop_column, axis = 1, inplace = True)\n",
    "\n",
    "# переводим пол в числовой формат, т. к. это будет один из признаков\n",
    "df['Пол'].replace(gender_dict, inplace = True) \n",
    "\n",
    "# приводим баллы по ЕГЭ к диапозону от 0 до 1\n",
    "df.astype({'Баллы ЕГЭ': 'float'}).dtypes\n",
    "df['Баллы ЕГЭ'] /= 100\n",
    "\n",
    "fios = df['ФИО'].unique()\n",
    "subjects = df['Предметы ЕГЭ'].unique()\n",
    "profs = df['Специальность/направление'].unique()\n",
    "np.where(profs == 'Экономика')[0].item(0)\n",
    "for el in fios:\n",
    "    student = df[df['ФИО'] == el]\n",
    "    features = np.zeros((6))\n",
    "    for i in range(len(subjects)):\n",
    "        res = student.loc[student['Предметы ЕГЭ'] == subjects[i], 'Баллы ЕГЭ'].values\n",
    "        features[i] = res[0] if len(res) else 0\n",
    "    features[5] = student.iloc[0]['Пол']\n",
    "    student_data = dict(fio = el, features = features, \n",
    "                    result = np.where(profs == student.iloc[0]['Специальность/направление'])[0].item(0))\n",
    "    prepare_data.append(student_data)"
   ]
  },
  {
   "cell_type": "markdown",
   "metadata": {},
   "source": [
    "# Обучение"
   ]
  },
  {
   "cell_type": "markdown",
   "metadata": {},
   "source": [
    "## Кохонен"
   ]
  },
  {
   "cell_type": "code",
   "execution_count": 21,
   "metadata": {},
   "outputs": [],
   "source": [
    "def getKohonenWinnerIndex(fio, x, neuron_counts, w):\n",
    "    result = 0\n",
    "    max_net = -1\n",
    "    for i in range(neuron_counts):\n",
    "        net = 0\n",
    "        for j in range(len(x)):\n",
    "            net += (x[j] - w[j][i]) ** 2\n",
    "        if (net > max_net):\n",
    "            result = i\n",
    "            max_net = net\n",
    "    return result"
   ]
  },
  {
   "cell_type": "code",
   "execution_count": 22,
   "metadata": {},
   "outputs": [
    {
     "name": "stdout",
     "output_type": "stream",
     "text": [
      "0.025931911123286827\n",
      "0.511779573336986\n"
     ]
    }
   ],
   "source": [
    "#количество нейронов выходного слоя (слоя Гроссберга) = количество проффессий \n",
    "grossberg_neuron_counts = len(profs)\n",
    "\n",
    "#инициализация начальных весов\n",
    "weights = np.zeros((len(subjects) + 1, kohonen_neuron_count))\n",
    "for i in range(len(subjects) + 1):\n",
    "    for j in range(kohonen_neuron_count):\n",
    "        weights[i, j] = random.uniform(0.01, 0.99)\n",
    "\n",
    "\n",
    "for student in prepare_data:\n",
    "    winner_index = getKohonenWinnerIndex(student['fio'], student['features'], kohonen_neuron_count, weights)\n",
    "\n",
    "print(weights[0][winner_index])\n",
    "for i in range(len(subjects) + 1):\n",
    "    weights[i][winner_index] = weights[i][winner_index] - theta * (weights[i][winner_index] - student['features'][i])\n",
    "print(weights[0][winner_index])"
   ]
  },
  {
   "cell_type": "code",
   "execution_count": null,
   "metadata": {},
   "outputs": [],
   "source": [
    "2 ** 3"
   ]
  }
 ],
 "metadata": {
  "kernelspec": {
   "display_name": "Python 3",
   "language": "python",
   "name": "python3"
  },
  "language_info": {
   "codemirror_mode": {
    "name": "ipython",
    "version": 3
   },
   "file_extension": ".py",
   "mimetype": "text/x-python",
   "name": "python",
   "nbconvert_exporter": "python",
   "pygments_lexer": "ipython3",
   "version": "3.8.5"
  }
 },
 "nbformat": 4,
 "nbformat_minor": 4
}
