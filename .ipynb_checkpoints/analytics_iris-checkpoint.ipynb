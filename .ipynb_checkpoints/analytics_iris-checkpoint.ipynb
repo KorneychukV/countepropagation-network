{
 "cells": [
  {
   "cell_type": "code",
   "execution_count": 3,
   "metadata": {},
   "outputs": [],
   "source": [
    "import numpy as np\n",
    "import pandas as pd\n",
    "import csv\n",
    "import random\n",
    "import math\n",
    "from datetime import datetime\n",
    "import matplotlib.pyplot as plt\n",
    "import plotly.express as px"
   ]
  },
  {
   "cell_type": "code",
   "execution_count": 4,
   "metadata": {},
   "outputs": [
    {
     "data": {
      "text/plain": [
       "array(['Setosa', 'Versicolor', 'Virginica'], dtype=object)"
      ]
     },
     "execution_count": 4,
     "metadata": {},
     "output_type": "execute_result"
    }
   ],
   "source": [
    "# количество признаков входного слоя\n",
    "feature_count = 4\n",
    "\n",
    "df = pd.read_csv('data/iris.csv', sep=',')\n",
    "\n",
    "# подготовленный датасет\n",
    "data = []\n",
    "norm_data = []\n",
    "\n",
    "classes = df[\"variety\"].unique()\n",
    "\n",
    "df = df.sample(frac=1).reset_index(drop=True)\n",
    "\n",
    "for i in range(len(df)) : \n",
    "\n",
    "    features = np.zeros((feature_count))\n",
    "    features[0] = df.loc[i, \"sepal.length\"]\n",
    "    features[1] = df.loc[i, \"sepal.width\"]\n",
    "    features[2] = df.loc[i, \"petal.length\"]\n",
    "    features[3] = df.loc[i, \"petal.width\"]\n",
    "    \n",
    "    # Нормализация входного вектора\n",
    "    norm_features = features/np.linalg.norm(features)\n",
    "    \n",
    "    res = np.zeros((len(classes)))\n",
    "    res[np.where(classes == df.loc[i, \"variety\"])[0].item(0)] = 1\n",
    "    \n",
    "    temp_data = dict(name = str(i), \n",
    "                     features = features, \n",
    "                     result = res)\n",
    "    temp_norm_data = dict(name = str(i), \n",
    "                     features = norm_features, \n",
    "                     result = res)\n",
    "    \n",
    "    data.append(temp_data)\n",
    "    norm_data.append(temp_norm_data)\n",
    "\n",
    "classes"
   ]
  },
  {
   "cell_type": "markdown",
   "metadata": {},
   "source": [
    "# Распределение данных"
   ]
  },
  {
   "cell_type": "code",
   "execution_count": 5,
   "metadata": {},
   "outputs": [],
   "source": [
    "data_iris = np.array([['Вид', 'Чашелистик (длина)', 'Лепесток (длина)', 'Лепесток (ширина)']])\n",
    "norm_data_iris = np.array([['Вид', 'Чашелистик (длина)', 'Лепесток (длина)', 'Лепесток (ширина)']])\n",
    "\n",
    "\n",
    "for blossom in data:\n",
    "    data_iris = np.append(data_iris, \n",
    "                          [[classes[np.where(blossom['result'] == 1)[0][0]],\n",
    "                            blossom['features'][0], blossom['features'][2], blossom['features'][3]]],\n",
    "                          axis = 0)\n",
    "    \n",
    "for blossom in norm_data:\n",
    "    norm_data_iris = np.append(norm_data_iris, \n",
    "                          [[classes[np.where(blossom['result'] == 1)[0][0]],\n",
    "                            blossom['features'][0], blossom['features'][2], blossom['features'][3]]],\n",
    "                          axis = 0)\n",
    "    \n",
    "plot_data_iris = pd.DataFrame(\n",
    "    data = data_iris[1:,0:],\n",
    "    columns = data_iris[0,0:])\n",
    "\n",
    "plot_norm_data_iris = pd.DataFrame(\n",
    "    data = norm_data_iris[1:,0:],\n",
    "    columns = norm_data_iris[0,0:])"
   ]
  },
  {
   "cell_type": "code",
   "execution_count": 8,
   "metadata": {},
   "outputs": [
    {
     "data": {
      "application/vnd.plotly.v1+json": {
       "config": {
        "plotlyServerURL": "https://plot.ly"
       },
       "data": [
        {
         "hovertemplate": "Вид=Virginica<br>Лепесток (длина)=%{x}<br>Лепесток (ширина)=%{y}<br>Чашелистик (длина)=%{z}<extra></extra>",
         "legendgroup": "Virginica",
         "marker": {
          "color": "#636efa",
          "symbol": "circle"
         },
         "mode": "markers",
         "name": "Virginica",
         "scene": "scene",
         "showlegend": true,
         "type": "scatter3d",
         "x": [
          "5.0",
          "4.8",
          "6.1",
          "5.4",
          "5.2",
          "6.9",
          "5.4",
          "5.0",
          "5.6",
          "4.9",
          "5.9",
          "5.6",
          "5.1",
          "5.5",
          "5.7",
          "6.1",
          "5.0",
          "6.6",
          "5.2",
          "5.5",
          "5.8",
          "5.9",
          "5.7",
          "5.5",
          "4.8",
          "5.3",
          "5.6",
          "4.9",
          "6.0",
          "5.1",
          "5.1",
          "5.1",
          "5.6",
          "6.7",
          "5.1",
          "5.1",
          "5.1",
          "6.3",
          "5.6",
          "6.4",
          "5.8",
          "5.3",
          "5.8",
          "6.0",
          "6.7",
          "6.1",
          "5.6",
          "4.9",
          "4.5",
          "5.7"
         ],
         "y": [
          "1.9",
          "1.8",
          "1.9",
          "2.1",
          "2.0",
          "2.3",
          "2.3",
          "1.5",
          "2.4",
          "2.0",
          "2.3",
          "2.1",
          "1.5",
          "1.8",
          "2.5",
          "2.3",
          "2.0",
          "2.1",
          "2.3",
          "1.8",
          "1.8",
          "2.1",
          "2.3",
          "2.1",
          "1.8",
          "1.9",
          "1.8",
          "1.8",
          "2.5",
          "1.8",
          "2.4",
          "1.9",
          "2.4",
          "2.0",
          "2.3",
          "1.9",
          "2.0",
          "1.8",
          "2.2",
          "2.0",
          "2.2",
          "2.3",
          "1.6",
          "1.8",
          "2.2",
          "2.5",
          "1.4",
          "1.8",
          "1.7",
          "2.1"
         ],
         "z": [
          "6.3",
          "6.0",
          "7.4",
          "6.9",
          "6.5",
          "7.7",
          "6.2",
          "6.0",
          "6.7",
          "5.6",
          "6.8",
          "6.4",
          "6.3",
          "6.5",
          "6.7",
          "7.7",
          "5.7",
          "7.6",
          "6.7",
          "6.4",
          "6.7",
          "7.1",
          "6.9",
          "6.8",
          "6.2",
          "6.4",
          "6.3",
          "6.3",
          "6.3",
          "5.9",
          "5.8",
          "5.8",
          "6.3",
          "7.7",
          "6.9",
          "5.8",
          "6.5",
          "7.3",
          "6.4",
          "7.9",
          "6.5",
          "6.4",
          "7.2",
          "7.2",
          "7.7",
          "7.2",
          "6.1",
          "6.1",
          "4.9",
          "6.7"
         ]
        },
        {
         "hovertemplate": "Вид=Setosa<br>Лепесток (длина)=%{x}<br>Лепесток (ширина)=%{y}<br>Чашелистик (длина)=%{z}<extra></extra>",
         "legendgroup": "Setosa",
         "marker": {
          "color": "#EF553B",
          "symbol": "circle"
         },
         "mode": "markers",
         "name": "Setosa",
         "scene": "scene",
         "showlegend": true,
         "type": "scatter3d",
         "x": [
          "1.5",
          "1.4",
          "1.3",
          "1.5",
          "1.5",
          "1.9",
          "1.2",
          "1.4",
          "1.4",
          "1.4",
          "1.7",
          "1.5",
          "1.0",
          "1.5",
          "1.5",
          "1.5",
          "1.5",
          "1.9",
          "1.6",
          "1.4",
          "1.3",
          "1.1",
          "1.4",
          "1.6",
          "1.7",
          "1.7",
          "1.6",
          "1.3",
          "1.7",
          "1.3",
          "1.4",
          "1.3",
          "1.4",
          "1.5",
          "1.4",
          "1.3",
          "1.4",
          "1.3",
          "1.4",
          "1.4",
          "1.5",
          "1.6",
          "1.6",
          "1.5",
          "1.6",
          "1.2",
          "1.5",
          "1.6",
          "1.5",
          "1.4"
         ],
         "y": [
          "0.1",
          "0.3",
          "0.3",
          "0.4",
          "0.4",
          "0.4",
          "0.2",
          "0.2",
          "0.2",
          "0.2",
          "0.4",
          "0.2",
          "0.2",
          "0.4",
          "0.1",
          "0.3",
          "0.2",
          "0.2",
          "0.2",
          "0.2",
          "0.2",
          "0.1",
          "0.2",
          "0.2",
          "0.2",
          "0.5",
          "0.4",
          "0.2",
          "0.3",
          "0.2",
          "0.2",
          "0.2",
          "0.2",
          "0.2",
          "0.3",
          "0.4",
          "0.2",
          "0.3",
          "0.1",
          "0.3",
          "0.2",
          "0.2",
          "0.2",
          "0.2",
          "0.2",
          "0.2",
          "0.2",
          "0.6",
          "0.2",
          "0.1"
         ],
         "z": [
          "5.2",
          "4.8",
          "4.5",
          "5.7",
          "5.1",
          "5.1",
          "5.8",
          "4.9",
          "5.5",
          "5.0",
          "5.4",
          "4.6",
          "4.6",
          "5.4",
          "4.9",
          "5.1",
          "5.0",
          "4.8",
          "4.8",
          "5.2",
          "4.4",
          "4.3",
          "4.4",
          "4.8",
          "5.4",
          "5.1",
          "5.0",
          "4.4",
          "5.7",
          "4.7",
          "4.6",
          "5.5",
          "5.0",
          "5.2",
          "4.6",
          "5.4",
          "5.1",
          "5.0",
          "4.9",
          "5.1",
          "5.1",
          "4.7",
          "5.1",
          "5.4",
          "5.0",
          "5.0",
          "4.9",
          "5.0",
          "5.3",
          "4.8"
         ]
        },
        {
         "hovertemplate": "Вид=Versicolor<br>Лепесток (длина)=%{x}<br>Лепесток (ширина)=%{y}<br>Чашелистик (длина)=%{z}<extra></extra>",
         "legendgroup": "Versicolor",
         "marker": {
          "color": "#00cc96",
          "symbol": "circle"
         },
         "mode": "markers",
         "name": "Versicolor",
         "scene": "scene",
         "showlegend": true,
         "type": "scatter3d",
         "x": [
          "4.9",
          "4.0",
          "4.1",
          "4.1",
          "5.0",
          "4.7",
          "4.4",
          "4.0",
          "4.2",
          "4.5",
          "4.6",
          "4.0",
          "4.5",
          "3.5",
          "4.8",
          "4.4",
          "4.5",
          "4.0",
          "4.5",
          "4.3",
          "3.7",
          "4.7",
          "3.8",
          "4.4",
          "3.9",
          "4.1",
          "4.5",
          "3.6",
          "3.0",
          "4.3",
          "4.9",
          "4.7",
          "4.5",
          "4.5",
          "4.7",
          "4.6",
          "4.8",
          "4.4",
          "4.7",
          "3.9",
          "4.6",
          "4.2",
          "4.0",
          "4.2",
          "3.5",
          "3.3",
          "3.3",
          "5.1",
          "4.2",
          "3.9"
         ],
         "y": [
          "1.5",
          "1.0",
          "1.3",
          "1.0",
          "1.7",
          "1.6",
          "1.4",
          "1.3",
          "1.2",
          "1.5",
          "1.4",
          "1.3",
          "1.5",
          "1.0",
          "1.8",
          "1.4",
          "1.3",
          "1.2",
          "1.5",
          "1.3",
          "1.0",
          "1.2",
          "1.1",
          "1.3",
          "1.2",
          "1.3",
          "1.5",
          "1.3",
          "1.1",
          "1.3",
          "1.5",
          "1.4",
          "1.5",
          "1.6",
          "1.4",
          "1.3",
          "1.4",
          "1.2",
          "1.5",
          "1.1",
          "1.5",
          "1.3",
          "1.3",
          "1.5",
          "1.0",
          "1.0",
          "1.0",
          "1.6",
          "1.3",
          "1.4"
         ],
         "z": [
          "6.9",
          "6.0",
          "5.6",
          "5.8",
          "6.7",
          "6.3",
          "6.6",
          "5.5",
          "5.7",
          "5.6",
          "6.1",
          "6.1",
          "6.0",
          "5.0",
          "5.9",
          "6.7",
          "5.7",
          "5.8",
          "6.2",
          "6.2",
          "5.5",
          "6.1",
          "5.5",
          "6.3",
          "5.8",
          "5.7",
          "5.4",
          "5.6",
          "5.1",
          "6.4",
          "6.3",
          "6.1",
          "6.4",
          "6.0",
          "7.0",
          "6.6",
          "6.8",
          "5.5",
          "6.7",
          "5.6",
          "6.5",
          "5.6",
          "5.5",
          "5.9",
          "5.7",
          "4.9",
          "5.0",
          "6.0",
          "5.7",
          "5.2"
         ]
        }
       ],
       "layout": {
        "height": 1080,
        "legend": {
         "title": {
          "text": "Вид"
         },
         "tracegroupgap": 0
        },
        "margin": {
         "t": 60
        },
        "scene": {
         "domain": {
          "x": [
           0,
           1
          ],
          "y": [
           0,
           1
          ]
         },
         "xaxis": {
          "title": {
           "text": "Лепесток (длина)"
          }
         },
         "yaxis": {
          "title": {
           "text": "Лепесток (ширина)"
          }
         },
         "zaxis": {
          "title": {
           "text": "Чашелистик (длина)"
          }
         }
        },
        "template": {
         "data": {
          "bar": [
           {
            "error_x": {
             "color": "#2a3f5f"
            },
            "error_y": {
             "color": "#2a3f5f"
            },
            "marker": {
             "line": {
              "color": "#E5ECF6",
              "width": 0.5
             }
            },
            "type": "bar"
           }
          ],
          "barpolar": [
           {
            "marker": {
             "line": {
              "color": "#E5ECF6",
              "width": 0.5
             }
            },
            "type": "barpolar"
           }
          ],
          "carpet": [
           {
            "aaxis": {
             "endlinecolor": "#2a3f5f",
             "gridcolor": "white",
             "linecolor": "white",
             "minorgridcolor": "white",
             "startlinecolor": "#2a3f5f"
            },
            "baxis": {
             "endlinecolor": "#2a3f5f",
             "gridcolor": "white",
             "linecolor": "white",
             "minorgridcolor": "white",
             "startlinecolor": "#2a3f5f"
            },
            "type": "carpet"
           }
          ],
          "choropleth": [
           {
            "colorbar": {
             "outlinewidth": 0,
             "ticks": ""
            },
            "type": "choropleth"
           }
          ],
          "contour": [
           {
            "colorbar": {
             "outlinewidth": 0,
             "ticks": ""
            },
            "colorscale": [
             [
              0,
              "#0d0887"
             ],
             [
              0.1111111111111111,
              "#46039f"
             ],
             [
              0.2222222222222222,
              "#7201a8"
             ],
             [
              0.3333333333333333,
              "#9c179e"
             ],
             [
              0.4444444444444444,
              "#bd3786"
             ],
             [
              0.5555555555555556,
              "#d8576b"
             ],
             [
              0.6666666666666666,
              "#ed7953"
             ],
             [
              0.7777777777777778,
              "#fb9f3a"
             ],
             [
              0.8888888888888888,
              "#fdca26"
             ],
             [
              1,
              "#f0f921"
             ]
            ],
            "type": "contour"
           }
          ],
          "contourcarpet": [
           {
            "colorbar": {
             "outlinewidth": 0,
             "ticks": ""
            },
            "type": "contourcarpet"
           }
          ],
          "heatmap": [
           {
            "colorbar": {
             "outlinewidth": 0,
             "ticks": ""
            },
            "colorscale": [
             [
              0,
              "#0d0887"
             ],
             [
              0.1111111111111111,
              "#46039f"
             ],
             [
              0.2222222222222222,
              "#7201a8"
             ],
             [
              0.3333333333333333,
              "#9c179e"
             ],
             [
              0.4444444444444444,
              "#bd3786"
             ],
             [
              0.5555555555555556,
              "#d8576b"
             ],
             [
              0.6666666666666666,
              "#ed7953"
             ],
             [
              0.7777777777777778,
              "#fb9f3a"
             ],
             [
              0.8888888888888888,
              "#fdca26"
             ],
             [
              1,
              "#f0f921"
             ]
            ],
            "type": "heatmap"
           }
          ],
          "heatmapgl": [
           {
            "colorbar": {
             "outlinewidth": 0,
             "ticks": ""
            },
            "colorscale": [
             [
              0,
              "#0d0887"
             ],
             [
              0.1111111111111111,
              "#46039f"
             ],
             [
              0.2222222222222222,
              "#7201a8"
             ],
             [
              0.3333333333333333,
              "#9c179e"
             ],
             [
              0.4444444444444444,
              "#bd3786"
             ],
             [
              0.5555555555555556,
              "#d8576b"
             ],
             [
              0.6666666666666666,
              "#ed7953"
             ],
             [
              0.7777777777777778,
              "#fb9f3a"
             ],
             [
              0.8888888888888888,
              "#fdca26"
             ],
             [
              1,
              "#f0f921"
             ]
            ],
            "type": "heatmapgl"
           }
          ],
          "histogram": [
           {
            "marker": {
             "colorbar": {
              "outlinewidth": 0,
              "ticks": ""
             }
            },
            "type": "histogram"
           }
          ],
          "histogram2d": [
           {
            "colorbar": {
             "outlinewidth": 0,
             "ticks": ""
            },
            "colorscale": [
             [
              0,
              "#0d0887"
             ],
             [
              0.1111111111111111,
              "#46039f"
             ],
             [
              0.2222222222222222,
              "#7201a8"
             ],
             [
              0.3333333333333333,
              "#9c179e"
             ],
             [
              0.4444444444444444,
              "#bd3786"
             ],
             [
              0.5555555555555556,
              "#d8576b"
             ],
             [
              0.6666666666666666,
              "#ed7953"
             ],
             [
              0.7777777777777778,
              "#fb9f3a"
             ],
             [
              0.8888888888888888,
              "#fdca26"
             ],
             [
              1,
              "#f0f921"
             ]
            ],
            "type": "histogram2d"
           }
          ],
          "histogram2dcontour": [
           {
            "colorbar": {
             "outlinewidth": 0,
             "ticks": ""
            },
            "colorscale": [
             [
              0,
              "#0d0887"
             ],
             [
              0.1111111111111111,
              "#46039f"
             ],
             [
              0.2222222222222222,
              "#7201a8"
             ],
             [
              0.3333333333333333,
              "#9c179e"
             ],
             [
              0.4444444444444444,
              "#bd3786"
             ],
             [
              0.5555555555555556,
              "#d8576b"
             ],
             [
              0.6666666666666666,
              "#ed7953"
             ],
             [
              0.7777777777777778,
              "#fb9f3a"
             ],
             [
              0.8888888888888888,
              "#fdca26"
             ],
             [
              1,
              "#f0f921"
             ]
            ],
            "type": "histogram2dcontour"
           }
          ],
          "mesh3d": [
           {
            "colorbar": {
             "outlinewidth": 0,
             "ticks": ""
            },
            "type": "mesh3d"
           }
          ],
          "parcoords": [
           {
            "line": {
             "colorbar": {
              "outlinewidth": 0,
              "ticks": ""
             }
            },
            "type": "parcoords"
           }
          ],
          "pie": [
           {
            "automargin": true,
            "type": "pie"
           }
          ],
          "scatter": [
           {
            "marker": {
             "colorbar": {
              "outlinewidth": 0,
              "ticks": ""
             }
            },
            "type": "scatter"
           }
          ],
          "scatter3d": [
           {
            "line": {
             "colorbar": {
              "outlinewidth": 0,
              "ticks": ""
             }
            },
            "marker": {
             "colorbar": {
              "outlinewidth": 0,
              "ticks": ""
             }
            },
            "type": "scatter3d"
           }
          ],
          "scattercarpet": [
           {
            "marker": {
             "colorbar": {
              "outlinewidth": 0,
              "ticks": ""
             }
            },
            "type": "scattercarpet"
           }
          ],
          "scattergeo": [
           {
            "marker": {
             "colorbar": {
              "outlinewidth": 0,
              "ticks": ""
             }
            },
            "type": "scattergeo"
           }
          ],
          "scattergl": [
           {
            "marker": {
             "colorbar": {
              "outlinewidth": 0,
              "ticks": ""
             }
            },
            "type": "scattergl"
           }
          ],
          "scattermapbox": [
           {
            "marker": {
             "colorbar": {
              "outlinewidth": 0,
              "ticks": ""
             }
            },
            "type": "scattermapbox"
           }
          ],
          "scatterpolar": [
           {
            "marker": {
             "colorbar": {
              "outlinewidth": 0,
              "ticks": ""
             }
            },
            "type": "scatterpolar"
           }
          ],
          "scatterpolargl": [
           {
            "marker": {
             "colorbar": {
              "outlinewidth": 0,
              "ticks": ""
             }
            },
            "type": "scatterpolargl"
           }
          ],
          "scatterternary": [
           {
            "marker": {
             "colorbar": {
              "outlinewidth": 0,
              "ticks": ""
             }
            },
            "type": "scatterternary"
           }
          ],
          "surface": [
           {
            "colorbar": {
             "outlinewidth": 0,
             "ticks": ""
            },
            "colorscale": [
             [
              0,
              "#0d0887"
             ],
             [
              0.1111111111111111,
              "#46039f"
             ],
             [
              0.2222222222222222,
              "#7201a8"
             ],
             [
              0.3333333333333333,
              "#9c179e"
             ],
             [
              0.4444444444444444,
              "#bd3786"
             ],
             [
              0.5555555555555556,
              "#d8576b"
             ],
             [
              0.6666666666666666,
              "#ed7953"
             ],
             [
              0.7777777777777778,
              "#fb9f3a"
             ],
             [
              0.8888888888888888,
              "#fdca26"
             ],
             [
              1,
              "#f0f921"
             ]
            ],
            "type": "surface"
           }
          ],
          "table": [
           {
            "cells": {
             "fill": {
              "color": "#EBF0F8"
             },
             "line": {
              "color": "white"
             }
            },
            "header": {
             "fill": {
              "color": "#C8D4E3"
             },
             "line": {
              "color": "white"
             }
            },
            "type": "table"
           }
          ]
         },
         "layout": {
          "annotationdefaults": {
           "arrowcolor": "#2a3f5f",
           "arrowhead": 0,
           "arrowwidth": 1
          },
          "autotypenumbers": "strict",
          "coloraxis": {
           "colorbar": {
            "outlinewidth": 0,
            "ticks": ""
           }
          },
          "colorscale": {
           "diverging": [
            [
             0,
             "#8e0152"
            ],
            [
             0.1,
             "#c51b7d"
            ],
            [
             0.2,
             "#de77ae"
            ],
            [
             0.3,
             "#f1b6da"
            ],
            [
             0.4,
             "#fde0ef"
            ],
            [
             0.5,
             "#f7f7f7"
            ],
            [
             0.6,
             "#e6f5d0"
            ],
            [
             0.7,
             "#b8e186"
            ],
            [
             0.8,
             "#7fbc41"
            ],
            [
             0.9,
             "#4d9221"
            ],
            [
             1,
             "#276419"
            ]
           ],
           "sequential": [
            [
             0,
             "#0d0887"
            ],
            [
             0.1111111111111111,
             "#46039f"
            ],
            [
             0.2222222222222222,
             "#7201a8"
            ],
            [
             0.3333333333333333,
             "#9c179e"
            ],
            [
             0.4444444444444444,
             "#bd3786"
            ],
            [
             0.5555555555555556,
             "#d8576b"
            ],
            [
             0.6666666666666666,
             "#ed7953"
            ],
            [
             0.7777777777777778,
             "#fb9f3a"
            ],
            [
             0.8888888888888888,
             "#fdca26"
            ],
            [
             1,
             "#f0f921"
            ]
           ],
           "sequentialminus": [
            [
             0,
             "#0d0887"
            ],
            [
             0.1111111111111111,
             "#46039f"
            ],
            [
             0.2222222222222222,
             "#7201a8"
            ],
            [
             0.3333333333333333,
             "#9c179e"
            ],
            [
             0.4444444444444444,
             "#bd3786"
            ],
            [
             0.5555555555555556,
             "#d8576b"
            ],
            [
             0.6666666666666666,
             "#ed7953"
            ],
            [
             0.7777777777777778,
             "#fb9f3a"
            ],
            [
             0.8888888888888888,
             "#fdca26"
            ],
            [
             1,
             "#f0f921"
            ]
           ]
          },
          "colorway": [
           "#636efa",
           "#EF553B",
           "#00cc96",
           "#ab63fa",
           "#FFA15A",
           "#19d3f3",
           "#FF6692",
           "#B6E880",
           "#FF97FF",
           "#FECB52"
          ],
          "font": {
           "color": "#2a3f5f"
          },
          "geo": {
           "bgcolor": "white",
           "lakecolor": "white",
           "landcolor": "#E5ECF6",
           "showlakes": true,
           "showland": true,
           "subunitcolor": "white"
          },
          "hoverlabel": {
           "align": "left"
          },
          "hovermode": "closest",
          "mapbox": {
           "style": "light"
          },
          "paper_bgcolor": "white",
          "plot_bgcolor": "#E5ECF6",
          "polar": {
           "angularaxis": {
            "gridcolor": "white",
            "linecolor": "white",
            "ticks": ""
           },
           "bgcolor": "#E5ECF6",
           "radialaxis": {
            "gridcolor": "white",
            "linecolor": "white",
            "ticks": ""
           }
          },
          "scene": {
           "xaxis": {
            "backgroundcolor": "#E5ECF6",
            "gridcolor": "white",
            "gridwidth": 2,
            "linecolor": "white",
            "showbackground": true,
            "ticks": "",
            "zerolinecolor": "white"
           },
           "yaxis": {
            "backgroundcolor": "#E5ECF6",
            "gridcolor": "white",
            "gridwidth": 2,
            "linecolor": "white",
            "showbackground": true,
            "ticks": "",
            "zerolinecolor": "white"
           },
           "zaxis": {
            "backgroundcolor": "#E5ECF6",
            "gridcolor": "white",
            "gridwidth": 2,
            "linecolor": "white",
            "showbackground": true,
            "ticks": "",
            "zerolinecolor": "white"
           }
          },
          "shapedefaults": {
           "line": {
            "color": "#2a3f5f"
           }
          },
          "ternary": {
           "aaxis": {
            "gridcolor": "white",
            "linecolor": "white",
            "ticks": ""
           },
           "baxis": {
            "gridcolor": "white",
            "linecolor": "white",
            "ticks": ""
           },
           "bgcolor": "#E5ECF6",
           "caxis": {
            "gridcolor": "white",
            "linecolor": "white",
            "ticks": ""
           }
          },
          "title": {
           "x": 0.05
          },
          "xaxis": {
           "automargin": true,
           "gridcolor": "white",
           "linecolor": "white",
           "ticks": "",
           "title": {
            "standoff": 15
           },
           "zerolinecolor": "white",
           "zerolinewidth": 2
          },
          "yaxis": {
           "automargin": true,
           "gridcolor": "white",
           "linecolor": "white",
           "ticks": "",
           "title": {
            "standoff": 15
           },
           "zerolinecolor": "white",
           "zerolinewidth": 2
          }
         }
        },
        "width": 1920
       }
      },
      "text/html": [
       "<div>                            <div id=\"e94145ea-90fb-4dd2-b36f-ded09fd4c042\" class=\"plotly-graph-div\" style=\"height:1080px; width:1920px;\"></div>            <script type=\"text/javascript\">                require([\"plotly\"], function(Plotly) {                    window.PLOTLYENV=window.PLOTLYENV || {};                                    if (document.getElementById(\"e94145ea-90fb-4dd2-b36f-ded09fd4c042\")) {                    Plotly.newPlot(                        \"e94145ea-90fb-4dd2-b36f-ded09fd4c042\",                        [{\"hovertemplate\": \"\\u0412\\u0438\\u0434=Virginica<br>\\u041b\\u0435\\u043f\\u0435\\u0441\\u0442\\u043e\\u043a (\\u0434\\u043b\\u0438\\u043d\\u0430)=%{x}<br>\\u041b\\u0435\\u043f\\u0435\\u0441\\u0442\\u043e\\u043a (\\u0448\\u0438\\u0440\\u0438\\u043d\\u0430)=%{y}<br>\\u0427\\u0430\\u0448\\u0435\\u043b\\u0438\\u0441\\u0442\\u0438\\u043a (\\u0434\\u043b\\u0438\\u043d\\u0430)=%{z}<extra></extra>\", \"legendgroup\": \"Virginica\", \"marker\": {\"color\": \"#636efa\", \"symbol\": \"circle\"}, \"mode\": \"markers\", \"name\": \"Virginica\", \"scene\": \"scene\", \"showlegend\": true, \"type\": \"scatter3d\", \"x\": [\"5.0\", \"4.8\", \"6.1\", \"5.4\", \"5.2\", \"6.9\", \"5.4\", \"5.0\", \"5.6\", \"4.9\", \"5.9\", \"5.6\", \"5.1\", \"5.5\", \"5.7\", \"6.1\", \"5.0\", \"6.6\", \"5.2\", \"5.5\", \"5.8\", \"5.9\", \"5.7\", \"5.5\", \"4.8\", \"5.3\", \"5.6\", \"4.9\", \"6.0\", \"5.1\", \"5.1\", \"5.1\", \"5.6\", \"6.7\", \"5.1\", \"5.1\", \"5.1\", \"6.3\", \"5.6\", \"6.4\", \"5.8\", \"5.3\", \"5.8\", \"6.0\", \"6.7\", \"6.1\", \"5.6\", \"4.9\", \"4.5\", \"5.7\"], \"y\": [\"1.9\", \"1.8\", \"1.9\", \"2.1\", \"2.0\", \"2.3\", \"2.3\", \"1.5\", \"2.4\", \"2.0\", \"2.3\", \"2.1\", \"1.5\", \"1.8\", \"2.5\", \"2.3\", \"2.0\", \"2.1\", \"2.3\", \"1.8\", \"1.8\", \"2.1\", \"2.3\", \"2.1\", \"1.8\", \"1.9\", \"1.8\", \"1.8\", \"2.5\", \"1.8\", \"2.4\", \"1.9\", \"2.4\", \"2.0\", \"2.3\", \"1.9\", \"2.0\", \"1.8\", \"2.2\", \"2.0\", \"2.2\", \"2.3\", \"1.6\", \"1.8\", \"2.2\", \"2.5\", \"1.4\", \"1.8\", \"1.7\", \"2.1\"], \"z\": [\"6.3\", \"6.0\", \"7.4\", \"6.9\", \"6.5\", \"7.7\", \"6.2\", \"6.0\", \"6.7\", \"5.6\", \"6.8\", \"6.4\", \"6.3\", \"6.5\", \"6.7\", \"7.7\", \"5.7\", \"7.6\", \"6.7\", \"6.4\", \"6.7\", \"7.1\", \"6.9\", \"6.8\", \"6.2\", \"6.4\", \"6.3\", \"6.3\", \"6.3\", \"5.9\", \"5.8\", \"5.8\", \"6.3\", \"7.7\", \"6.9\", \"5.8\", \"6.5\", \"7.3\", \"6.4\", \"7.9\", \"6.5\", \"6.4\", \"7.2\", \"7.2\", \"7.7\", \"7.2\", \"6.1\", \"6.1\", \"4.9\", \"6.7\"]}, {\"hovertemplate\": \"\\u0412\\u0438\\u0434=Setosa<br>\\u041b\\u0435\\u043f\\u0435\\u0441\\u0442\\u043e\\u043a (\\u0434\\u043b\\u0438\\u043d\\u0430)=%{x}<br>\\u041b\\u0435\\u043f\\u0435\\u0441\\u0442\\u043e\\u043a (\\u0448\\u0438\\u0440\\u0438\\u043d\\u0430)=%{y}<br>\\u0427\\u0430\\u0448\\u0435\\u043b\\u0438\\u0441\\u0442\\u0438\\u043a (\\u0434\\u043b\\u0438\\u043d\\u0430)=%{z}<extra></extra>\", \"legendgroup\": \"Setosa\", \"marker\": {\"color\": \"#EF553B\", \"symbol\": \"circle\"}, \"mode\": \"markers\", \"name\": \"Setosa\", \"scene\": \"scene\", \"showlegend\": true, \"type\": \"scatter3d\", \"x\": [\"1.5\", \"1.4\", \"1.3\", \"1.5\", \"1.5\", \"1.9\", \"1.2\", \"1.4\", \"1.4\", \"1.4\", \"1.7\", \"1.5\", \"1.0\", \"1.5\", \"1.5\", \"1.5\", \"1.5\", \"1.9\", \"1.6\", \"1.4\", \"1.3\", \"1.1\", \"1.4\", \"1.6\", \"1.7\", \"1.7\", \"1.6\", \"1.3\", \"1.7\", \"1.3\", \"1.4\", \"1.3\", \"1.4\", \"1.5\", \"1.4\", \"1.3\", \"1.4\", \"1.3\", \"1.4\", \"1.4\", \"1.5\", \"1.6\", \"1.6\", \"1.5\", \"1.6\", \"1.2\", \"1.5\", \"1.6\", \"1.5\", \"1.4\"], \"y\": [\"0.1\", \"0.3\", \"0.3\", \"0.4\", \"0.4\", \"0.4\", \"0.2\", \"0.2\", \"0.2\", \"0.2\", \"0.4\", \"0.2\", \"0.2\", \"0.4\", \"0.1\", \"0.3\", \"0.2\", \"0.2\", \"0.2\", \"0.2\", \"0.2\", \"0.1\", \"0.2\", \"0.2\", \"0.2\", \"0.5\", \"0.4\", \"0.2\", \"0.3\", \"0.2\", \"0.2\", \"0.2\", \"0.2\", \"0.2\", \"0.3\", \"0.4\", \"0.2\", \"0.3\", \"0.1\", \"0.3\", \"0.2\", \"0.2\", \"0.2\", \"0.2\", \"0.2\", \"0.2\", \"0.2\", \"0.6\", \"0.2\", \"0.1\"], \"z\": [\"5.2\", \"4.8\", \"4.5\", \"5.7\", \"5.1\", \"5.1\", \"5.8\", \"4.9\", \"5.5\", \"5.0\", \"5.4\", \"4.6\", \"4.6\", \"5.4\", \"4.9\", \"5.1\", \"5.0\", \"4.8\", \"4.8\", \"5.2\", \"4.4\", \"4.3\", \"4.4\", \"4.8\", \"5.4\", \"5.1\", \"5.0\", \"4.4\", \"5.7\", \"4.7\", \"4.6\", \"5.5\", \"5.0\", \"5.2\", \"4.6\", \"5.4\", \"5.1\", \"5.0\", \"4.9\", \"5.1\", \"5.1\", \"4.7\", \"5.1\", \"5.4\", \"5.0\", \"5.0\", \"4.9\", \"5.0\", \"5.3\", \"4.8\"]}, {\"hovertemplate\": \"\\u0412\\u0438\\u0434=Versicolor<br>\\u041b\\u0435\\u043f\\u0435\\u0441\\u0442\\u043e\\u043a (\\u0434\\u043b\\u0438\\u043d\\u0430)=%{x}<br>\\u041b\\u0435\\u043f\\u0435\\u0441\\u0442\\u043e\\u043a (\\u0448\\u0438\\u0440\\u0438\\u043d\\u0430)=%{y}<br>\\u0427\\u0430\\u0448\\u0435\\u043b\\u0438\\u0441\\u0442\\u0438\\u043a (\\u0434\\u043b\\u0438\\u043d\\u0430)=%{z}<extra></extra>\", \"legendgroup\": \"Versicolor\", \"marker\": {\"color\": \"#00cc96\", \"symbol\": \"circle\"}, \"mode\": \"markers\", \"name\": \"Versicolor\", \"scene\": \"scene\", \"showlegend\": true, \"type\": \"scatter3d\", \"x\": [\"4.9\", \"4.0\", \"4.1\", \"4.1\", \"5.0\", \"4.7\", \"4.4\", \"4.0\", \"4.2\", \"4.5\", \"4.6\", \"4.0\", \"4.5\", \"3.5\", \"4.8\", \"4.4\", \"4.5\", \"4.0\", \"4.5\", \"4.3\", \"3.7\", \"4.7\", \"3.8\", \"4.4\", \"3.9\", \"4.1\", \"4.5\", \"3.6\", \"3.0\", \"4.3\", \"4.9\", \"4.7\", \"4.5\", \"4.5\", \"4.7\", \"4.6\", \"4.8\", \"4.4\", \"4.7\", \"3.9\", \"4.6\", \"4.2\", \"4.0\", \"4.2\", \"3.5\", \"3.3\", \"3.3\", \"5.1\", \"4.2\", \"3.9\"], \"y\": [\"1.5\", \"1.0\", \"1.3\", \"1.0\", \"1.7\", \"1.6\", \"1.4\", \"1.3\", \"1.2\", \"1.5\", \"1.4\", \"1.3\", \"1.5\", \"1.0\", \"1.8\", \"1.4\", \"1.3\", \"1.2\", \"1.5\", \"1.3\", \"1.0\", \"1.2\", \"1.1\", \"1.3\", \"1.2\", \"1.3\", \"1.5\", \"1.3\", \"1.1\", \"1.3\", \"1.5\", \"1.4\", \"1.5\", \"1.6\", \"1.4\", \"1.3\", \"1.4\", \"1.2\", \"1.5\", \"1.1\", \"1.5\", \"1.3\", \"1.3\", \"1.5\", \"1.0\", \"1.0\", \"1.0\", \"1.6\", \"1.3\", \"1.4\"], \"z\": [\"6.9\", \"6.0\", \"5.6\", \"5.8\", \"6.7\", \"6.3\", \"6.6\", \"5.5\", \"5.7\", \"5.6\", \"6.1\", \"6.1\", \"6.0\", \"5.0\", \"5.9\", \"6.7\", \"5.7\", \"5.8\", \"6.2\", \"6.2\", \"5.5\", \"6.1\", \"5.5\", \"6.3\", \"5.8\", \"5.7\", \"5.4\", \"5.6\", \"5.1\", \"6.4\", \"6.3\", \"6.1\", \"6.4\", \"6.0\", \"7.0\", \"6.6\", \"6.8\", \"5.5\", \"6.7\", \"5.6\", \"6.5\", \"5.6\", \"5.5\", \"5.9\", \"5.7\", \"4.9\", \"5.0\", \"6.0\", \"5.7\", \"5.2\"]}],                        {\"height\": 1080, \"legend\": {\"title\": {\"text\": \"\\u0412\\u0438\\u0434\"}, \"tracegroupgap\": 0}, \"margin\": {\"t\": 60}, \"scene\": {\"domain\": {\"x\": [0.0, 1.0], \"y\": [0.0, 1.0]}, \"xaxis\": {\"title\": {\"text\": \"\\u041b\\u0435\\u043f\\u0435\\u0441\\u0442\\u043e\\u043a (\\u0434\\u043b\\u0438\\u043d\\u0430)\"}}, \"yaxis\": {\"title\": {\"text\": \"\\u041b\\u0435\\u043f\\u0435\\u0441\\u0442\\u043e\\u043a (\\u0448\\u0438\\u0440\\u0438\\u043d\\u0430)\"}}, \"zaxis\": {\"title\": {\"text\": \"\\u0427\\u0430\\u0448\\u0435\\u043b\\u0438\\u0441\\u0442\\u0438\\u043a (\\u0434\\u043b\\u0438\\u043d\\u0430)\"}}}, \"template\": {\"data\": {\"bar\": [{\"error_x\": {\"color\": \"#2a3f5f\"}, \"error_y\": {\"color\": \"#2a3f5f\"}, \"marker\": {\"line\": {\"color\": \"#E5ECF6\", \"width\": 0.5}}, \"type\": \"bar\"}], \"barpolar\": [{\"marker\": {\"line\": {\"color\": \"#E5ECF6\", \"width\": 0.5}}, \"type\": \"barpolar\"}], \"carpet\": [{\"aaxis\": {\"endlinecolor\": \"#2a3f5f\", \"gridcolor\": \"white\", \"linecolor\": \"white\", \"minorgridcolor\": \"white\", \"startlinecolor\": \"#2a3f5f\"}, \"baxis\": {\"endlinecolor\": \"#2a3f5f\", \"gridcolor\": \"white\", \"linecolor\": \"white\", \"minorgridcolor\": \"white\", \"startlinecolor\": \"#2a3f5f\"}, \"type\": \"carpet\"}], \"choropleth\": [{\"colorbar\": {\"outlinewidth\": 0, \"ticks\": \"\"}, \"type\": \"choropleth\"}], \"contour\": [{\"colorbar\": {\"outlinewidth\": 0, \"ticks\": \"\"}, \"colorscale\": [[0.0, \"#0d0887\"], [0.1111111111111111, \"#46039f\"], [0.2222222222222222, \"#7201a8\"], [0.3333333333333333, \"#9c179e\"], [0.4444444444444444, \"#bd3786\"], [0.5555555555555556, \"#d8576b\"], [0.6666666666666666, \"#ed7953\"], [0.7777777777777778, \"#fb9f3a\"], [0.8888888888888888, \"#fdca26\"], [1.0, \"#f0f921\"]], \"type\": \"contour\"}], \"contourcarpet\": [{\"colorbar\": {\"outlinewidth\": 0, \"ticks\": \"\"}, \"type\": \"contourcarpet\"}], \"heatmap\": [{\"colorbar\": {\"outlinewidth\": 0, \"ticks\": \"\"}, \"colorscale\": [[0.0, \"#0d0887\"], [0.1111111111111111, \"#46039f\"], [0.2222222222222222, \"#7201a8\"], [0.3333333333333333, \"#9c179e\"], [0.4444444444444444, \"#bd3786\"], [0.5555555555555556, \"#d8576b\"], [0.6666666666666666, \"#ed7953\"], [0.7777777777777778, \"#fb9f3a\"], [0.8888888888888888, \"#fdca26\"], [1.0, \"#f0f921\"]], \"type\": \"heatmap\"}], \"heatmapgl\": [{\"colorbar\": {\"outlinewidth\": 0, \"ticks\": \"\"}, \"colorscale\": [[0.0, \"#0d0887\"], [0.1111111111111111, \"#46039f\"], [0.2222222222222222, \"#7201a8\"], [0.3333333333333333, \"#9c179e\"], [0.4444444444444444, \"#bd3786\"], [0.5555555555555556, \"#d8576b\"], [0.6666666666666666, \"#ed7953\"], [0.7777777777777778, \"#fb9f3a\"], [0.8888888888888888, \"#fdca26\"], [1.0, \"#f0f921\"]], \"type\": \"heatmapgl\"}], \"histogram\": [{\"marker\": {\"colorbar\": {\"outlinewidth\": 0, \"ticks\": \"\"}}, \"type\": \"histogram\"}], \"histogram2d\": [{\"colorbar\": {\"outlinewidth\": 0, \"ticks\": \"\"}, \"colorscale\": [[0.0, \"#0d0887\"], [0.1111111111111111, \"#46039f\"], [0.2222222222222222, \"#7201a8\"], [0.3333333333333333, \"#9c179e\"], [0.4444444444444444, \"#bd3786\"], [0.5555555555555556, \"#d8576b\"], [0.6666666666666666, \"#ed7953\"], [0.7777777777777778, \"#fb9f3a\"], [0.8888888888888888, \"#fdca26\"], [1.0, \"#f0f921\"]], \"type\": \"histogram2d\"}], \"histogram2dcontour\": [{\"colorbar\": {\"outlinewidth\": 0, \"ticks\": \"\"}, \"colorscale\": [[0.0, \"#0d0887\"], [0.1111111111111111, \"#46039f\"], [0.2222222222222222, \"#7201a8\"], [0.3333333333333333, \"#9c179e\"], [0.4444444444444444, \"#bd3786\"], [0.5555555555555556, \"#d8576b\"], [0.6666666666666666, \"#ed7953\"], [0.7777777777777778, \"#fb9f3a\"], [0.8888888888888888, \"#fdca26\"], [1.0, \"#f0f921\"]], \"type\": \"histogram2dcontour\"}], \"mesh3d\": [{\"colorbar\": {\"outlinewidth\": 0, \"ticks\": \"\"}, \"type\": \"mesh3d\"}], \"parcoords\": [{\"line\": {\"colorbar\": {\"outlinewidth\": 0, \"ticks\": \"\"}}, \"type\": \"parcoords\"}], \"pie\": [{\"automargin\": true, \"type\": \"pie\"}], \"scatter\": [{\"marker\": {\"colorbar\": {\"outlinewidth\": 0, \"ticks\": \"\"}}, \"type\": \"scatter\"}], \"scatter3d\": [{\"line\": {\"colorbar\": {\"outlinewidth\": 0, \"ticks\": \"\"}}, \"marker\": {\"colorbar\": {\"outlinewidth\": 0, \"ticks\": \"\"}}, \"type\": \"scatter3d\"}], \"scattercarpet\": [{\"marker\": {\"colorbar\": {\"outlinewidth\": 0, \"ticks\": \"\"}}, \"type\": \"scattercarpet\"}], \"scattergeo\": [{\"marker\": {\"colorbar\": {\"outlinewidth\": 0, \"ticks\": \"\"}}, \"type\": \"scattergeo\"}], \"scattergl\": [{\"marker\": {\"colorbar\": {\"outlinewidth\": 0, \"ticks\": \"\"}}, \"type\": \"scattergl\"}], \"scattermapbox\": [{\"marker\": {\"colorbar\": {\"outlinewidth\": 0, \"ticks\": \"\"}}, \"type\": \"scattermapbox\"}], \"scatterpolar\": [{\"marker\": {\"colorbar\": {\"outlinewidth\": 0, \"ticks\": \"\"}}, \"type\": \"scatterpolar\"}], \"scatterpolargl\": [{\"marker\": {\"colorbar\": {\"outlinewidth\": 0, \"ticks\": \"\"}}, \"type\": \"scatterpolargl\"}], \"scatterternary\": [{\"marker\": {\"colorbar\": {\"outlinewidth\": 0, \"ticks\": \"\"}}, \"type\": \"scatterternary\"}], \"surface\": [{\"colorbar\": {\"outlinewidth\": 0, \"ticks\": \"\"}, \"colorscale\": [[0.0, \"#0d0887\"], [0.1111111111111111, \"#46039f\"], [0.2222222222222222, \"#7201a8\"], [0.3333333333333333, \"#9c179e\"], [0.4444444444444444, \"#bd3786\"], [0.5555555555555556, \"#d8576b\"], [0.6666666666666666, \"#ed7953\"], [0.7777777777777778, \"#fb9f3a\"], [0.8888888888888888, \"#fdca26\"], [1.0, \"#f0f921\"]], \"type\": \"surface\"}], \"table\": [{\"cells\": {\"fill\": {\"color\": \"#EBF0F8\"}, \"line\": {\"color\": \"white\"}}, \"header\": {\"fill\": {\"color\": \"#C8D4E3\"}, \"line\": {\"color\": \"white\"}}, \"type\": \"table\"}]}, \"layout\": {\"annotationdefaults\": {\"arrowcolor\": \"#2a3f5f\", \"arrowhead\": 0, \"arrowwidth\": 1}, \"autotypenumbers\": \"strict\", \"coloraxis\": {\"colorbar\": {\"outlinewidth\": 0, \"ticks\": \"\"}}, \"colorscale\": {\"diverging\": [[0, \"#8e0152\"], [0.1, \"#c51b7d\"], [0.2, \"#de77ae\"], [0.3, \"#f1b6da\"], [0.4, \"#fde0ef\"], [0.5, \"#f7f7f7\"], [0.6, \"#e6f5d0\"], [0.7, \"#b8e186\"], [0.8, \"#7fbc41\"], [0.9, \"#4d9221\"], [1, \"#276419\"]], \"sequential\": [[0.0, \"#0d0887\"], [0.1111111111111111, \"#46039f\"], [0.2222222222222222, \"#7201a8\"], [0.3333333333333333, \"#9c179e\"], [0.4444444444444444, \"#bd3786\"], [0.5555555555555556, \"#d8576b\"], [0.6666666666666666, \"#ed7953\"], [0.7777777777777778, \"#fb9f3a\"], [0.8888888888888888, \"#fdca26\"], [1.0, \"#f0f921\"]], \"sequentialminus\": [[0.0, \"#0d0887\"], [0.1111111111111111, \"#46039f\"], [0.2222222222222222, \"#7201a8\"], [0.3333333333333333, \"#9c179e\"], [0.4444444444444444, \"#bd3786\"], [0.5555555555555556, \"#d8576b\"], [0.6666666666666666, \"#ed7953\"], [0.7777777777777778, \"#fb9f3a\"], [0.8888888888888888, \"#fdca26\"], [1.0, \"#f0f921\"]]}, \"colorway\": [\"#636efa\", \"#EF553B\", \"#00cc96\", \"#ab63fa\", \"#FFA15A\", \"#19d3f3\", \"#FF6692\", \"#B6E880\", \"#FF97FF\", \"#FECB52\"], \"font\": {\"color\": \"#2a3f5f\"}, \"geo\": {\"bgcolor\": \"white\", \"lakecolor\": \"white\", \"landcolor\": \"#E5ECF6\", \"showlakes\": true, \"showland\": true, \"subunitcolor\": \"white\"}, \"hoverlabel\": {\"align\": \"left\"}, \"hovermode\": \"closest\", \"mapbox\": {\"style\": \"light\"}, \"paper_bgcolor\": \"white\", \"plot_bgcolor\": \"#E5ECF6\", \"polar\": {\"angularaxis\": {\"gridcolor\": \"white\", \"linecolor\": \"white\", \"ticks\": \"\"}, \"bgcolor\": \"#E5ECF6\", \"radialaxis\": {\"gridcolor\": \"white\", \"linecolor\": \"white\", \"ticks\": \"\"}}, \"scene\": {\"xaxis\": {\"backgroundcolor\": \"#E5ECF6\", \"gridcolor\": \"white\", \"gridwidth\": 2, \"linecolor\": \"white\", \"showbackground\": true, \"ticks\": \"\", \"zerolinecolor\": \"white\"}, \"yaxis\": {\"backgroundcolor\": \"#E5ECF6\", \"gridcolor\": \"white\", \"gridwidth\": 2, \"linecolor\": \"white\", \"showbackground\": true, \"ticks\": \"\", \"zerolinecolor\": \"white\"}, \"zaxis\": {\"backgroundcolor\": \"#E5ECF6\", \"gridcolor\": \"white\", \"gridwidth\": 2, \"linecolor\": \"white\", \"showbackground\": true, \"ticks\": \"\", \"zerolinecolor\": \"white\"}}, \"shapedefaults\": {\"line\": {\"color\": \"#2a3f5f\"}}, \"ternary\": {\"aaxis\": {\"gridcolor\": \"white\", \"linecolor\": \"white\", \"ticks\": \"\"}, \"baxis\": {\"gridcolor\": \"white\", \"linecolor\": \"white\", \"ticks\": \"\"}, \"bgcolor\": \"#E5ECF6\", \"caxis\": {\"gridcolor\": \"white\", \"linecolor\": \"white\", \"ticks\": \"\"}}, \"title\": {\"x\": 0.05}, \"xaxis\": {\"automargin\": true, \"gridcolor\": \"white\", \"linecolor\": \"white\", \"ticks\": \"\", \"title\": {\"standoff\": 15}, \"zerolinecolor\": \"white\", \"zerolinewidth\": 2}, \"yaxis\": {\"automargin\": true, \"gridcolor\": \"white\", \"linecolor\": \"white\", \"ticks\": \"\", \"title\": {\"standoff\": 15}, \"zerolinecolor\": \"white\", \"zerolinewidth\": 2}}}, \"width\": 1920},                        {\"responsive\": true}                    ).then(function(){\n",
       "                            \n",
       "var gd = document.getElementById('e94145ea-90fb-4dd2-b36f-ded09fd4c042');\n",
       "var x = new MutationObserver(function (mutations, observer) {{\n",
       "        var display = window.getComputedStyle(gd).display;\n",
       "        if (!display || display === 'none') {{\n",
       "            console.log([gd, 'removed!']);\n",
       "            Plotly.purge(gd);\n",
       "            observer.disconnect();\n",
       "        }}\n",
       "}});\n",
       "\n",
       "// Listen for the removal of the full notebook cells\n",
       "var notebookContainer = gd.closest('#notebook-container');\n",
       "if (notebookContainer) {{\n",
       "    x.observe(notebookContainer, {childList: true});\n",
       "}}\n",
       "\n",
       "// Listen for the clearing of the current output cell\n",
       "var outputEl = gd.closest('.output');\n",
       "if (outputEl) {{\n",
       "    x.observe(outputEl, {childList: true});\n",
       "}}\n",
       "\n",
       "                        })                };                });            </script>        </div>"
      ]
     },
     "metadata": {},
     "output_type": "display_data"
    }
   ],
   "source": [
    "fig = px.scatter_3d(plot_data_iris, x='Лепесток (длина)', y='Лепесток (ширина)', z='Чашелистик (длина)',\n",
    "              color='Вид', width=1920, height=1080)\n",
    "fig.show()"
   ]
  },
  {
   "cell_type": "markdown",
   "metadata": {},
   "source": [
    "## Математическое ожидание"
   ]
  },
  {
   "cell_type": "code",
   "execution_count": 47,
   "metadata": {},
   "outputs": [
    {
     "name": "stdout",
     "output_type": "stream",
     "text": [
      "0.12176400000000002\n",
      "0.261104\n",
      "0.39625600000000005\n",
      "\n",
      "0.3489469873777391\n",
      "0.5109833656783751\n",
      "0.6294886813914926\n"
     ]
    }
   ],
   "source": [
    "setosa = []\n",
    "virginica = []\n",
    "versicolor = []\n",
    "\n",
    "for d in data:\n",
    "    if d['result'][0] == 1:\n",
    "        setosa.append(d['features'])\n",
    "    elif d['result'][1] == 1:\n",
    "        versicolor.append(d['features'])\n",
    "    else:\n",
    "        virginica.append(d['features'])\n",
    "setosa = np.array(setosa)\n",
    "versicolor = np.array(versicolor)\n",
    "virginica = np.array(virginica)\n",
    "\n",
    "print(setosa[0:,0].var())\n",
    "print(versicolor[0:,0].var())\n",
    "print(virginica[0:,0].var())\n",
    "print()\n",
    "print(setosa[0:,0].std())\n",
    "print(versicolor[0:,0].std())\n",
    "print(virginica[0:,0].std())\n",
    "# plt.plot(virginica[0:,0].var())\n",
    "# plt.ylabel('Математическое ожидание для Virginica (Чашелистик (длина))')\n",
    "# plt.xlabel('Цветок')\n",
    "# plt.show()"
   ]
  }
 ],
 "metadata": {
  "kernelspec": {
   "display_name": "Python 3",
   "language": "python",
   "name": "python3"
  },
  "language_info": {
   "codemirror_mode": {
    "name": "ipython",
    "version": 3
   },
   "file_extension": ".py",
   "mimetype": "text/x-python",
   "name": "python",
   "nbconvert_exporter": "python",
   "pygments_lexer": "ipython3",
   "version": "3.8.5"
  }
 },
 "nbformat": 4,
 "nbformat_minor": 4
}
