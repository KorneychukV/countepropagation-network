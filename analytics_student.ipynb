{
 "cells": [
  {
   "cell_type": "code",
   "execution_count": 1,
   "metadata": {},
   "outputs": [],
   "source": [
    "import numpy as np\n",
    "import pandas as pd\n",
    "import csv\n",
    "import random\n",
    "import math\n",
    "from datetime import datetime\n",
    "import matplotlib.pyplot as plt"
   ]
  },
  {
   "cell_type": "code",
   "execution_count": 2,
   "metadata": {},
   "outputs": [],
   "source": [
    "def getBdate(bdate):\n",
    "  return datetime.strptime(bdate, '%d.%m.%Y').month"
   ]
  },
  {
   "cell_type": "code",
   "execution_count": 3,
   "metadata": {},
   "outputs": [],
   "source": [
    "# количество признаков входного слоя\n",
    "feature_count = 5\n",
    "\n",
    "drop_column = ['№п/п', 'Основание поступления']\n",
    "gender_dict = {'Мужской': 1,'Женский': 0}\n",
    "\n",
    "# подготовленный датасет\n",
    "data = []\n",
    "\n",
    "df = pd.read_csv('data/input.csv', sep=',')\n",
    "df.drop(drop_column, axis = 1, inplace = True)\n",
    "\n",
    "# переводим пол в числовой формат, т. к. это будет один из признаков\n",
    "df['Пол'].replace(gender_dict, inplace = True) \n",
    "\n",
    "# приводим баллы по ЕГЭ к диапозону от 0 до 1\n",
    "df.astype({'Баллы ЕГЭ': 'float'}).dtypes\n",
    "\n",
    "fios = df['ФИО'].unique()\n",
    "subjects = df['Предметы ЕГЭ'].unique()\n",
    "cities = df['Населенный пункт по прописке'].unique()\n",
    "schools = df['Учебное заведение'].unique()\n",
    "classes = df['Специальность/направление'].unique()\n",
    "\n",
    "for el in fios:\n",
    "    student = df[df['ФИО'] == el]\n",
    "    features = np.zeros((feature_count))\n",
    "    for i in range(len(subjects)):\n",
    "        res = student.loc[student['Предметы ЕГЭ'] == subjects[i], 'Баллы ЕГЭ'].values\n",
    "        features[i] = res[0] if len(res) else 0\n",
    "#     features[5] = student.iloc[0]['Пол']\n",
    "#     features[6] = getBdate(student.iloc[0]['Дата рождения'])\n",
    "    \n",
    "#     city_index = np.where(cities == student.iloc[0]['Населенный пункт по прописке'])[0]\n",
    "#     features[7] = 0 if len(city_index) == 0 else city_index[0]\n",
    "    \n",
    "#     school_number = np.where(schools == student.iloc[0]['Учебное заведение'])[0]\n",
    "#     features[8] = 0 if len(school_number) == 0 else school_number[0]\n",
    "    \n",
    "#     for i in range(len(features)):\n",
    "#         sum = 0 \n",
    "#         for j in range(len(features)):\n",
    "#             sum += features[j] ** 2\n",
    "#         features[i] = features[i] / math.sqrt(sum)\n",
    "#     features = (features * features.mean()) / features.std()\n",
    "    res = np.zeros((len(classes)))\n",
    "    res[np.where(classes == student.iloc[0]['Специальность/направление'])[0].item(0)] = 1\n",
    "    \n",
    "    temp_data = dict(fio = el, features = features, result = res)\n",
    "    \n",
    "    data.append(temp_data)"
   ]
  },
  {
   "cell_type": "markdown",
   "metadata": {},
   "source": [
    "# Результаты ЕГЭ"
   ]
  },
  {
   "cell_type": "markdown",
   "metadata": {},
   "source": [
    "## Русский, математика, информатика"
   ]
  },
  {
   "cell_type": "code",
   "execution_count": 4,
   "metadata": {},
   "outputs": [],
   "source": [
    "computer_science_classes = df.loc[df['Предметы ЕГЭ'] == 'Информатика и ИКТ', 'Специальность/направление'].unique()\n",
    "nature_science_classes = df.loc[df['Предметы ЕГЭ'] == 'Физика', 'Специальность/направление'].unique()\n",
    "social_science_classes = df.loc[df['Предметы ЕГЭ'] == 'Обществознание', 'Специальность/направление'].unique()"
   ]
  },
  {
   "cell_type": "code",
   "execution_count": 5,
   "metadata": {},
   "outputs": [],
   "source": [
    "computer_science = []\n",
    "nature_science = []\n",
    "social_science = []\n",
    "\n",
    "for student in data:\n",
    "#     print(classes[np.where(student['result'] == 1)[0][0]] + ' ' + str(np.where(student['result'] == 1)[0][0]))\n",
    "    if classes[np.where(student['result'] == 1)[0][0]] in computer_science_classes:\n",
    "        computer_science.append(student)\n",
    "    if classes[np.where(student['result'] == 1)[0][0]] in nature_science_classes:\n",
    "        nature_science.append(student)\n",
    "    if classes[np.where(student['result'] == 1)[0][0]] in social_science_classes:\n",
    "        social_science.append(student)"
   ]
  },
  {
   "cell_type": "code",
   "execution_count": 6,
   "metadata": {},
   "outputs": [],
   "source": [
    "data_computer_scince = np.array([['Направление', 'Информатика', 'Математика', 'Русский язык']])\n",
    "data_nature_science = np.array([['Направление', 'Физика', 'Математика', 'Русский язык']])\n",
    "data_social_science = np.array([['Направление', 'Обществознание', 'Математика', 'Русский язык']])\n",
    "\n",
    "\n",
    "for student in computer_science:\n",
    "    data_computer_scince = np.append(data_computer_scince, \n",
    "                                    [[classes[np.where(student['result'] == 1)[0][0]],\n",
    "                                     student['features'][1], student['features'][0], student['features'][2]]],\n",
    "                                    axis = 0)\n",
    "    \n",
    "plot_data_computer_scince = pd.DataFrame(\n",
    "    data = data_computer_scince[1:,0:],\n",
    "    columns = data_computer_scince[0,0:])\n",
    "#-----------------------------------------------------------\n",
    "for student in nature_science:\n",
    "    data_nature_science = np.append(data_nature_science, \n",
    "                                    [[classes[np.where(student['result'] == 1)[0][0]],\n",
    "                                     student['features'][3], student['features'][0], student['features'][2]]],\n",
    "                                    axis = 0)\n",
    "    \n",
    "plot_data_nature_science = pd.DataFrame(\n",
    "    data = data_nature_science[1:,0:],\n",
    "    columns = data_nature_science[0,0:])\n",
    "#-----------------------------------------------------------\n",
    "for student in social_science:\n",
    "    data_social_science = np.append(data_social_science, \n",
    "                                    [[classes[np.where(student['result'] == 1)[0][0]],\n",
    "                                     student['features'][4], student['features'][0], student['features'][2]]],\n",
    "                                    axis = 0)\n",
    "    \n",
    "plot_data_social_science = pd.DataFrame(\n",
    "    data = data_social_science[1:,0:],\n",
    "    columns = data_social_science[0,0:])"
   ]
  },
  {
   "cell_type": "code",
   "execution_count": 16,
   "metadata": {},
   "outputs": [
    {
     "data": {
      "application/vnd.plotly.v1+json": {
       "config": {
        "plotlyServerURL": "https://plot.ly"
       },
       "data": [
        {
         "hovertemplate": "Направление=Информатика и вычислительная техника<br>Информатика=%{x}<br>Математика=%{y}<br>Русский язык=%{z}<extra></extra>",
         "legendgroup": "Информатика и вычислительная техника",
         "marker": {
          "color": "#636efa",
          "symbol": "circle"
         },
         "mode": "markers",
         "name": "Информатика и вычислительная техника",
         "scene": "scene",
         "showlegend": true,
         "type": "scatter3d",
         "x": [
          "44.0",
          "53.0",
          "70.0",
          "61.0",
          "57.0",
          "0.0",
          "81.0",
          "59.0",
          "51.0",
          "57.0",
          "40.0",
          "40.0",
          "70.0",
          "77.0",
          "70.0",
          "62.0",
          "53.0",
          "50.0",
          "55.0",
          "50.0",
          "64.0",
          "66.0",
          "66.0",
          "42.0",
          "62.0",
          "55.0",
          "57.0",
          "0.0",
          "64.0",
          "46.0",
          "44.0",
          "61.0",
          "55.0",
          "57.0",
          "59.0",
          "46.0",
          "72.0",
          "62.0",
          "40.0",
          "68.0",
          "46.0",
          "83.0",
          "59.0",
          "42.0",
          "57.0",
          "40.0",
          "55.0",
          "57.0",
          "66.0",
          "64.0",
          "55.0",
          "79.0",
          "59.0",
          "48.0",
          "55.0",
          "55.0",
          "66.0",
          "42.0",
          "46.0",
          "73.0",
          "53.0",
          "57.0",
          "64.0",
          "51.0",
          "57.0",
          "53.0",
          "64.0",
          "81.0",
          "59.0",
          "53.0",
          "70.0",
          "70.0",
          "72.0",
          "62.0",
          "72.0",
          "66.0",
          "70.0",
          "48.0",
          "44.0"
         ],
         "y": [
          "27.0",
          "39.0",
          "70.0",
          "45.0",
          "50.0",
          "0.0",
          "82.0",
          "56.0",
          "33.0",
          "70.0",
          "27.0",
          "45.0",
          "56.0",
          "33.0",
          "56.0",
          "62.0",
          "62.0",
          "62.0",
          "45.0",
          "45.0",
          "62.0",
          "56.0",
          "50.0",
          "33.0",
          "45.0",
          "56.0",
          "56.0",
          "27.0",
          "39.0",
          "50.0",
          "39.0",
          "68.0",
          "82.0",
          "45.0",
          "70.0",
          "33.0",
          "50.0",
          "62.0",
          "33.0",
          "68.0",
          "70.0",
          "72.0",
          "62.0",
          "68.0",
          "56.0",
          "33.0",
          "56.0",
          "68.0",
          "68.0",
          "56.0",
          "50.0",
          "56.0",
          "68.0",
          "27.0",
          "50.0",
          "68.0",
          "56.0",
          "45.0",
          "33.0",
          "50.0",
          "68.0",
          "62.0",
          "45.0",
          "27.0",
          "50.0",
          "39.0",
          "68.0",
          "50.0",
          "39.0",
          "50.0",
          "50.0",
          "56.0",
          "70.0",
          "32.0",
          "56.0",
          "70.0",
          "68.0",
          "33.0",
          "27.0"
         ],
         "z": [
          "50.0",
          "65.0",
          "85.0",
          "73.0",
          "70.0",
          "64.0",
          "85.0",
          "66.0",
          "70.0",
          "71.0",
          "40.0",
          "91.0",
          "69.0",
          "71.0",
          "69.0",
          "80.0",
          "71.0",
          "69.0",
          "54.0",
          "67.0",
          "78.0",
          "65.0",
          "70.0",
          "64.0",
          "78.0",
          "64.0",
          "71.0",
          "43.0",
          "71.0",
          "62.0",
          "64.0",
          "89.0",
          "91.0",
          "61.0",
          "56.0",
          "56.0",
          "65.0",
          "78.0",
          "59.0",
          "65.0",
          "69.0",
          "65.0",
          "55.0",
          "64.0",
          "82.0",
          "64.0",
          "69.0",
          "71.0",
          "66.0",
          "65.0",
          "62.0",
          "67.0",
          "57.0",
          "57.0",
          "73.0",
          "76.0",
          "76.0",
          "94.0",
          "71.0",
          "76.0",
          "70.0",
          "64.0",
          "64.0",
          "51.0",
          "82.0",
          "70.0",
          "78.0",
          "71.0",
          "67.0",
          "82.0",
          "78.0",
          "69.0",
          "70.0",
          "72.0",
          "69.0",
          "43.0",
          "60.0",
          "51.0",
          "59.0"
         ]
        },
        {
         "hovertemplate": "Направление=Прикладная информатика (в экономике)<br>Информатика=%{x}<br>Математика=%{y}<br>Русский язык=%{z}<extra></extra>",
         "legendgroup": "Прикладная информатика (в экономике)",
         "marker": {
          "color": "#EF553B",
          "symbol": "circle"
         },
         "mode": "markers",
         "name": "Прикладная информатика (в экономике)",
         "scene": "scene",
         "showlegend": true,
         "type": "scatter3d",
         "x": [
          "51.0",
          "61.0",
          "46.0",
          "53.0",
          "51.0",
          "50.0",
          "50.0",
          "53.0",
          "44.0",
          "66.0",
          "55.0",
          "72.0",
          "53.0",
          "70.0",
          "70.0",
          "77.0",
          "55.0",
          "59.0",
          "79.0",
          "55.0",
          "57.0",
          "72.0",
          "53.0",
          "48.0",
          "61.0",
          "0.0",
          "46.0",
          "53.0",
          "51.0",
          "55.0",
          "59.0",
          "44.0",
          "42.0",
          "46.0",
          "49.0"
         ],
         "y": [
          "56.0",
          "62.0",
          "74.0",
          "39.0",
          "62.0",
          "45.0",
          "56.0",
          "45.0",
          "39.0",
          "50.0",
          "45.0",
          "27.0",
          "70.0",
          "56.0",
          "70.0",
          "78.0",
          "56.0",
          "50.0",
          "90.0",
          "45.0",
          "33.0",
          "74.0",
          "56.0",
          "45.0",
          "70.0",
          "0.0",
          "50.0",
          "33.0",
          "45.0",
          "33.0",
          "33.0",
          "39.0",
          "33.0",
          "56.0",
          "48.0"
         ],
         "z": [
          "69.0",
          "57.0",
          "66.0",
          "76.0",
          "87.0",
          "85.0",
          "65.0",
          "48.0",
          "55.0",
          "70.0",
          "61.0",
          "72.0",
          "70.0",
          "72.0",
          "76.0",
          "72.0",
          "66.0",
          "64.0",
          "96.0",
          "73.0",
          "65.0",
          "76.0",
          "76.0",
          "59.0",
          "70.0",
          "71.0",
          "78.0",
          "71.0",
          "78.0",
          "70.0",
          "78.0",
          "60.0",
          "69.0",
          "73.0",
          "60.0"
         ]
        },
        {
         "hovertemplate": "Направление=Программная инженерия<br>Информатика=%{x}<br>Математика=%{y}<br>Русский язык=%{z}<extra></extra>",
         "legendgroup": "Программная инженерия",
         "marker": {
          "color": "#00cc96",
          "symbol": "circle"
         },
         "mode": "markers",
         "name": "Программная инженерия",
         "scene": "scene",
         "showlegend": true,
         "type": "scatter3d",
         "x": [
          "55.0",
          "61.0",
          "91.0",
          "88.0",
          "48.0",
          "88.0",
          "44.0",
          "66.0",
          "57.0",
          "46.0",
          "91.0",
          "55.0",
          "68.0",
          "73.0",
          "73.0",
          "88.0",
          "46.0",
          "70.0",
          "77.0",
          "68.0",
          "57.0",
          "62.0",
          "84.0",
          "77.0",
          "83.0",
          "51.0",
          "55.0",
          "55.0",
          "62.0",
          "84.0",
          "51.0",
          "79.0",
          "70.0",
          "59.0",
          "0.0",
          "42.0",
          "62.0",
          "68.0",
          "75.0",
          "61.0",
          "79.0",
          "64.0",
          "55.0",
          "57.0",
          "72.0",
          "77.0",
          "79.0",
          "72.0"
         ],
         "y": [
          "50.0",
          "68.0",
          "92.0",
          "62.0",
          "50.0",
          "78.0",
          "39.0",
          "56.0",
          "56.0",
          "45.0",
          "78.0",
          "27.0",
          "68.0",
          "72.0",
          "62.0",
          "72.0",
          "39.0",
          "84.0",
          "76.0",
          "74.0",
          "76.0",
          "50.0",
          "72.0",
          "50.0",
          "70.0",
          "39.0",
          "56.0",
          "62.0",
          "74.0",
          "84.0",
          "45.0",
          "70.0",
          "70.0",
          "72.0",
          "0.0",
          "39.0",
          "70.0",
          "70.0",
          "88.0",
          "50.0",
          "68.0",
          "50.0",
          "70.0",
          "62.0",
          "68.0",
          "70.0",
          "74.0",
          "72.0"
         ],
         "z": [
          "96.0",
          "66.0",
          "89.0",
          "78.0",
          "80.0",
          "64.0",
          "50.0",
          "73.0",
          "60.0",
          "66.0",
          "82.0",
          "59.0",
          "73.0",
          "80.0",
          "82.0",
          "78.0",
          "65.0",
          "89.0",
          "80.0",
          "85.0",
          "57.0",
          "73.0",
          "73.0",
          "65.0",
          "78.0",
          "67.0",
          "89.0",
          "89.0",
          "87.0",
          "94.0",
          "60.0",
          "78.0",
          "85.0",
          "70.0",
          "49.0",
          "53.0",
          "82.0",
          "96.0",
          "85.0",
          "61.0",
          "73.0",
          "66.0",
          "71.0",
          "82.0",
          "62.0",
          "78.0",
          "67.0",
          "78.0"
         ]
        }
       ],
       "layout": {
        "height": 1080,
        "legend": {
         "title": {
          "text": "Направление"
         },
         "tracegroupgap": 0
        },
        "margin": {
         "t": 60
        },
        "scene": {
         "domain": {
          "x": [
           0,
           1
          ],
          "y": [
           0,
           1
          ]
         },
         "xaxis": {
          "title": {
           "text": "Информатика"
          }
         },
         "yaxis": {
          "title": {
           "text": "Математика"
          }
         },
         "zaxis": {
          "title": {
           "text": "Русский язык"
          }
         }
        },
        "template": {
         "data": {
          "bar": [
           {
            "error_x": {
             "color": "#2a3f5f"
            },
            "error_y": {
             "color": "#2a3f5f"
            },
            "marker": {
             "line": {
              "color": "#E5ECF6",
              "width": 0.5
             }
            },
            "type": "bar"
           }
          ],
          "barpolar": [
           {
            "marker": {
             "line": {
              "color": "#E5ECF6",
              "width": 0.5
             }
            },
            "type": "barpolar"
           }
          ],
          "carpet": [
           {
            "aaxis": {
             "endlinecolor": "#2a3f5f",
             "gridcolor": "white",
             "linecolor": "white",
             "minorgridcolor": "white",
             "startlinecolor": "#2a3f5f"
            },
            "baxis": {
             "endlinecolor": "#2a3f5f",
             "gridcolor": "white",
             "linecolor": "white",
             "minorgridcolor": "white",
             "startlinecolor": "#2a3f5f"
            },
            "type": "carpet"
           }
          ],
          "choropleth": [
           {
            "colorbar": {
             "outlinewidth": 0,
             "ticks": ""
            },
            "type": "choropleth"
           }
          ],
          "contour": [
           {
            "colorbar": {
             "outlinewidth": 0,
             "ticks": ""
            },
            "colorscale": [
             [
              0,
              "#0d0887"
             ],
             [
              0.1111111111111111,
              "#46039f"
             ],
             [
              0.2222222222222222,
              "#7201a8"
             ],
             [
              0.3333333333333333,
              "#9c179e"
             ],
             [
              0.4444444444444444,
              "#bd3786"
             ],
             [
              0.5555555555555556,
              "#d8576b"
             ],
             [
              0.6666666666666666,
              "#ed7953"
             ],
             [
              0.7777777777777778,
              "#fb9f3a"
             ],
             [
              0.8888888888888888,
              "#fdca26"
             ],
             [
              1,
              "#f0f921"
             ]
            ],
            "type": "contour"
           }
          ],
          "contourcarpet": [
           {
            "colorbar": {
             "outlinewidth": 0,
             "ticks": ""
            },
            "type": "contourcarpet"
           }
          ],
          "heatmap": [
           {
            "colorbar": {
             "outlinewidth": 0,
             "ticks": ""
            },
            "colorscale": [
             [
              0,
              "#0d0887"
             ],
             [
              0.1111111111111111,
              "#46039f"
             ],
             [
              0.2222222222222222,
              "#7201a8"
             ],
             [
              0.3333333333333333,
              "#9c179e"
             ],
             [
              0.4444444444444444,
              "#bd3786"
             ],
             [
              0.5555555555555556,
              "#d8576b"
             ],
             [
              0.6666666666666666,
              "#ed7953"
             ],
             [
              0.7777777777777778,
              "#fb9f3a"
             ],
             [
              0.8888888888888888,
              "#fdca26"
             ],
             [
              1,
              "#f0f921"
             ]
            ],
            "type": "heatmap"
           }
          ],
          "heatmapgl": [
           {
            "colorbar": {
             "outlinewidth": 0,
             "ticks": ""
            },
            "colorscale": [
             [
              0,
              "#0d0887"
             ],
             [
              0.1111111111111111,
              "#46039f"
             ],
             [
              0.2222222222222222,
              "#7201a8"
             ],
             [
              0.3333333333333333,
              "#9c179e"
             ],
             [
              0.4444444444444444,
              "#bd3786"
             ],
             [
              0.5555555555555556,
              "#d8576b"
             ],
             [
              0.6666666666666666,
              "#ed7953"
             ],
             [
              0.7777777777777778,
              "#fb9f3a"
             ],
             [
              0.8888888888888888,
              "#fdca26"
             ],
             [
              1,
              "#f0f921"
             ]
            ],
            "type": "heatmapgl"
           }
          ],
          "histogram": [
           {
            "marker": {
             "colorbar": {
              "outlinewidth": 0,
              "ticks": ""
             }
            },
            "type": "histogram"
           }
          ],
          "histogram2d": [
           {
            "colorbar": {
             "outlinewidth": 0,
             "ticks": ""
            },
            "colorscale": [
             [
              0,
              "#0d0887"
             ],
             [
              0.1111111111111111,
              "#46039f"
             ],
             [
              0.2222222222222222,
              "#7201a8"
             ],
             [
              0.3333333333333333,
              "#9c179e"
             ],
             [
              0.4444444444444444,
              "#bd3786"
             ],
             [
              0.5555555555555556,
              "#d8576b"
             ],
             [
              0.6666666666666666,
              "#ed7953"
             ],
             [
              0.7777777777777778,
              "#fb9f3a"
             ],
             [
              0.8888888888888888,
              "#fdca26"
             ],
             [
              1,
              "#f0f921"
             ]
            ],
            "type": "histogram2d"
           }
          ],
          "histogram2dcontour": [
           {
            "colorbar": {
             "outlinewidth": 0,
             "ticks": ""
            },
            "colorscale": [
             [
              0,
              "#0d0887"
             ],
             [
              0.1111111111111111,
              "#46039f"
             ],
             [
              0.2222222222222222,
              "#7201a8"
             ],
             [
              0.3333333333333333,
              "#9c179e"
             ],
             [
              0.4444444444444444,
              "#bd3786"
             ],
             [
              0.5555555555555556,
              "#d8576b"
             ],
             [
              0.6666666666666666,
              "#ed7953"
             ],
             [
              0.7777777777777778,
              "#fb9f3a"
             ],
             [
              0.8888888888888888,
              "#fdca26"
             ],
             [
              1,
              "#f0f921"
             ]
            ],
            "type": "histogram2dcontour"
           }
          ],
          "mesh3d": [
           {
            "colorbar": {
             "outlinewidth": 0,
             "ticks": ""
            },
            "type": "mesh3d"
           }
          ],
          "parcoords": [
           {
            "line": {
             "colorbar": {
              "outlinewidth": 0,
              "ticks": ""
             }
            },
            "type": "parcoords"
           }
          ],
          "pie": [
           {
            "automargin": true,
            "type": "pie"
           }
          ],
          "scatter": [
           {
            "marker": {
             "colorbar": {
              "outlinewidth": 0,
              "ticks": ""
             }
            },
            "type": "scatter"
           }
          ],
          "scatter3d": [
           {
            "line": {
             "colorbar": {
              "outlinewidth": 0,
              "ticks": ""
             }
            },
            "marker": {
             "colorbar": {
              "outlinewidth": 0,
              "ticks": ""
             }
            },
            "type": "scatter3d"
           }
          ],
          "scattercarpet": [
           {
            "marker": {
             "colorbar": {
              "outlinewidth": 0,
              "ticks": ""
             }
            },
            "type": "scattercarpet"
           }
          ],
          "scattergeo": [
           {
            "marker": {
             "colorbar": {
              "outlinewidth": 0,
              "ticks": ""
             }
            },
            "type": "scattergeo"
           }
          ],
          "scattergl": [
           {
            "marker": {
             "colorbar": {
              "outlinewidth": 0,
              "ticks": ""
             }
            },
            "type": "scattergl"
           }
          ],
          "scattermapbox": [
           {
            "marker": {
             "colorbar": {
              "outlinewidth": 0,
              "ticks": ""
             }
            },
            "type": "scattermapbox"
           }
          ],
          "scatterpolar": [
           {
            "marker": {
             "colorbar": {
              "outlinewidth": 0,
              "ticks": ""
             }
            },
            "type": "scatterpolar"
           }
          ],
          "scatterpolargl": [
           {
            "marker": {
             "colorbar": {
              "outlinewidth": 0,
              "ticks": ""
             }
            },
            "type": "scatterpolargl"
           }
          ],
          "scatterternary": [
           {
            "marker": {
             "colorbar": {
              "outlinewidth": 0,
              "ticks": ""
             }
            },
            "type": "scatterternary"
           }
          ],
          "surface": [
           {
            "colorbar": {
             "outlinewidth": 0,
             "ticks": ""
            },
            "colorscale": [
             [
              0,
              "#0d0887"
             ],
             [
              0.1111111111111111,
              "#46039f"
             ],
             [
              0.2222222222222222,
              "#7201a8"
             ],
             [
              0.3333333333333333,
              "#9c179e"
             ],
             [
              0.4444444444444444,
              "#bd3786"
             ],
             [
              0.5555555555555556,
              "#d8576b"
             ],
             [
              0.6666666666666666,
              "#ed7953"
             ],
             [
              0.7777777777777778,
              "#fb9f3a"
             ],
             [
              0.8888888888888888,
              "#fdca26"
             ],
             [
              1,
              "#f0f921"
             ]
            ],
            "type": "surface"
           }
          ],
          "table": [
           {
            "cells": {
             "fill": {
              "color": "#EBF0F8"
             },
             "line": {
              "color": "white"
             }
            },
            "header": {
             "fill": {
              "color": "#C8D4E3"
             },
             "line": {
              "color": "white"
             }
            },
            "type": "table"
           }
          ]
         },
         "layout": {
          "annotationdefaults": {
           "arrowcolor": "#2a3f5f",
           "arrowhead": 0,
           "arrowwidth": 1
          },
          "autotypenumbers": "strict",
          "coloraxis": {
           "colorbar": {
            "outlinewidth": 0,
            "ticks": ""
           }
          },
          "colorscale": {
           "diverging": [
            [
             0,
             "#8e0152"
            ],
            [
             0.1,
             "#c51b7d"
            ],
            [
             0.2,
             "#de77ae"
            ],
            [
             0.3,
             "#f1b6da"
            ],
            [
             0.4,
             "#fde0ef"
            ],
            [
             0.5,
             "#f7f7f7"
            ],
            [
             0.6,
             "#e6f5d0"
            ],
            [
             0.7,
             "#b8e186"
            ],
            [
             0.8,
             "#7fbc41"
            ],
            [
             0.9,
             "#4d9221"
            ],
            [
             1,
             "#276419"
            ]
           ],
           "sequential": [
            [
             0,
             "#0d0887"
            ],
            [
             0.1111111111111111,
             "#46039f"
            ],
            [
             0.2222222222222222,
             "#7201a8"
            ],
            [
             0.3333333333333333,
             "#9c179e"
            ],
            [
             0.4444444444444444,
             "#bd3786"
            ],
            [
             0.5555555555555556,
             "#d8576b"
            ],
            [
             0.6666666666666666,
             "#ed7953"
            ],
            [
             0.7777777777777778,
             "#fb9f3a"
            ],
            [
             0.8888888888888888,
             "#fdca26"
            ],
            [
             1,
             "#f0f921"
            ]
           ],
           "sequentialminus": [
            [
             0,
             "#0d0887"
            ],
            [
             0.1111111111111111,
             "#46039f"
            ],
            [
             0.2222222222222222,
             "#7201a8"
            ],
            [
             0.3333333333333333,
             "#9c179e"
            ],
            [
             0.4444444444444444,
             "#bd3786"
            ],
            [
             0.5555555555555556,
             "#d8576b"
            ],
            [
             0.6666666666666666,
             "#ed7953"
            ],
            [
             0.7777777777777778,
             "#fb9f3a"
            ],
            [
             0.8888888888888888,
             "#fdca26"
            ],
            [
             1,
             "#f0f921"
            ]
           ]
          },
          "colorway": [
           "#636efa",
           "#EF553B",
           "#00cc96",
           "#ab63fa",
           "#FFA15A",
           "#19d3f3",
           "#FF6692",
           "#B6E880",
           "#FF97FF",
           "#FECB52"
          ],
          "font": {
           "color": "#2a3f5f"
          },
          "geo": {
           "bgcolor": "white",
           "lakecolor": "white",
           "landcolor": "#E5ECF6",
           "showlakes": true,
           "showland": true,
           "subunitcolor": "white"
          },
          "hoverlabel": {
           "align": "left"
          },
          "hovermode": "closest",
          "mapbox": {
           "style": "light"
          },
          "paper_bgcolor": "white",
          "plot_bgcolor": "#E5ECF6",
          "polar": {
           "angularaxis": {
            "gridcolor": "white",
            "linecolor": "white",
            "ticks": ""
           },
           "bgcolor": "#E5ECF6",
           "radialaxis": {
            "gridcolor": "white",
            "linecolor": "white",
            "ticks": ""
           }
          },
          "scene": {
           "xaxis": {
            "backgroundcolor": "#E5ECF6",
            "gridcolor": "white",
            "gridwidth": 2,
            "linecolor": "white",
            "showbackground": true,
            "ticks": "",
            "zerolinecolor": "white"
           },
           "yaxis": {
            "backgroundcolor": "#E5ECF6",
            "gridcolor": "white",
            "gridwidth": 2,
            "linecolor": "white",
            "showbackground": true,
            "ticks": "",
            "zerolinecolor": "white"
           },
           "zaxis": {
            "backgroundcolor": "#E5ECF6",
            "gridcolor": "white",
            "gridwidth": 2,
            "linecolor": "white",
            "showbackground": true,
            "ticks": "",
            "zerolinecolor": "white"
           }
          },
          "shapedefaults": {
           "line": {
            "color": "#2a3f5f"
           }
          },
          "ternary": {
           "aaxis": {
            "gridcolor": "white",
            "linecolor": "white",
            "ticks": ""
           },
           "baxis": {
            "gridcolor": "white",
            "linecolor": "white",
            "ticks": ""
           },
           "bgcolor": "#E5ECF6",
           "caxis": {
            "gridcolor": "white",
            "linecolor": "white",
            "ticks": ""
           }
          },
          "title": {
           "x": 0.05
          },
          "xaxis": {
           "automargin": true,
           "gridcolor": "white",
           "linecolor": "white",
           "ticks": "",
           "title": {
            "standoff": 15
           },
           "zerolinecolor": "white",
           "zerolinewidth": 2
          },
          "yaxis": {
           "automargin": true,
           "gridcolor": "white",
           "linecolor": "white",
           "ticks": "",
           "title": {
            "standoff": 15
           },
           "zerolinecolor": "white",
           "zerolinewidth": 2
          }
         }
        },
        "width": 1920
       }
      },
      "text/html": [
       "<div>                            <div id=\"1c5a3773-e1e7-4b18-a0a9-043d8b96d0e7\" class=\"plotly-graph-div\" style=\"height:1080px; width:1920px;\"></div>            <script type=\"text/javascript\">                require([\"plotly\"], function(Plotly) {                    window.PLOTLYENV=window.PLOTLYENV || {};                                    if (document.getElementById(\"1c5a3773-e1e7-4b18-a0a9-043d8b96d0e7\")) {                    Plotly.newPlot(                        \"1c5a3773-e1e7-4b18-a0a9-043d8b96d0e7\",                        [{\"hovertemplate\": \"\\u041d\\u0430\\u043f\\u0440\\u0430\\u0432\\u043b\\u0435\\u043d\\u0438\\u0435=\\u0418\\u043d\\u0444\\u043e\\u0440\\u043c\\u0430\\u0442\\u0438\\u043a\\u0430 \\u0438 \\u0432\\u044b\\u0447\\u0438\\u0441\\u043b\\u0438\\u0442\\u0435\\u043b\\u044c\\u043d\\u0430\\u044f \\u0442\\u0435\\u0445\\u043d\\u0438\\u043a\\u0430<br>\\u0418\\u043d\\u0444\\u043e\\u0440\\u043c\\u0430\\u0442\\u0438\\u043a\\u0430=%{x}<br>\\u041c\\u0430\\u0442\\u0435\\u043c\\u0430\\u0442\\u0438\\u043a\\u0430=%{y}<br>\\u0420\\u0443\\u0441\\u0441\\u043a\\u0438\\u0439 \\u044f\\u0437\\u044b\\u043a=%{z}<extra></extra>\", \"legendgroup\": \"\\u0418\\u043d\\u0444\\u043e\\u0440\\u043c\\u0430\\u0442\\u0438\\u043a\\u0430 \\u0438 \\u0432\\u044b\\u0447\\u0438\\u0441\\u043b\\u0438\\u0442\\u0435\\u043b\\u044c\\u043d\\u0430\\u044f \\u0442\\u0435\\u0445\\u043d\\u0438\\u043a\\u0430\", \"marker\": {\"color\": \"#636efa\", \"symbol\": \"circle\"}, \"mode\": \"markers\", \"name\": \"\\u0418\\u043d\\u0444\\u043e\\u0440\\u043c\\u0430\\u0442\\u0438\\u043a\\u0430 \\u0438 \\u0432\\u044b\\u0447\\u0438\\u0441\\u043b\\u0438\\u0442\\u0435\\u043b\\u044c\\u043d\\u0430\\u044f \\u0442\\u0435\\u0445\\u043d\\u0438\\u043a\\u0430\", \"scene\": \"scene\", \"showlegend\": true, \"type\": \"scatter3d\", \"x\": [\"44.0\", \"53.0\", \"70.0\", \"61.0\", \"57.0\", \"0.0\", \"81.0\", \"59.0\", \"51.0\", \"57.0\", \"40.0\", \"40.0\", \"70.0\", \"77.0\", \"70.0\", \"62.0\", \"53.0\", \"50.0\", \"55.0\", \"50.0\", \"64.0\", \"66.0\", \"66.0\", \"42.0\", \"62.0\", \"55.0\", \"57.0\", \"0.0\", \"64.0\", \"46.0\", \"44.0\", \"61.0\", \"55.0\", \"57.0\", \"59.0\", \"46.0\", \"72.0\", \"62.0\", \"40.0\", \"68.0\", \"46.0\", \"83.0\", \"59.0\", \"42.0\", \"57.0\", \"40.0\", \"55.0\", \"57.0\", \"66.0\", \"64.0\", \"55.0\", \"79.0\", \"59.0\", \"48.0\", \"55.0\", \"55.0\", \"66.0\", \"42.0\", \"46.0\", \"73.0\", \"53.0\", \"57.0\", \"64.0\", \"51.0\", \"57.0\", \"53.0\", \"64.0\", \"81.0\", \"59.0\", \"53.0\", \"70.0\", \"70.0\", \"72.0\", \"62.0\", \"72.0\", \"66.0\", \"70.0\", \"48.0\", \"44.0\"], \"y\": [\"27.0\", \"39.0\", \"70.0\", \"45.0\", \"50.0\", \"0.0\", \"82.0\", \"56.0\", \"33.0\", \"70.0\", \"27.0\", \"45.0\", \"56.0\", \"33.0\", \"56.0\", \"62.0\", \"62.0\", \"62.0\", \"45.0\", \"45.0\", \"62.0\", \"56.0\", \"50.0\", \"33.0\", \"45.0\", \"56.0\", \"56.0\", \"27.0\", \"39.0\", \"50.0\", \"39.0\", \"68.0\", \"82.0\", \"45.0\", \"70.0\", \"33.0\", \"50.0\", \"62.0\", \"33.0\", \"68.0\", \"70.0\", \"72.0\", \"62.0\", \"68.0\", \"56.0\", \"33.0\", \"56.0\", \"68.0\", \"68.0\", \"56.0\", \"50.0\", \"56.0\", \"68.0\", \"27.0\", \"50.0\", \"68.0\", \"56.0\", \"45.0\", \"33.0\", \"50.0\", \"68.0\", \"62.0\", \"45.0\", \"27.0\", \"50.0\", \"39.0\", \"68.0\", \"50.0\", \"39.0\", \"50.0\", \"50.0\", \"56.0\", \"70.0\", \"32.0\", \"56.0\", \"70.0\", \"68.0\", \"33.0\", \"27.0\"], \"z\": [\"50.0\", \"65.0\", \"85.0\", \"73.0\", \"70.0\", \"64.0\", \"85.0\", \"66.0\", \"70.0\", \"71.0\", \"40.0\", \"91.0\", \"69.0\", \"71.0\", \"69.0\", \"80.0\", \"71.0\", \"69.0\", \"54.0\", \"67.0\", \"78.0\", \"65.0\", \"70.0\", \"64.0\", \"78.0\", \"64.0\", \"71.0\", \"43.0\", \"71.0\", \"62.0\", \"64.0\", \"89.0\", \"91.0\", \"61.0\", \"56.0\", \"56.0\", \"65.0\", \"78.0\", \"59.0\", \"65.0\", \"69.0\", \"65.0\", \"55.0\", \"64.0\", \"82.0\", \"64.0\", \"69.0\", \"71.0\", \"66.0\", \"65.0\", \"62.0\", \"67.0\", \"57.0\", \"57.0\", \"73.0\", \"76.0\", \"76.0\", \"94.0\", \"71.0\", \"76.0\", \"70.0\", \"64.0\", \"64.0\", \"51.0\", \"82.0\", \"70.0\", \"78.0\", \"71.0\", \"67.0\", \"82.0\", \"78.0\", \"69.0\", \"70.0\", \"72.0\", \"69.0\", \"43.0\", \"60.0\", \"51.0\", \"59.0\"]}, {\"hovertemplate\": \"\\u041d\\u0430\\u043f\\u0440\\u0430\\u0432\\u043b\\u0435\\u043d\\u0438\\u0435=\\u041f\\u0440\\u0438\\u043a\\u043b\\u0430\\u0434\\u043d\\u0430\\u044f \\u0438\\u043d\\u0444\\u043e\\u0440\\u043c\\u0430\\u0442\\u0438\\u043a\\u0430 (\\u0432 \\u044d\\u043a\\u043e\\u043d\\u043e\\u043c\\u0438\\u043a\\u0435)<br>\\u0418\\u043d\\u0444\\u043e\\u0440\\u043c\\u0430\\u0442\\u0438\\u043a\\u0430=%{x}<br>\\u041c\\u0430\\u0442\\u0435\\u043c\\u0430\\u0442\\u0438\\u043a\\u0430=%{y}<br>\\u0420\\u0443\\u0441\\u0441\\u043a\\u0438\\u0439 \\u044f\\u0437\\u044b\\u043a=%{z}<extra></extra>\", \"legendgroup\": \"\\u041f\\u0440\\u0438\\u043a\\u043b\\u0430\\u0434\\u043d\\u0430\\u044f \\u0438\\u043d\\u0444\\u043e\\u0440\\u043c\\u0430\\u0442\\u0438\\u043a\\u0430 (\\u0432 \\u044d\\u043a\\u043e\\u043d\\u043e\\u043c\\u0438\\u043a\\u0435)\", \"marker\": {\"color\": \"#EF553B\", \"symbol\": \"circle\"}, \"mode\": \"markers\", \"name\": \"\\u041f\\u0440\\u0438\\u043a\\u043b\\u0430\\u0434\\u043d\\u0430\\u044f \\u0438\\u043d\\u0444\\u043e\\u0440\\u043c\\u0430\\u0442\\u0438\\u043a\\u0430 (\\u0432 \\u044d\\u043a\\u043e\\u043d\\u043e\\u043c\\u0438\\u043a\\u0435)\", \"scene\": \"scene\", \"showlegend\": true, \"type\": \"scatter3d\", \"x\": [\"51.0\", \"61.0\", \"46.0\", \"53.0\", \"51.0\", \"50.0\", \"50.0\", \"53.0\", \"44.0\", \"66.0\", \"55.0\", \"72.0\", \"53.0\", \"70.0\", \"70.0\", \"77.0\", \"55.0\", \"59.0\", \"79.0\", \"55.0\", \"57.0\", \"72.0\", \"53.0\", \"48.0\", \"61.0\", \"0.0\", \"46.0\", \"53.0\", \"51.0\", \"55.0\", \"59.0\", \"44.0\", \"42.0\", \"46.0\", \"49.0\"], \"y\": [\"56.0\", \"62.0\", \"74.0\", \"39.0\", \"62.0\", \"45.0\", \"56.0\", \"45.0\", \"39.0\", \"50.0\", \"45.0\", \"27.0\", \"70.0\", \"56.0\", \"70.0\", \"78.0\", \"56.0\", \"50.0\", \"90.0\", \"45.0\", \"33.0\", \"74.0\", \"56.0\", \"45.0\", \"70.0\", \"0.0\", \"50.0\", \"33.0\", \"45.0\", \"33.0\", \"33.0\", \"39.0\", \"33.0\", \"56.0\", \"48.0\"], \"z\": [\"69.0\", \"57.0\", \"66.0\", \"76.0\", \"87.0\", \"85.0\", \"65.0\", \"48.0\", \"55.0\", \"70.0\", \"61.0\", \"72.0\", \"70.0\", \"72.0\", \"76.0\", \"72.0\", \"66.0\", \"64.0\", \"96.0\", \"73.0\", \"65.0\", \"76.0\", \"76.0\", \"59.0\", \"70.0\", \"71.0\", \"78.0\", \"71.0\", \"78.0\", \"70.0\", \"78.0\", \"60.0\", \"69.0\", \"73.0\", \"60.0\"]}, {\"hovertemplate\": \"\\u041d\\u0430\\u043f\\u0440\\u0430\\u0432\\u043b\\u0435\\u043d\\u0438\\u0435=\\u041f\\u0440\\u043e\\u0433\\u0440\\u0430\\u043c\\u043c\\u043d\\u0430\\u044f \\u0438\\u043d\\u0436\\u0435\\u043d\\u0435\\u0440\\u0438\\u044f<br>\\u0418\\u043d\\u0444\\u043e\\u0440\\u043c\\u0430\\u0442\\u0438\\u043a\\u0430=%{x}<br>\\u041c\\u0430\\u0442\\u0435\\u043c\\u0430\\u0442\\u0438\\u043a\\u0430=%{y}<br>\\u0420\\u0443\\u0441\\u0441\\u043a\\u0438\\u0439 \\u044f\\u0437\\u044b\\u043a=%{z}<extra></extra>\", \"legendgroup\": \"\\u041f\\u0440\\u043e\\u0433\\u0440\\u0430\\u043c\\u043c\\u043d\\u0430\\u044f \\u0438\\u043d\\u0436\\u0435\\u043d\\u0435\\u0440\\u0438\\u044f\", \"marker\": {\"color\": \"#00cc96\", \"symbol\": \"circle\"}, \"mode\": \"markers\", \"name\": \"\\u041f\\u0440\\u043e\\u0433\\u0440\\u0430\\u043c\\u043c\\u043d\\u0430\\u044f \\u0438\\u043d\\u0436\\u0435\\u043d\\u0435\\u0440\\u0438\\u044f\", \"scene\": \"scene\", \"showlegend\": true, \"type\": \"scatter3d\", \"x\": [\"55.0\", \"61.0\", \"91.0\", \"88.0\", \"48.0\", \"88.0\", \"44.0\", \"66.0\", \"57.0\", \"46.0\", \"91.0\", \"55.0\", \"68.0\", \"73.0\", \"73.0\", \"88.0\", \"46.0\", \"70.0\", \"77.0\", \"68.0\", \"57.0\", \"62.0\", \"84.0\", \"77.0\", \"83.0\", \"51.0\", \"55.0\", \"55.0\", \"62.0\", \"84.0\", \"51.0\", \"79.0\", \"70.0\", \"59.0\", \"0.0\", \"42.0\", \"62.0\", \"68.0\", \"75.0\", \"61.0\", \"79.0\", \"64.0\", \"55.0\", \"57.0\", \"72.0\", \"77.0\", \"79.0\", \"72.0\"], \"y\": [\"50.0\", \"68.0\", \"92.0\", \"62.0\", \"50.0\", \"78.0\", \"39.0\", \"56.0\", \"56.0\", \"45.0\", \"78.0\", \"27.0\", \"68.0\", \"72.0\", \"62.0\", \"72.0\", \"39.0\", \"84.0\", \"76.0\", \"74.0\", \"76.0\", \"50.0\", \"72.0\", \"50.0\", \"70.0\", \"39.0\", \"56.0\", \"62.0\", \"74.0\", \"84.0\", \"45.0\", \"70.0\", \"70.0\", \"72.0\", \"0.0\", \"39.0\", \"70.0\", \"70.0\", \"88.0\", \"50.0\", \"68.0\", \"50.0\", \"70.0\", \"62.0\", \"68.0\", \"70.0\", \"74.0\", \"72.0\"], \"z\": [\"96.0\", \"66.0\", \"89.0\", \"78.0\", \"80.0\", \"64.0\", \"50.0\", \"73.0\", \"60.0\", \"66.0\", \"82.0\", \"59.0\", \"73.0\", \"80.0\", \"82.0\", \"78.0\", \"65.0\", \"89.0\", \"80.0\", \"85.0\", \"57.0\", \"73.0\", \"73.0\", \"65.0\", \"78.0\", \"67.0\", \"89.0\", \"89.0\", \"87.0\", \"94.0\", \"60.0\", \"78.0\", \"85.0\", \"70.0\", \"49.0\", \"53.0\", \"82.0\", \"96.0\", \"85.0\", \"61.0\", \"73.0\", \"66.0\", \"71.0\", \"82.0\", \"62.0\", \"78.0\", \"67.0\", \"78.0\"]}],                        {\"height\": 1080, \"legend\": {\"title\": {\"text\": \"\\u041d\\u0430\\u043f\\u0440\\u0430\\u0432\\u043b\\u0435\\u043d\\u0438\\u0435\"}, \"tracegroupgap\": 0}, \"margin\": {\"t\": 60}, \"scene\": {\"domain\": {\"x\": [0.0, 1.0], \"y\": [0.0, 1.0]}, \"xaxis\": {\"title\": {\"text\": \"\\u0418\\u043d\\u0444\\u043e\\u0440\\u043c\\u0430\\u0442\\u0438\\u043a\\u0430\"}}, \"yaxis\": {\"title\": {\"text\": \"\\u041c\\u0430\\u0442\\u0435\\u043c\\u0430\\u0442\\u0438\\u043a\\u0430\"}}, \"zaxis\": {\"title\": {\"text\": \"\\u0420\\u0443\\u0441\\u0441\\u043a\\u0438\\u0439 \\u044f\\u0437\\u044b\\u043a\"}}}, \"template\": {\"data\": {\"bar\": [{\"error_x\": {\"color\": \"#2a3f5f\"}, \"error_y\": {\"color\": \"#2a3f5f\"}, \"marker\": {\"line\": {\"color\": \"#E5ECF6\", \"width\": 0.5}}, \"type\": \"bar\"}], \"barpolar\": [{\"marker\": {\"line\": {\"color\": \"#E5ECF6\", \"width\": 0.5}}, \"type\": \"barpolar\"}], \"carpet\": [{\"aaxis\": {\"endlinecolor\": \"#2a3f5f\", \"gridcolor\": \"white\", \"linecolor\": \"white\", \"minorgridcolor\": \"white\", \"startlinecolor\": \"#2a3f5f\"}, \"baxis\": {\"endlinecolor\": \"#2a3f5f\", \"gridcolor\": \"white\", \"linecolor\": \"white\", \"minorgridcolor\": \"white\", \"startlinecolor\": \"#2a3f5f\"}, \"type\": \"carpet\"}], \"choropleth\": [{\"colorbar\": {\"outlinewidth\": 0, \"ticks\": \"\"}, \"type\": \"choropleth\"}], \"contour\": [{\"colorbar\": {\"outlinewidth\": 0, \"ticks\": \"\"}, \"colorscale\": [[0.0, \"#0d0887\"], [0.1111111111111111, \"#46039f\"], [0.2222222222222222, \"#7201a8\"], [0.3333333333333333, \"#9c179e\"], [0.4444444444444444, \"#bd3786\"], [0.5555555555555556, \"#d8576b\"], [0.6666666666666666, \"#ed7953\"], [0.7777777777777778, \"#fb9f3a\"], [0.8888888888888888, \"#fdca26\"], [1.0, \"#f0f921\"]], \"type\": \"contour\"}], \"contourcarpet\": [{\"colorbar\": {\"outlinewidth\": 0, \"ticks\": \"\"}, \"type\": \"contourcarpet\"}], \"heatmap\": [{\"colorbar\": {\"outlinewidth\": 0, \"ticks\": \"\"}, \"colorscale\": [[0.0, \"#0d0887\"], [0.1111111111111111, \"#46039f\"], [0.2222222222222222, \"#7201a8\"], [0.3333333333333333, \"#9c179e\"], [0.4444444444444444, \"#bd3786\"], [0.5555555555555556, \"#d8576b\"], [0.6666666666666666, \"#ed7953\"], [0.7777777777777778, \"#fb9f3a\"], [0.8888888888888888, \"#fdca26\"], [1.0, \"#f0f921\"]], \"type\": \"heatmap\"}], \"heatmapgl\": [{\"colorbar\": {\"outlinewidth\": 0, \"ticks\": \"\"}, \"colorscale\": [[0.0, \"#0d0887\"], [0.1111111111111111, \"#46039f\"], [0.2222222222222222, \"#7201a8\"], [0.3333333333333333, \"#9c179e\"], [0.4444444444444444, \"#bd3786\"], [0.5555555555555556, \"#d8576b\"], [0.6666666666666666, \"#ed7953\"], [0.7777777777777778, \"#fb9f3a\"], [0.8888888888888888, \"#fdca26\"], [1.0, \"#f0f921\"]], \"type\": \"heatmapgl\"}], \"histogram\": [{\"marker\": {\"colorbar\": {\"outlinewidth\": 0, \"ticks\": \"\"}}, \"type\": \"histogram\"}], \"histogram2d\": [{\"colorbar\": {\"outlinewidth\": 0, \"ticks\": \"\"}, \"colorscale\": [[0.0, \"#0d0887\"], [0.1111111111111111, \"#46039f\"], [0.2222222222222222, \"#7201a8\"], [0.3333333333333333, \"#9c179e\"], [0.4444444444444444, \"#bd3786\"], [0.5555555555555556, \"#d8576b\"], [0.6666666666666666, \"#ed7953\"], [0.7777777777777778, \"#fb9f3a\"], [0.8888888888888888, \"#fdca26\"], [1.0, \"#f0f921\"]], \"type\": \"histogram2d\"}], \"histogram2dcontour\": [{\"colorbar\": {\"outlinewidth\": 0, \"ticks\": \"\"}, \"colorscale\": [[0.0, \"#0d0887\"], [0.1111111111111111, \"#46039f\"], [0.2222222222222222, \"#7201a8\"], [0.3333333333333333, \"#9c179e\"], [0.4444444444444444, \"#bd3786\"], [0.5555555555555556, \"#d8576b\"], [0.6666666666666666, \"#ed7953\"], [0.7777777777777778, \"#fb9f3a\"], [0.8888888888888888, \"#fdca26\"], [1.0, \"#f0f921\"]], \"type\": \"histogram2dcontour\"}], \"mesh3d\": [{\"colorbar\": {\"outlinewidth\": 0, \"ticks\": \"\"}, \"type\": \"mesh3d\"}], \"parcoords\": [{\"line\": {\"colorbar\": {\"outlinewidth\": 0, \"ticks\": \"\"}}, \"type\": \"parcoords\"}], \"pie\": [{\"automargin\": true, \"type\": \"pie\"}], \"scatter\": [{\"marker\": {\"colorbar\": {\"outlinewidth\": 0, \"ticks\": \"\"}}, \"type\": \"scatter\"}], \"scatter3d\": [{\"line\": {\"colorbar\": {\"outlinewidth\": 0, \"ticks\": \"\"}}, \"marker\": {\"colorbar\": {\"outlinewidth\": 0, \"ticks\": \"\"}}, \"type\": \"scatter3d\"}], \"scattercarpet\": [{\"marker\": {\"colorbar\": {\"outlinewidth\": 0, \"ticks\": \"\"}}, \"type\": \"scattercarpet\"}], \"scattergeo\": [{\"marker\": {\"colorbar\": {\"outlinewidth\": 0, \"ticks\": \"\"}}, \"type\": \"scattergeo\"}], \"scattergl\": [{\"marker\": {\"colorbar\": {\"outlinewidth\": 0, \"ticks\": \"\"}}, \"type\": \"scattergl\"}], \"scattermapbox\": [{\"marker\": {\"colorbar\": {\"outlinewidth\": 0, \"ticks\": \"\"}}, \"type\": \"scattermapbox\"}], \"scatterpolar\": [{\"marker\": {\"colorbar\": {\"outlinewidth\": 0, \"ticks\": \"\"}}, \"type\": \"scatterpolar\"}], \"scatterpolargl\": [{\"marker\": {\"colorbar\": {\"outlinewidth\": 0, \"ticks\": \"\"}}, \"type\": \"scatterpolargl\"}], \"scatterternary\": [{\"marker\": {\"colorbar\": {\"outlinewidth\": 0, \"ticks\": \"\"}}, \"type\": \"scatterternary\"}], \"surface\": [{\"colorbar\": {\"outlinewidth\": 0, \"ticks\": \"\"}, \"colorscale\": [[0.0, \"#0d0887\"], [0.1111111111111111, \"#46039f\"], [0.2222222222222222, \"#7201a8\"], [0.3333333333333333, \"#9c179e\"], [0.4444444444444444, \"#bd3786\"], [0.5555555555555556, \"#d8576b\"], [0.6666666666666666, \"#ed7953\"], [0.7777777777777778, \"#fb9f3a\"], [0.8888888888888888, \"#fdca26\"], [1.0, \"#f0f921\"]], \"type\": \"surface\"}], \"table\": [{\"cells\": {\"fill\": {\"color\": \"#EBF0F8\"}, \"line\": {\"color\": \"white\"}}, \"header\": {\"fill\": {\"color\": \"#C8D4E3\"}, \"line\": {\"color\": \"white\"}}, \"type\": \"table\"}]}, \"layout\": {\"annotationdefaults\": {\"arrowcolor\": \"#2a3f5f\", \"arrowhead\": 0, \"arrowwidth\": 1}, \"autotypenumbers\": \"strict\", \"coloraxis\": {\"colorbar\": {\"outlinewidth\": 0, \"ticks\": \"\"}}, \"colorscale\": {\"diverging\": [[0, \"#8e0152\"], [0.1, \"#c51b7d\"], [0.2, \"#de77ae\"], [0.3, \"#f1b6da\"], [0.4, \"#fde0ef\"], [0.5, \"#f7f7f7\"], [0.6, \"#e6f5d0\"], [0.7, \"#b8e186\"], [0.8, \"#7fbc41\"], [0.9, \"#4d9221\"], [1, \"#276419\"]], \"sequential\": [[0.0, \"#0d0887\"], [0.1111111111111111, \"#46039f\"], [0.2222222222222222, \"#7201a8\"], [0.3333333333333333, \"#9c179e\"], [0.4444444444444444, \"#bd3786\"], [0.5555555555555556, \"#d8576b\"], [0.6666666666666666, \"#ed7953\"], [0.7777777777777778, \"#fb9f3a\"], [0.8888888888888888, \"#fdca26\"], [1.0, \"#f0f921\"]], \"sequentialminus\": [[0.0, \"#0d0887\"], [0.1111111111111111, \"#46039f\"], [0.2222222222222222, \"#7201a8\"], [0.3333333333333333, \"#9c179e\"], [0.4444444444444444, \"#bd3786\"], [0.5555555555555556, \"#d8576b\"], [0.6666666666666666, \"#ed7953\"], [0.7777777777777778, \"#fb9f3a\"], [0.8888888888888888, \"#fdca26\"], [1.0, \"#f0f921\"]]}, \"colorway\": [\"#636efa\", \"#EF553B\", \"#00cc96\", \"#ab63fa\", \"#FFA15A\", \"#19d3f3\", \"#FF6692\", \"#B6E880\", \"#FF97FF\", \"#FECB52\"], \"font\": {\"color\": \"#2a3f5f\"}, \"geo\": {\"bgcolor\": \"white\", \"lakecolor\": \"white\", \"landcolor\": \"#E5ECF6\", \"showlakes\": true, \"showland\": true, \"subunitcolor\": \"white\"}, \"hoverlabel\": {\"align\": \"left\"}, \"hovermode\": \"closest\", \"mapbox\": {\"style\": \"light\"}, \"paper_bgcolor\": \"white\", \"plot_bgcolor\": \"#E5ECF6\", \"polar\": {\"angularaxis\": {\"gridcolor\": \"white\", \"linecolor\": \"white\", \"ticks\": \"\"}, \"bgcolor\": \"#E5ECF6\", \"radialaxis\": {\"gridcolor\": \"white\", \"linecolor\": \"white\", \"ticks\": \"\"}}, \"scene\": {\"xaxis\": {\"backgroundcolor\": \"#E5ECF6\", \"gridcolor\": \"white\", \"gridwidth\": 2, \"linecolor\": \"white\", \"showbackground\": true, \"ticks\": \"\", \"zerolinecolor\": \"white\"}, \"yaxis\": {\"backgroundcolor\": \"#E5ECF6\", \"gridcolor\": \"white\", \"gridwidth\": 2, \"linecolor\": \"white\", \"showbackground\": true, \"ticks\": \"\", \"zerolinecolor\": \"white\"}, \"zaxis\": {\"backgroundcolor\": \"#E5ECF6\", \"gridcolor\": \"white\", \"gridwidth\": 2, \"linecolor\": \"white\", \"showbackground\": true, \"ticks\": \"\", \"zerolinecolor\": \"white\"}}, \"shapedefaults\": {\"line\": {\"color\": \"#2a3f5f\"}}, \"ternary\": {\"aaxis\": {\"gridcolor\": \"white\", \"linecolor\": \"white\", \"ticks\": \"\"}, \"baxis\": {\"gridcolor\": \"white\", \"linecolor\": \"white\", \"ticks\": \"\"}, \"bgcolor\": \"#E5ECF6\", \"caxis\": {\"gridcolor\": \"white\", \"linecolor\": \"white\", \"ticks\": \"\"}}, \"title\": {\"x\": 0.05}, \"xaxis\": {\"automargin\": true, \"gridcolor\": \"white\", \"linecolor\": \"white\", \"ticks\": \"\", \"title\": {\"standoff\": 15}, \"zerolinecolor\": \"white\", \"zerolinewidth\": 2}, \"yaxis\": {\"automargin\": true, \"gridcolor\": \"white\", \"linecolor\": \"white\", \"ticks\": \"\", \"title\": {\"standoff\": 15}, \"zerolinecolor\": \"white\", \"zerolinewidth\": 2}}}, \"width\": 1920},                        {\"responsive\": true}                    ).then(function(){\n",
       "                            \n",
       "var gd = document.getElementById('1c5a3773-e1e7-4b18-a0a9-043d8b96d0e7');\n",
       "var x = new MutationObserver(function (mutations, observer) {{\n",
       "        var display = window.getComputedStyle(gd).display;\n",
       "        if (!display || display === 'none') {{\n",
       "            console.log([gd, 'removed!']);\n",
       "            Plotly.purge(gd);\n",
       "            observer.disconnect();\n",
       "        }}\n",
       "}});\n",
       "\n",
       "// Listen for the removal of the full notebook cells\n",
       "var notebookContainer = gd.closest('#notebook-container');\n",
       "if (notebookContainer) {{\n",
       "    x.observe(notebookContainer, {childList: true});\n",
       "}}\n",
       "\n",
       "// Listen for the clearing of the current output cell\n",
       "var outputEl = gd.closest('.output');\n",
       "if (outputEl) {{\n",
       "    x.observe(outputEl, {childList: true});\n",
       "}}\n",
       "\n",
       "                        })                };                });            </script>        </div>"
      ]
     },
     "metadata": {},
     "output_type": "display_data"
    }
   ],
   "source": [
    "import plotly.express as px\n",
    "fig = px.scatter_3d(plot_data_computer_scince, x='Информатика', y='Математика', z='Русский язык',\n",
    "              color='Направление', width=1920, height=1080)\n",
    "fig.show()"
   ]
  },
  {
   "cell_type": "code",
   "execution_count": 8,
   "metadata": {},
   "outputs": [
    {
     "data": {
      "application/vnd.plotly.v1+json": {
       "config": {
        "plotlyServerURL": "https://plot.ly"
       },
       "data": [
        {
         "hovertemplate": "Направление=Проектирование авиационных и ракетных двигателей<br>Физика=%{x}<br>Математика=%{y}<br>Русский язык=%{z}<extra></extra>",
         "legendgroup": "Проектирование авиационных и ракетных двигателей",
         "marker": {
          "color": "#636efa",
          "symbol": "circle"
         },
         "mode": "markers",
         "name": "Проектирование авиационных и ракетных двигателей",
         "scene": "scene",
         "showlegend": true,
         "type": "scatter3d",
         "x": [
          "64.0",
          "45.0",
          "80.0",
          "49.0",
          "61.0",
          "45.0",
          "54.0",
          "98.0",
          "57.0",
          "46.0",
          "48.0",
          "59.0",
          "76.0",
          "48.0",
          "52.0",
          "62.0",
          "59.0",
          "52.0",
          "54.0",
          "47.0",
          "49.0",
          "39.0",
          "53.0",
          "52.0",
          "51.0",
          "46.0",
          "53.0",
          "80.0",
          "41.0",
          "44.0"
         ],
         "y": [
          "56.0",
          "39.0",
          "78.0",
          "72.0",
          "62.0",
          "45.0",
          "33.0",
          "96.0",
          "45.0",
          "45.0",
          "56.0",
          "68.0",
          "78.0",
          "62.0",
          "56.0",
          "72.0",
          "70.0",
          "45.0",
          "56.0",
          "50.0",
          "50.0",
          "39.0",
          "45.0",
          "56.0",
          "70.0",
          "45.0",
          "62.0",
          "88.0",
          "0.0",
          "45.0"
         ],
         "z": [
          "62.0",
          "82.0",
          "66.0",
          "61.0",
          "64.0",
          "78.0",
          "73.0",
          "96.0",
          "78.0",
          "62.0",
          "89.0",
          "80.0",
          "91.0",
          "73.0",
          "80.0",
          "85.0",
          "80.0",
          "62.0",
          "80.0",
          "82.0",
          "60.0",
          "61.0",
          "59.0",
          "80.0",
          "65.0",
          "67.0",
          "76.0",
          "85.0",
          "58.0",
          "65.0"
         ]
        },
        {
         "hovertemplate": "Направление=Конструирование и технология электронных средств<br>Физика=%{x}<br>Математика=%{y}<br>Русский язык=%{z}<extra></extra>",
         "legendgroup": "Конструирование и технология электронных средств",
         "marker": {
          "color": "#EF553B",
          "symbol": "circle"
         },
         "mode": "markers",
         "name": "Конструирование и технология электронных средств",
         "scene": "scene",
         "showlegend": true,
         "type": "scatter3d",
         "x": [
          "39.0",
          "47.0",
          "48.0",
          "41.0",
          "70.0",
          "39.0",
          "38.0",
          "38.0",
          "57.0",
          "55.0",
          "42.0",
          "40.0",
          "40.0",
          "46.0",
          "52.0",
          "44.0",
          "42.0",
          "41.0",
          "55.0",
          "44.0"
         ],
         "y": [
          "44.0",
          "45.0",
          "27.0",
          "33.0",
          "70.0",
          "39.0",
          "56.0",
          "39.0",
          "50.0",
          "50.0",
          "39.0",
          "27.0",
          "33.0",
          "39.0",
          "50.0",
          "39.0",
          "33.0",
          "45.0",
          "70.0",
          "50.0"
         ],
         "z": [
          "71.0",
          "59.0",
          "64.0",
          "57.0",
          "82.0",
          "73.0",
          "78.0",
          "61.0",
          "72.0",
          "69.0",
          "70.0",
          "46.0",
          "72.0",
          "51.0",
          "72.0",
          "62.0",
          "64.0",
          "64.0",
          "69.0",
          "50.0"
         ]
        },
        {
         "hovertemplate": "Направление=Электроэнергетика и электротехника<br>Физика=%{x}<br>Математика=%{y}<br>Русский язык=%{z}<extra></extra>",
         "legendgroup": "Электроэнергетика и электротехника",
         "marker": {
          "color": "#00cc96",
          "symbol": "circle"
         },
         "mode": "markers",
         "name": "Электроэнергетика и электротехника",
         "scene": "scene",
         "showlegend": true,
         "type": "scatter3d",
         "x": [
          "49.0",
          "42.0",
          "48.0",
          "0.0",
          "47.0",
          "54.0",
          "46.0",
          "48.0",
          "53.0",
          "45.0",
          "48.0",
          "57.0",
          "45.0",
          "48.0",
          "40.0",
          "59.0",
          "51.0",
          "40.0",
          "43.0",
          "42.0",
          "39.0",
          "0.0",
          "46.0",
          "44.0",
          "52.0",
          "58.0",
          "57.0",
          "52.0",
          "49.0",
          "48.0",
          "40.0",
          "41.0",
          "47.0",
          "53.0",
          "47.0"
         ],
         "y": [
          "45.0",
          "45.0",
          "62.0",
          "28.0",
          "27.0",
          "56.0",
          "39.0",
          "62.0",
          "50.0",
          "56.0",
          "45.0",
          "56.0",
          "56.0",
          "62.0",
          "27.0",
          "68.0",
          "62.0",
          "0.0",
          "0.0",
          "39.0",
          "47.0",
          "0.0",
          "39.0",
          "39.0",
          "39.0",
          "56.0",
          "62.0",
          "50.0",
          "68.0",
          "50.0",
          "45.0",
          "45.0",
          "45.0",
          "72.0",
          "50.0"
         ],
         "z": [
          "48.0",
          "83.0",
          "70.0",
          "59.0",
          "64.0",
          "57.0",
          "71.0",
          "62.0",
          "69.0",
          "76.0",
          "55.0",
          "85.0",
          "53.0",
          "71.0",
          "51.0",
          "78.0",
          "70.0",
          "0.0",
          "0.0",
          "70.0",
          "69.0",
          "67.0",
          "70.0",
          "55.0",
          "65.0",
          "53.0",
          "76.0",
          "67.0",
          "66.0",
          "66.0",
          "73.0",
          "53.0",
          "62.0",
          "60.0",
          "62.0"
         ]
        },
        {
         "hovertemplate": "Направление=Конструкторско-технологическое обеспечение машиностроительных производств<br>Физика=%{x}<br>Математика=%{y}<br>Русский язык=%{z}<extra></extra>",
         "legendgroup": "Конструкторско-технологическое обеспечение машиностроительных производств",
         "marker": {
          "color": "#ab63fa",
          "symbol": "circle"
         },
         "mode": "markers",
         "name": "Конструкторско-технологическое обеспечение машиностроительных производств",
         "scene": "scene",
         "showlegend": true,
         "type": "scatter3d",
         "x": [
          "48.0",
          "57.0",
          "48.0",
          "36.0",
          "47.0",
          "47.0",
          "38.0",
          "0.0",
          "48.0",
          "0.0",
          "45.0",
          "61.0",
          "47.0",
          "0.0",
          "47.0",
          "44.0",
          "46.0",
          "40.0",
          "55.0",
          "0.0",
          "39.0",
          "0.0",
          "58.0",
          "44.0",
          "42.0",
          "47.0",
          "41.0",
          "40.0",
          "42.0",
          "41.0",
          "41.0",
          "53.0",
          "44.0",
          "41.0",
          "45.0",
          "39.0",
          "40.0",
          "41.0",
          "46.0",
          "38.0",
          "52.0",
          "53.0",
          "51.0",
          "42.0",
          "42.0",
          "45.0",
          "0.0",
          "45.0",
          "40.0",
          "41.0",
          "56.0"
         ],
         "y": [
          "68.0",
          "56.0",
          "39.0",
          "39.0",
          "39.0",
          "33.0",
          "33.0",
          "45.0",
          "45.0",
          "44.0",
          "45.0",
          "70.0",
          "33.0",
          "0.0",
          "50.0",
          "50.0",
          "70.0",
          "45.0",
          "56.0",
          "0.0",
          "33.0",
          "33.0",
          "62.0",
          "39.0",
          "39.0",
          "76.0",
          "33.0",
          "39.0",
          "39.0",
          "27.0",
          "39.0",
          "39.0",
          "27.0",
          "39.0",
          "70.0",
          "33.0",
          "0.0",
          "45.0",
          "39.0",
          "0.0",
          "68.0",
          "39.0",
          "68.0",
          "56.0",
          "45.0",
          "50.0",
          "27.0",
          "45.0",
          "27.0",
          "39.0",
          "55.0"
         ],
         "z": [
          "62.0",
          "57.0",
          "57.0",
          "48.0",
          "57.0",
          "76.0",
          "85.0",
          "71.0",
          "61.0",
          "64.0",
          "82.0",
          "66.0",
          "55.0",
          "67.0",
          "67.0",
          "67.0",
          "87.0",
          "67.0",
          "40.0",
          "76.0",
          "64.0",
          "55.0",
          "67.0",
          "57.0",
          "50.0",
          "66.0",
          "60.0",
          "70.0",
          "51.0",
          "60.0",
          "44.0",
          "55.0",
          "50.0",
          "62.0",
          "64.0",
          "71.0",
          "53.0",
          "70.0",
          "98.0",
          "55.0",
          "85.0",
          "50.0",
          "70.0",
          "80.0",
          "60.0",
          "61.0",
          "56.0",
          "62.0",
          "57.0",
          "67.0",
          "73.0"
         ]
        },
        {
         "hovertemplate": "Направление=Теплоэнергетика и теплотехника<br>Физика=%{x}<br>Математика=%{y}<br>Русский язык=%{z}<extra></extra>",
         "legendgroup": "Теплоэнергетика и теплотехника",
         "marker": {
          "color": "#FFA15A",
          "symbol": "circle"
         },
         "mode": "markers",
         "name": "Теплоэнергетика и теплотехника",
         "scene": "scene",
         "showlegend": true,
         "type": "scatter3d",
         "x": [
          "42.0",
          "62.0",
          "42.0",
          "53.0",
          "52.0",
          "49.0",
          "39.0",
          "45.0",
          "46.0",
          "51.0",
          "44.0",
          "47.0",
          "39.0",
          "58.0",
          "52.0",
          "54.0",
          "48.0",
          "46.0",
          "57.0",
          "40.0",
          "44.0",
          "39.0",
          "42.0",
          "45.0",
          "51.0",
          "55.0"
         ],
         "y": [
          "39.0",
          "62.0",
          "27.0",
          "62.0",
          "50.0",
          "70.0",
          "33.0",
          "50.0",
          "27.0",
          "68.0",
          "45.0",
          "45.0",
          "50.0",
          "70.0",
          "39.0",
          "74.0",
          "33.0",
          "50.0",
          "45.0",
          "33.0",
          "45.0",
          "27.0",
          "39.0",
          "68.0",
          "45.0",
          "68.0"
         ],
         "z": [
          "56.0",
          "88.0",
          "46.0",
          "65.0",
          "67.0",
          "61.0",
          "62.0",
          "67.0",
          "71.0",
          "70.0",
          "61.0",
          "67.0",
          "57.0",
          "72.0",
          "71.0",
          "85.0",
          "65.0",
          "72.0",
          "82.0",
          "61.0",
          "57.0",
          "59.0",
          "57.0",
          "85.0",
          "40.0",
          "61.0"
         ]
        },
        {
         "hovertemplate": "Направление=Электроника и наноэлектроника<br>Физика=%{x}<br>Математика=%{y}<br>Русский язык=%{z}<extra></extra>",
         "legendgroup": "Электроника и наноэлектроника",
         "marker": {
          "color": "#19d3f3",
          "symbol": "circle"
         },
         "mode": "markers",
         "name": "Электроника и наноэлектроника",
         "scene": "scene",
         "showlegend": true,
         "type": "scatter3d",
         "x": [
          "42.0",
          "51.0",
          "53.0",
          "51.0",
          "48.0",
          "61.0",
          "72.0",
          "52.0",
          "45.0",
          "61.0",
          "62.0",
          "47.0",
          "54.0",
          "42.0",
          "39.0",
          "44.0",
          "59.0",
          "44.0",
          "39.0",
          "58.0"
         ],
         "y": [
          "39.0",
          "56.0",
          "0.0",
          "70.0",
          "56.0",
          "74.0",
          "56.0",
          "39.0",
          "33.0",
          "72.0",
          "74.0",
          "39.0",
          "70.0",
          "56.0",
          "27.0",
          "45.0",
          "62.0",
          "27.0",
          "33.0",
          "50.0"
         ],
         "z": [
          "78.0",
          "62.0",
          "52.0",
          "71.0",
          "91.0",
          "89.0",
          "82.0",
          "62.0",
          "55.0",
          "59.0",
          "70.0",
          "70.0",
          "72.0",
          "61.0",
          "67.0",
          "57.0",
          "82.0",
          "70.0",
          "67.0",
          "91.0"
         ]
        },
        {
         "hovertemplate": "Направление=Машиностроение<br>Физика=%{x}<br>Математика=%{y}<br>Русский язык=%{z}<extra></extra>",
         "legendgroup": "Машиностроение",
         "marker": {
          "color": "#FF6692",
          "symbol": "circle"
         },
         "mode": "markers",
         "name": "Машиностроение",
         "scene": "scene",
         "showlegend": true,
         "type": "scatter3d",
         "x": [
          "55.0",
          "44.0",
          "47.0",
          "38.0",
          "47.0",
          "44.0",
          "40.0",
          "46.0",
          "40.0",
          "47.0",
          "59.0",
          "44.0",
          "40.0",
          "40.0"
         ],
         "y": [
          "50.0",
          "45.0",
          "50.0",
          "50.0",
          "33.0",
          "33.0",
          "33.0",
          "39.0",
          "39.0",
          "39.0",
          "56.0",
          "56.0",
          "33.0",
          "45.0"
         ],
         "z": [
          "67.0",
          "69.0",
          "78.0",
          "50.0",
          "43.0",
          "66.0",
          "46.0",
          "73.0",
          "51.0",
          "69.0",
          "72.0",
          "94.0",
          "61.0",
          "76.0"
         ]
        },
        {
         "hovertemplate": "Направление=Проектирование технологических машин и комплексов<br>Физика=%{x}<br>Математика=%{y}<br>Русский язык=%{z}<extra></extra>",
         "legendgroup": "Проектирование технологических машин и комплексов",
         "marker": {
          "color": "#B6E880",
          "symbol": "circle"
         },
         "mode": "markers",
         "name": "Проектирование технологических машин и комплексов",
         "scene": "scene",
         "showlegend": true,
         "type": "scatter3d",
         "x": [
          "47.0",
          "55.0",
          "51.0",
          "59.0",
          "49.0",
          "41.0",
          "46.0",
          "58.0",
          "53.0",
          "40.0",
          "42.0",
          "42.0",
          "36.0"
         ],
         "y": [
          "50.0",
          "45.0",
          "50.0",
          "50.0",
          "68.0",
          "50.0",
          "45.0",
          "68.0",
          "39.0",
          "39.0",
          "50.0",
          "39.0",
          "39.0"
         ],
         "z": [
          "85.0",
          "66.0",
          "59.0",
          "66.0",
          "72.0",
          "59.0",
          "67.0",
          "72.0",
          "70.0",
          "70.0",
          "53.0",
          "60.0",
          "61.0"
         ]
        },
        {
         "hovertemplate": "Направление=Металлургия<br>Физика=%{x}<br>Математика=%{y}<br>Русский язык=%{z}<extra></extra>",
         "legendgroup": "Металлургия",
         "marker": {
          "color": "#FF97FF",
          "symbol": "circle"
         },
         "mode": "markers",
         "name": "Металлургия",
         "scene": "scene",
         "showlegend": true,
         "type": "scatter3d",
         "x": [
          "51.0",
          "45.0",
          "47.0",
          "66.0",
          "45.0",
          "47.0",
          "36.0",
          "36.0",
          "42.0",
          "36.0"
         ],
         "y": [
          "39.0",
          "50.0",
          "45.0",
          "45.0",
          "50.0",
          "45.0",
          "27.0",
          "39.0",
          "50.0",
          "33.0"
         ],
         "z": [
          "67.0",
          "85.0",
          "62.0",
          "65.0",
          "78.0",
          "56.0",
          "36.0",
          "44.0",
          "72.0",
          "60.0"
         ]
        },
        {
         "hovertemplate": "Направление=Техническая физика<br>Физика=%{x}<br>Математика=%{y}<br>Русский язык=%{z}<extra></extra>",
         "legendgroup": "Техническая физика",
         "marker": {
          "color": "#FECB52",
          "symbol": "circle"
         },
         "mode": "markers",
         "name": "Техническая физика",
         "scene": "scene",
         "showlegend": true,
         "type": "scatter3d",
         "x": [
          "61.0",
          "49.0",
          "49.0"
         ],
         "y": [
          "70.0",
          "62.0",
          "68.0"
         ],
         "z": [
          "71.0",
          "62.0",
          "71.0"
         ]
        },
        {
         "hovertemplate": "Направление=Управление качеством<br>Физика=%{x}<br>Математика=%{y}<br>Русский язык=%{z}<extra></extra>",
         "legendgroup": "Управление качеством",
         "marker": {
          "color": "#636efa",
          "symbol": "circle"
         },
         "mode": "markers",
         "name": "Управление качеством",
         "scene": "scene",
         "showlegend": true,
         "type": "scatter3d",
         "x": [
          "51.0",
          "47.0",
          "41.0",
          "44.0",
          "44.0",
          "39.0",
          "47.0"
         ],
         "y": [
          "68.0",
          "39.0",
          "45.0",
          "62.0",
          "39.0",
          "39.0",
          "56.0"
         ],
         "z": [
          "67.0",
          "61.0",
          "78.0",
          "67.0",
          "66.0",
          "67.0",
          "62.0"
         ]
        },
        {
         "hovertemplate": "Направление=Материаловедение и технологии материалов<br>Физика=%{x}<br>Математика=%{y}<br>Русский язык=%{z}<extra></extra>",
         "legendgroup": "Материаловедение и технологии материалов",
         "marker": {
          "color": "#EF553B",
          "symbol": "circle"
         },
         "mode": "markers",
         "name": "Материаловедение и технологии материалов",
         "scene": "scene",
         "showlegend": true,
         "type": "scatter3d",
         "x": [
          "68.0",
          "36.0"
         ],
         "y": [
          "74.0",
          "39.0"
         ],
         "z": [
          "96.0",
          "66.0"
         ]
        },
        {
         "hovertemplate": "Направление=Стандартизация и метрология<br>Физика=%{x}<br>Математика=%{y}<br>Русский язык=%{z}<extra></extra>",
         "legendgroup": "Стандартизация и метрология",
         "marker": {
          "color": "#00cc96",
          "symbol": "circle"
         },
         "mode": "markers",
         "name": "Стандартизация и метрология",
         "scene": "scene",
         "showlegend": true,
         "type": "scatter3d",
         "x": [
          "48.0"
         ],
         "y": [
          "50.0"
         ],
         "z": [
          "89.0"
         ]
        },
        {
         "hovertemplate": "Направление=Энергетическое машиностроение<br>Физика=%{x}<br>Математика=%{y}<br>Русский язык=%{z}<extra></extra>",
         "legendgroup": "Энергетическое машиностроение",
         "marker": {
          "color": "#ab63fa",
          "symbol": "circle"
         },
         "mode": "markers",
         "name": "Энергетическое машиностроение",
         "scene": "scene",
         "showlegend": true,
         "type": "scatter3d",
         "x": [
          "49.0"
         ],
         "y": [
          "62.0"
         ],
         "z": [
          "72.0"
         ]
        }
       ],
       "layout": {
        "legend": {
         "title": {
          "text": "Направление"
         },
         "tracegroupgap": 0
        },
        "margin": {
         "t": 60
        },
        "scene": {
         "domain": {
          "x": [
           0,
           1
          ],
          "y": [
           0,
           1
          ]
         },
         "xaxis": {
          "title": {
           "text": "Физика"
          }
         },
         "yaxis": {
          "title": {
           "text": "Математика"
          }
         },
         "zaxis": {
          "title": {
           "text": "Русский язык"
          }
         }
        },
        "template": {
         "data": {
          "bar": [
           {
            "error_x": {
             "color": "#2a3f5f"
            },
            "error_y": {
             "color": "#2a3f5f"
            },
            "marker": {
             "line": {
              "color": "#E5ECF6",
              "width": 0.5
             }
            },
            "type": "bar"
           }
          ],
          "barpolar": [
           {
            "marker": {
             "line": {
              "color": "#E5ECF6",
              "width": 0.5
             }
            },
            "type": "barpolar"
           }
          ],
          "carpet": [
           {
            "aaxis": {
             "endlinecolor": "#2a3f5f",
             "gridcolor": "white",
             "linecolor": "white",
             "minorgridcolor": "white",
             "startlinecolor": "#2a3f5f"
            },
            "baxis": {
             "endlinecolor": "#2a3f5f",
             "gridcolor": "white",
             "linecolor": "white",
             "minorgridcolor": "white",
             "startlinecolor": "#2a3f5f"
            },
            "type": "carpet"
           }
          ],
          "choropleth": [
           {
            "colorbar": {
             "outlinewidth": 0,
             "ticks": ""
            },
            "type": "choropleth"
           }
          ],
          "contour": [
           {
            "colorbar": {
             "outlinewidth": 0,
             "ticks": ""
            },
            "colorscale": [
             [
              0,
              "#0d0887"
             ],
             [
              0.1111111111111111,
              "#46039f"
             ],
             [
              0.2222222222222222,
              "#7201a8"
             ],
             [
              0.3333333333333333,
              "#9c179e"
             ],
             [
              0.4444444444444444,
              "#bd3786"
             ],
             [
              0.5555555555555556,
              "#d8576b"
             ],
             [
              0.6666666666666666,
              "#ed7953"
             ],
             [
              0.7777777777777778,
              "#fb9f3a"
             ],
             [
              0.8888888888888888,
              "#fdca26"
             ],
             [
              1,
              "#f0f921"
             ]
            ],
            "type": "contour"
           }
          ],
          "contourcarpet": [
           {
            "colorbar": {
             "outlinewidth": 0,
             "ticks": ""
            },
            "type": "contourcarpet"
           }
          ],
          "heatmap": [
           {
            "colorbar": {
             "outlinewidth": 0,
             "ticks": ""
            },
            "colorscale": [
             [
              0,
              "#0d0887"
             ],
             [
              0.1111111111111111,
              "#46039f"
             ],
             [
              0.2222222222222222,
              "#7201a8"
             ],
             [
              0.3333333333333333,
              "#9c179e"
             ],
             [
              0.4444444444444444,
              "#bd3786"
             ],
             [
              0.5555555555555556,
              "#d8576b"
             ],
             [
              0.6666666666666666,
              "#ed7953"
             ],
             [
              0.7777777777777778,
              "#fb9f3a"
             ],
             [
              0.8888888888888888,
              "#fdca26"
             ],
             [
              1,
              "#f0f921"
             ]
            ],
            "type": "heatmap"
           }
          ],
          "heatmapgl": [
           {
            "colorbar": {
             "outlinewidth": 0,
             "ticks": ""
            },
            "colorscale": [
             [
              0,
              "#0d0887"
             ],
             [
              0.1111111111111111,
              "#46039f"
             ],
             [
              0.2222222222222222,
              "#7201a8"
             ],
             [
              0.3333333333333333,
              "#9c179e"
             ],
             [
              0.4444444444444444,
              "#bd3786"
             ],
             [
              0.5555555555555556,
              "#d8576b"
             ],
             [
              0.6666666666666666,
              "#ed7953"
             ],
             [
              0.7777777777777778,
              "#fb9f3a"
             ],
             [
              0.8888888888888888,
              "#fdca26"
             ],
             [
              1,
              "#f0f921"
             ]
            ],
            "type": "heatmapgl"
           }
          ],
          "histogram": [
           {
            "marker": {
             "colorbar": {
              "outlinewidth": 0,
              "ticks": ""
             }
            },
            "type": "histogram"
           }
          ],
          "histogram2d": [
           {
            "colorbar": {
             "outlinewidth": 0,
             "ticks": ""
            },
            "colorscale": [
             [
              0,
              "#0d0887"
             ],
             [
              0.1111111111111111,
              "#46039f"
             ],
             [
              0.2222222222222222,
              "#7201a8"
             ],
             [
              0.3333333333333333,
              "#9c179e"
             ],
             [
              0.4444444444444444,
              "#bd3786"
             ],
             [
              0.5555555555555556,
              "#d8576b"
             ],
             [
              0.6666666666666666,
              "#ed7953"
             ],
             [
              0.7777777777777778,
              "#fb9f3a"
             ],
             [
              0.8888888888888888,
              "#fdca26"
             ],
             [
              1,
              "#f0f921"
             ]
            ],
            "type": "histogram2d"
           }
          ],
          "histogram2dcontour": [
           {
            "colorbar": {
             "outlinewidth": 0,
             "ticks": ""
            },
            "colorscale": [
             [
              0,
              "#0d0887"
             ],
             [
              0.1111111111111111,
              "#46039f"
             ],
             [
              0.2222222222222222,
              "#7201a8"
             ],
             [
              0.3333333333333333,
              "#9c179e"
             ],
             [
              0.4444444444444444,
              "#bd3786"
             ],
             [
              0.5555555555555556,
              "#d8576b"
             ],
             [
              0.6666666666666666,
              "#ed7953"
             ],
             [
              0.7777777777777778,
              "#fb9f3a"
             ],
             [
              0.8888888888888888,
              "#fdca26"
             ],
             [
              1,
              "#f0f921"
             ]
            ],
            "type": "histogram2dcontour"
           }
          ],
          "mesh3d": [
           {
            "colorbar": {
             "outlinewidth": 0,
             "ticks": ""
            },
            "type": "mesh3d"
           }
          ],
          "parcoords": [
           {
            "line": {
             "colorbar": {
              "outlinewidth": 0,
              "ticks": ""
             }
            },
            "type": "parcoords"
           }
          ],
          "pie": [
           {
            "automargin": true,
            "type": "pie"
           }
          ],
          "scatter": [
           {
            "marker": {
             "colorbar": {
              "outlinewidth": 0,
              "ticks": ""
             }
            },
            "type": "scatter"
           }
          ],
          "scatter3d": [
           {
            "line": {
             "colorbar": {
              "outlinewidth": 0,
              "ticks": ""
             }
            },
            "marker": {
             "colorbar": {
              "outlinewidth": 0,
              "ticks": ""
             }
            },
            "type": "scatter3d"
           }
          ],
          "scattercarpet": [
           {
            "marker": {
             "colorbar": {
              "outlinewidth": 0,
              "ticks": ""
             }
            },
            "type": "scattercarpet"
           }
          ],
          "scattergeo": [
           {
            "marker": {
             "colorbar": {
              "outlinewidth": 0,
              "ticks": ""
             }
            },
            "type": "scattergeo"
           }
          ],
          "scattergl": [
           {
            "marker": {
             "colorbar": {
              "outlinewidth": 0,
              "ticks": ""
             }
            },
            "type": "scattergl"
           }
          ],
          "scattermapbox": [
           {
            "marker": {
             "colorbar": {
              "outlinewidth": 0,
              "ticks": ""
             }
            },
            "type": "scattermapbox"
           }
          ],
          "scatterpolar": [
           {
            "marker": {
             "colorbar": {
              "outlinewidth": 0,
              "ticks": ""
             }
            },
            "type": "scatterpolar"
           }
          ],
          "scatterpolargl": [
           {
            "marker": {
             "colorbar": {
              "outlinewidth": 0,
              "ticks": ""
             }
            },
            "type": "scatterpolargl"
           }
          ],
          "scatterternary": [
           {
            "marker": {
             "colorbar": {
              "outlinewidth": 0,
              "ticks": ""
             }
            },
            "type": "scatterternary"
           }
          ],
          "surface": [
           {
            "colorbar": {
             "outlinewidth": 0,
             "ticks": ""
            },
            "colorscale": [
             [
              0,
              "#0d0887"
             ],
             [
              0.1111111111111111,
              "#46039f"
             ],
             [
              0.2222222222222222,
              "#7201a8"
             ],
             [
              0.3333333333333333,
              "#9c179e"
             ],
             [
              0.4444444444444444,
              "#bd3786"
             ],
             [
              0.5555555555555556,
              "#d8576b"
             ],
             [
              0.6666666666666666,
              "#ed7953"
             ],
             [
              0.7777777777777778,
              "#fb9f3a"
             ],
             [
              0.8888888888888888,
              "#fdca26"
             ],
             [
              1,
              "#f0f921"
             ]
            ],
            "type": "surface"
           }
          ],
          "table": [
           {
            "cells": {
             "fill": {
              "color": "#EBF0F8"
             },
             "line": {
              "color": "white"
             }
            },
            "header": {
             "fill": {
              "color": "#C8D4E3"
             },
             "line": {
              "color": "white"
             }
            },
            "type": "table"
           }
          ]
         },
         "layout": {
          "annotationdefaults": {
           "arrowcolor": "#2a3f5f",
           "arrowhead": 0,
           "arrowwidth": 1
          },
          "autotypenumbers": "strict",
          "coloraxis": {
           "colorbar": {
            "outlinewidth": 0,
            "ticks": ""
           }
          },
          "colorscale": {
           "diverging": [
            [
             0,
             "#8e0152"
            ],
            [
             0.1,
             "#c51b7d"
            ],
            [
             0.2,
             "#de77ae"
            ],
            [
             0.3,
             "#f1b6da"
            ],
            [
             0.4,
             "#fde0ef"
            ],
            [
             0.5,
             "#f7f7f7"
            ],
            [
             0.6,
             "#e6f5d0"
            ],
            [
             0.7,
             "#b8e186"
            ],
            [
             0.8,
             "#7fbc41"
            ],
            [
             0.9,
             "#4d9221"
            ],
            [
             1,
             "#276419"
            ]
           ],
           "sequential": [
            [
             0,
             "#0d0887"
            ],
            [
             0.1111111111111111,
             "#46039f"
            ],
            [
             0.2222222222222222,
             "#7201a8"
            ],
            [
             0.3333333333333333,
             "#9c179e"
            ],
            [
             0.4444444444444444,
             "#bd3786"
            ],
            [
             0.5555555555555556,
             "#d8576b"
            ],
            [
             0.6666666666666666,
             "#ed7953"
            ],
            [
             0.7777777777777778,
             "#fb9f3a"
            ],
            [
             0.8888888888888888,
             "#fdca26"
            ],
            [
             1,
             "#f0f921"
            ]
           ],
           "sequentialminus": [
            [
             0,
             "#0d0887"
            ],
            [
             0.1111111111111111,
             "#46039f"
            ],
            [
             0.2222222222222222,
             "#7201a8"
            ],
            [
             0.3333333333333333,
             "#9c179e"
            ],
            [
             0.4444444444444444,
             "#bd3786"
            ],
            [
             0.5555555555555556,
             "#d8576b"
            ],
            [
             0.6666666666666666,
             "#ed7953"
            ],
            [
             0.7777777777777778,
             "#fb9f3a"
            ],
            [
             0.8888888888888888,
             "#fdca26"
            ],
            [
             1,
             "#f0f921"
            ]
           ]
          },
          "colorway": [
           "#636efa",
           "#EF553B",
           "#00cc96",
           "#ab63fa",
           "#FFA15A",
           "#19d3f3",
           "#FF6692",
           "#B6E880",
           "#FF97FF",
           "#FECB52"
          ],
          "font": {
           "color": "#2a3f5f"
          },
          "geo": {
           "bgcolor": "white",
           "lakecolor": "white",
           "landcolor": "#E5ECF6",
           "showlakes": true,
           "showland": true,
           "subunitcolor": "white"
          },
          "hoverlabel": {
           "align": "left"
          },
          "hovermode": "closest",
          "mapbox": {
           "style": "light"
          },
          "paper_bgcolor": "white",
          "plot_bgcolor": "#E5ECF6",
          "polar": {
           "angularaxis": {
            "gridcolor": "white",
            "linecolor": "white",
            "ticks": ""
           },
           "bgcolor": "#E5ECF6",
           "radialaxis": {
            "gridcolor": "white",
            "linecolor": "white",
            "ticks": ""
           }
          },
          "scene": {
           "xaxis": {
            "backgroundcolor": "#E5ECF6",
            "gridcolor": "white",
            "gridwidth": 2,
            "linecolor": "white",
            "showbackground": true,
            "ticks": "",
            "zerolinecolor": "white"
           },
           "yaxis": {
            "backgroundcolor": "#E5ECF6",
            "gridcolor": "white",
            "gridwidth": 2,
            "linecolor": "white",
            "showbackground": true,
            "ticks": "",
            "zerolinecolor": "white"
           },
           "zaxis": {
            "backgroundcolor": "#E5ECF6",
            "gridcolor": "white",
            "gridwidth": 2,
            "linecolor": "white",
            "showbackground": true,
            "ticks": "",
            "zerolinecolor": "white"
           }
          },
          "shapedefaults": {
           "line": {
            "color": "#2a3f5f"
           }
          },
          "ternary": {
           "aaxis": {
            "gridcolor": "white",
            "linecolor": "white",
            "ticks": ""
           },
           "baxis": {
            "gridcolor": "white",
            "linecolor": "white",
            "ticks": ""
           },
           "bgcolor": "#E5ECF6",
           "caxis": {
            "gridcolor": "white",
            "linecolor": "white",
            "ticks": ""
           }
          },
          "title": {
           "x": 0.05
          },
          "xaxis": {
           "automargin": true,
           "gridcolor": "white",
           "linecolor": "white",
           "ticks": "",
           "title": {
            "standoff": 15
           },
           "zerolinecolor": "white",
           "zerolinewidth": 2
          },
          "yaxis": {
           "automargin": true,
           "gridcolor": "white",
           "linecolor": "white",
           "ticks": "",
           "title": {
            "standoff": 15
           },
           "zerolinecolor": "white",
           "zerolinewidth": 2
          }
         }
        }
       }
      },
      "text/html": [
       "<div>                            <div id=\"1d2e2d4e-02c9-43c4-ae27-de479639639e\" class=\"plotly-graph-div\" style=\"height:525px; width:100%;\"></div>            <script type=\"text/javascript\">                require([\"plotly\"], function(Plotly) {                    window.PLOTLYENV=window.PLOTLYENV || {};                                    if (document.getElementById(\"1d2e2d4e-02c9-43c4-ae27-de479639639e\")) {                    Plotly.newPlot(                        \"1d2e2d4e-02c9-43c4-ae27-de479639639e\",                        [{\"hovertemplate\": \"\\u041d\\u0430\\u043f\\u0440\\u0430\\u0432\\u043b\\u0435\\u043d\\u0438\\u0435=\\u041f\\u0440\\u043e\\u0435\\u043a\\u0442\\u0438\\u0440\\u043e\\u0432\\u0430\\u043d\\u0438\\u0435 \\u0430\\u0432\\u0438\\u0430\\u0446\\u0438\\u043e\\u043d\\u043d\\u044b\\u0445 \\u0438 \\u0440\\u0430\\u043a\\u0435\\u0442\\u043d\\u044b\\u0445 \\u0434\\u0432\\u0438\\u0433\\u0430\\u0442\\u0435\\u043b\\u0435\\u0439<br>\\u0424\\u0438\\u0437\\u0438\\u043a\\u0430=%{x}<br>\\u041c\\u0430\\u0442\\u0435\\u043c\\u0430\\u0442\\u0438\\u043a\\u0430=%{y}<br>\\u0420\\u0443\\u0441\\u0441\\u043a\\u0438\\u0439 \\u044f\\u0437\\u044b\\u043a=%{z}<extra></extra>\", \"legendgroup\": \"\\u041f\\u0440\\u043e\\u0435\\u043a\\u0442\\u0438\\u0440\\u043e\\u0432\\u0430\\u043d\\u0438\\u0435 \\u0430\\u0432\\u0438\\u0430\\u0446\\u0438\\u043e\\u043d\\u043d\\u044b\\u0445 \\u0438 \\u0440\\u0430\\u043a\\u0435\\u0442\\u043d\\u044b\\u0445 \\u0434\\u0432\\u0438\\u0433\\u0430\\u0442\\u0435\\u043b\\u0435\\u0439\", \"marker\": {\"color\": \"#636efa\", \"symbol\": \"circle\"}, \"mode\": \"markers\", \"name\": \"\\u041f\\u0440\\u043e\\u0435\\u043a\\u0442\\u0438\\u0440\\u043e\\u0432\\u0430\\u043d\\u0438\\u0435 \\u0430\\u0432\\u0438\\u0430\\u0446\\u0438\\u043e\\u043d\\u043d\\u044b\\u0445 \\u0438 \\u0440\\u0430\\u043a\\u0435\\u0442\\u043d\\u044b\\u0445 \\u0434\\u0432\\u0438\\u0433\\u0430\\u0442\\u0435\\u043b\\u0435\\u0439\", \"scene\": \"scene\", \"showlegend\": true, \"type\": \"scatter3d\", \"x\": [\"64.0\", \"45.0\", \"80.0\", \"49.0\", \"61.0\", \"45.0\", \"54.0\", \"98.0\", \"57.0\", \"46.0\", \"48.0\", \"59.0\", \"76.0\", \"48.0\", \"52.0\", \"62.0\", \"59.0\", \"52.0\", \"54.0\", \"47.0\", \"49.0\", \"39.0\", \"53.0\", \"52.0\", \"51.0\", \"46.0\", \"53.0\", \"80.0\", \"41.0\", \"44.0\"], \"y\": [\"56.0\", \"39.0\", \"78.0\", \"72.0\", \"62.0\", \"45.0\", \"33.0\", \"96.0\", \"45.0\", \"45.0\", \"56.0\", \"68.0\", \"78.0\", \"62.0\", \"56.0\", \"72.0\", \"70.0\", \"45.0\", \"56.0\", \"50.0\", \"50.0\", \"39.0\", \"45.0\", \"56.0\", \"70.0\", \"45.0\", \"62.0\", \"88.0\", \"0.0\", \"45.0\"], \"z\": [\"62.0\", \"82.0\", \"66.0\", \"61.0\", \"64.0\", \"78.0\", \"73.0\", \"96.0\", \"78.0\", \"62.0\", \"89.0\", \"80.0\", \"91.0\", \"73.0\", \"80.0\", \"85.0\", \"80.0\", \"62.0\", \"80.0\", \"82.0\", \"60.0\", \"61.0\", \"59.0\", \"80.0\", \"65.0\", \"67.0\", \"76.0\", \"85.0\", \"58.0\", \"65.0\"]}, {\"hovertemplate\": \"\\u041d\\u0430\\u043f\\u0440\\u0430\\u0432\\u043b\\u0435\\u043d\\u0438\\u0435=\\u041a\\u043e\\u043d\\u0441\\u0442\\u0440\\u0443\\u0438\\u0440\\u043e\\u0432\\u0430\\u043d\\u0438\\u0435 \\u0438 \\u0442\\u0435\\u0445\\u043d\\u043e\\u043b\\u043e\\u0433\\u0438\\u044f \\u044d\\u043b\\u0435\\u043a\\u0442\\u0440\\u043e\\u043d\\u043d\\u044b\\u0445 \\u0441\\u0440\\u0435\\u0434\\u0441\\u0442\\u0432<br>\\u0424\\u0438\\u0437\\u0438\\u043a\\u0430=%{x}<br>\\u041c\\u0430\\u0442\\u0435\\u043c\\u0430\\u0442\\u0438\\u043a\\u0430=%{y}<br>\\u0420\\u0443\\u0441\\u0441\\u043a\\u0438\\u0439 \\u044f\\u0437\\u044b\\u043a=%{z}<extra></extra>\", \"legendgroup\": \"\\u041a\\u043e\\u043d\\u0441\\u0442\\u0440\\u0443\\u0438\\u0440\\u043e\\u0432\\u0430\\u043d\\u0438\\u0435 \\u0438 \\u0442\\u0435\\u0445\\u043d\\u043e\\u043b\\u043e\\u0433\\u0438\\u044f \\u044d\\u043b\\u0435\\u043a\\u0442\\u0440\\u043e\\u043d\\u043d\\u044b\\u0445 \\u0441\\u0440\\u0435\\u0434\\u0441\\u0442\\u0432\", \"marker\": {\"color\": \"#EF553B\", \"symbol\": \"circle\"}, \"mode\": \"markers\", \"name\": \"\\u041a\\u043e\\u043d\\u0441\\u0442\\u0440\\u0443\\u0438\\u0440\\u043e\\u0432\\u0430\\u043d\\u0438\\u0435 \\u0438 \\u0442\\u0435\\u0445\\u043d\\u043e\\u043b\\u043e\\u0433\\u0438\\u044f \\u044d\\u043b\\u0435\\u043a\\u0442\\u0440\\u043e\\u043d\\u043d\\u044b\\u0445 \\u0441\\u0440\\u0435\\u0434\\u0441\\u0442\\u0432\", \"scene\": \"scene\", \"showlegend\": true, \"type\": \"scatter3d\", \"x\": [\"39.0\", \"47.0\", \"48.0\", \"41.0\", \"70.0\", \"39.0\", \"38.0\", \"38.0\", \"57.0\", \"55.0\", \"42.0\", \"40.0\", \"40.0\", \"46.0\", \"52.0\", \"44.0\", \"42.0\", \"41.0\", \"55.0\", \"44.0\"], \"y\": [\"44.0\", \"45.0\", \"27.0\", \"33.0\", \"70.0\", \"39.0\", \"56.0\", \"39.0\", \"50.0\", \"50.0\", \"39.0\", \"27.0\", \"33.0\", \"39.0\", \"50.0\", \"39.0\", \"33.0\", \"45.0\", \"70.0\", \"50.0\"], \"z\": [\"71.0\", \"59.0\", \"64.0\", \"57.0\", \"82.0\", \"73.0\", \"78.0\", \"61.0\", \"72.0\", \"69.0\", \"70.0\", \"46.0\", \"72.0\", \"51.0\", \"72.0\", \"62.0\", \"64.0\", \"64.0\", \"69.0\", \"50.0\"]}, {\"hovertemplate\": \"\\u041d\\u0430\\u043f\\u0440\\u0430\\u0432\\u043b\\u0435\\u043d\\u0438\\u0435=\\u042d\\u043b\\u0435\\u043a\\u0442\\u0440\\u043e\\u044d\\u043d\\u0435\\u0440\\u0433\\u0435\\u0442\\u0438\\u043a\\u0430 \\u0438 \\u044d\\u043b\\u0435\\u043a\\u0442\\u0440\\u043e\\u0442\\u0435\\u0445\\u043d\\u0438\\u043a\\u0430<br>\\u0424\\u0438\\u0437\\u0438\\u043a\\u0430=%{x}<br>\\u041c\\u0430\\u0442\\u0435\\u043c\\u0430\\u0442\\u0438\\u043a\\u0430=%{y}<br>\\u0420\\u0443\\u0441\\u0441\\u043a\\u0438\\u0439 \\u044f\\u0437\\u044b\\u043a=%{z}<extra></extra>\", \"legendgroup\": \"\\u042d\\u043b\\u0435\\u043a\\u0442\\u0440\\u043e\\u044d\\u043d\\u0435\\u0440\\u0433\\u0435\\u0442\\u0438\\u043a\\u0430 \\u0438 \\u044d\\u043b\\u0435\\u043a\\u0442\\u0440\\u043e\\u0442\\u0435\\u0445\\u043d\\u0438\\u043a\\u0430\", \"marker\": {\"color\": \"#00cc96\", \"symbol\": \"circle\"}, \"mode\": \"markers\", \"name\": \"\\u042d\\u043b\\u0435\\u043a\\u0442\\u0440\\u043e\\u044d\\u043d\\u0435\\u0440\\u0433\\u0435\\u0442\\u0438\\u043a\\u0430 \\u0438 \\u044d\\u043b\\u0435\\u043a\\u0442\\u0440\\u043e\\u0442\\u0435\\u0445\\u043d\\u0438\\u043a\\u0430\", \"scene\": \"scene\", \"showlegend\": true, \"type\": \"scatter3d\", \"x\": [\"49.0\", \"42.0\", \"48.0\", \"0.0\", \"47.0\", \"54.0\", \"46.0\", \"48.0\", \"53.0\", \"45.0\", \"48.0\", \"57.0\", \"45.0\", \"48.0\", \"40.0\", \"59.0\", \"51.0\", \"40.0\", \"43.0\", \"42.0\", \"39.0\", \"0.0\", \"46.0\", \"44.0\", \"52.0\", \"58.0\", \"57.0\", \"52.0\", \"49.0\", \"48.0\", \"40.0\", \"41.0\", \"47.0\", \"53.0\", \"47.0\"], \"y\": [\"45.0\", \"45.0\", \"62.0\", \"28.0\", \"27.0\", \"56.0\", \"39.0\", \"62.0\", \"50.0\", \"56.0\", \"45.0\", \"56.0\", \"56.0\", \"62.0\", \"27.0\", \"68.0\", \"62.0\", \"0.0\", \"0.0\", \"39.0\", \"47.0\", \"0.0\", \"39.0\", \"39.0\", \"39.0\", \"56.0\", \"62.0\", \"50.0\", \"68.0\", \"50.0\", \"45.0\", \"45.0\", \"45.0\", \"72.0\", \"50.0\"], \"z\": [\"48.0\", \"83.0\", \"70.0\", \"59.0\", \"64.0\", \"57.0\", \"71.0\", \"62.0\", \"69.0\", \"76.0\", \"55.0\", \"85.0\", \"53.0\", \"71.0\", \"51.0\", \"78.0\", \"70.0\", \"0.0\", \"0.0\", \"70.0\", \"69.0\", \"67.0\", \"70.0\", \"55.0\", \"65.0\", \"53.0\", \"76.0\", \"67.0\", \"66.0\", \"66.0\", \"73.0\", \"53.0\", \"62.0\", \"60.0\", \"62.0\"]}, {\"hovertemplate\": \"\\u041d\\u0430\\u043f\\u0440\\u0430\\u0432\\u043b\\u0435\\u043d\\u0438\\u0435=\\u041a\\u043e\\u043d\\u0441\\u0442\\u0440\\u0443\\u043a\\u0442\\u043e\\u0440\\u0441\\u043a\\u043e-\\u0442\\u0435\\u0445\\u043d\\u043e\\u043b\\u043e\\u0433\\u0438\\u0447\\u0435\\u0441\\u043a\\u043e\\u0435 \\u043e\\u0431\\u0435\\u0441\\u043f\\u0435\\u0447\\u0435\\u043d\\u0438\\u0435 \\u043c\\u0430\\u0448\\u0438\\u043d\\u043e\\u0441\\u0442\\u0440\\u043e\\u0438\\u0442\\u0435\\u043b\\u044c\\u043d\\u044b\\u0445 \\u043f\\u0440\\u043e\\u0438\\u0437\\u0432\\u043e\\u0434\\u0441\\u0442\\u0432<br>\\u0424\\u0438\\u0437\\u0438\\u043a\\u0430=%{x}<br>\\u041c\\u0430\\u0442\\u0435\\u043c\\u0430\\u0442\\u0438\\u043a\\u0430=%{y}<br>\\u0420\\u0443\\u0441\\u0441\\u043a\\u0438\\u0439 \\u044f\\u0437\\u044b\\u043a=%{z}<extra></extra>\", \"legendgroup\": \"\\u041a\\u043e\\u043d\\u0441\\u0442\\u0440\\u0443\\u043a\\u0442\\u043e\\u0440\\u0441\\u043a\\u043e-\\u0442\\u0435\\u0445\\u043d\\u043e\\u043b\\u043e\\u0433\\u0438\\u0447\\u0435\\u0441\\u043a\\u043e\\u0435 \\u043e\\u0431\\u0435\\u0441\\u043f\\u0435\\u0447\\u0435\\u043d\\u0438\\u0435 \\u043c\\u0430\\u0448\\u0438\\u043d\\u043e\\u0441\\u0442\\u0440\\u043e\\u0438\\u0442\\u0435\\u043b\\u044c\\u043d\\u044b\\u0445 \\u043f\\u0440\\u043e\\u0438\\u0437\\u0432\\u043e\\u0434\\u0441\\u0442\\u0432\", \"marker\": {\"color\": \"#ab63fa\", \"symbol\": \"circle\"}, \"mode\": \"markers\", \"name\": \"\\u041a\\u043e\\u043d\\u0441\\u0442\\u0440\\u0443\\u043a\\u0442\\u043e\\u0440\\u0441\\u043a\\u043e-\\u0442\\u0435\\u0445\\u043d\\u043e\\u043b\\u043e\\u0433\\u0438\\u0447\\u0435\\u0441\\u043a\\u043e\\u0435 \\u043e\\u0431\\u0435\\u0441\\u043f\\u0435\\u0447\\u0435\\u043d\\u0438\\u0435 \\u043c\\u0430\\u0448\\u0438\\u043d\\u043e\\u0441\\u0442\\u0440\\u043e\\u0438\\u0442\\u0435\\u043b\\u044c\\u043d\\u044b\\u0445 \\u043f\\u0440\\u043e\\u0438\\u0437\\u0432\\u043e\\u0434\\u0441\\u0442\\u0432\", \"scene\": \"scene\", \"showlegend\": true, \"type\": \"scatter3d\", \"x\": [\"48.0\", \"57.0\", \"48.0\", \"36.0\", \"47.0\", \"47.0\", \"38.0\", \"0.0\", \"48.0\", \"0.0\", \"45.0\", \"61.0\", \"47.0\", \"0.0\", \"47.0\", \"44.0\", \"46.0\", \"40.0\", \"55.0\", \"0.0\", \"39.0\", \"0.0\", \"58.0\", \"44.0\", \"42.0\", \"47.0\", \"41.0\", \"40.0\", \"42.0\", \"41.0\", \"41.0\", \"53.0\", \"44.0\", \"41.0\", \"45.0\", \"39.0\", \"40.0\", \"41.0\", \"46.0\", \"38.0\", \"52.0\", \"53.0\", \"51.0\", \"42.0\", \"42.0\", \"45.0\", \"0.0\", \"45.0\", \"40.0\", \"41.0\", \"56.0\"], \"y\": [\"68.0\", \"56.0\", \"39.0\", \"39.0\", \"39.0\", \"33.0\", \"33.0\", \"45.0\", \"45.0\", \"44.0\", \"45.0\", \"70.0\", \"33.0\", \"0.0\", \"50.0\", \"50.0\", \"70.0\", \"45.0\", \"56.0\", \"0.0\", \"33.0\", \"33.0\", \"62.0\", \"39.0\", \"39.0\", \"76.0\", \"33.0\", \"39.0\", \"39.0\", \"27.0\", \"39.0\", \"39.0\", \"27.0\", \"39.0\", \"70.0\", \"33.0\", \"0.0\", \"45.0\", \"39.0\", \"0.0\", \"68.0\", \"39.0\", \"68.0\", \"56.0\", \"45.0\", \"50.0\", \"27.0\", \"45.0\", \"27.0\", \"39.0\", \"55.0\"], \"z\": [\"62.0\", \"57.0\", \"57.0\", \"48.0\", \"57.0\", \"76.0\", \"85.0\", \"71.0\", \"61.0\", \"64.0\", \"82.0\", \"66.0\", \"55.0\", \"67.0\", \"67.0\", \"67.0\", \"87.0\", \"67.0\", \"40.0\", \"76.0\", \"64.0\", \"55.0\", \"67.0\", \"57.0\", \"50.0\", \"66.0\", \"60.0\", \"70.0\", \"51.0\", \"60.0\", \"44.0\", \"55.0\", \"50.0\", \"62.0\", \"64.0\", \"71.0\", \"53.0\", \"70.0\", \"98.0\", \"55.0\", \"85.0\", \"50.0\", \"70.0\", \"80.0\", \"60.0\", \"61.0\", \"56.0\", \"62.0\", \"57.0\", \"67.0\", \"73.0\"]}, {\"hovertemplate\": \"\\u041d\\u0430\\u043f\\u0440\\u0430\\u0432\\u043b\\u0435\\u043d\\u0438\\u0435=\\u0422\\u0435\\u043f\\u043b\\u043e\\u044d\\u043d\\u0435\\u0440\\u0433\\u0435\\u0442\\u0438\\u043a\\u0430 \\u0438 \\u0442\\u0435\\u043f\\u043b\\u043e\\u0442\\u0435\\u0445\\u043d\\u0438\\u043a\\u0430<br>\\u0424\\u0438\\u0437\\u0438\\u043a\\u0430=%{x}<br>\\u041c\\u0430\\u0442\\u0435\\u043c\\u0430\\u0442\\u0438\\u043a\\u0430=%{y}<br>\\u0420\\u0443\\u0441\\u0441\\u043a\\u0438\\u0439 \\u044f\\u0437\\u044b\\u043a=%{z}<extra></extra>\", \"legendgroup\": \"\\u0422\\u0435\\u043f\\u043b\\u043e\\u044d\\u043d\\u0435\\u0440\\u0433\\u0435\\u0442\\u0438\\u043a\\u0430 \\u0438 \\u0442\\u0435\\u043f\\u043b\\u043e\\u0442\\u0435\\u0445\\u043d\\u0438\\u043a\\u0430\", \"marker\": {\"color\": \"#FFA15A\", \"symbol\": \"circle\"}, \"mode\": \"markers\", \"name\": \"\\u0422\\u0435\\u043f\\u043b\\u043e\\u044d\\u043d\\u0435\\u0440\\u0433\\u0435\\u0442\\u0438\\u043a\\u0430 \\u0438 \\u0442\\u0435\\u043f\\u043b\\u043e\\u0442\\u0435\\u0445\\u043d\\u0438\\u043a\\u0430\", \"scene\": \"scene\", \"showlegend\": true, \"type\": \"scatter3d\", \"x\": [\"42.0\", \"62.0\", \"42.0\", \"53.0\", \"52.0\", \"49.0\", \"39.0\", \"45.0\", \"46.0\", \"51.0\", \"44.0\", \"47.0\", \"39.0\", \"58.0\", \"52.0\", \"54.0\", \"48.0\", \"46.0\", \"57.0\", \"40.0\", \"44.0\", \"39.0\", \"42.0\", \"45.0\", \"51.0\", \"55.0\"], \"y\": [\"39.0\", \"62.0\", \"27.0\", \"62.0\", \"50.0\", \"70.0\", \"33.0\", \"50.0\", \"27.0\", \"68.0\", \"45.0\", \"45.0\", \"50.0\", \"70.0\", \"39.0\", \"74.0\", \"33.0\", \"50.0\", \"45.0\", \"33.0\", \"45.0\", \"27.0\", \"39.0\", \"68.0\", \"45.0\", \"68.0\"], \"z\": [\"56.0\", \"88.0\", \"46.0\", \"65.0\", \"67.0\", \"61.0\", \"62.0\", \"67.0\", \"71.0\", \"70.0\", \"61.0\", \"67.0\", \"57.0\", \"72.0\", \"71.0\", \"85.0\", \"65.0\", \"72.0\", \"82.0\", \"61.0\", \"57.0\", \"59.0\", \"57.0\", \"85.0\", \"40.0\", \"61.0\"]}, {\"hovertemplate\": \"\\u041d\\u0430\\u043f\\u0440\\u0430\\u0432\\u043b\\u0435\\u043d\\u0438\\u0435=\\u042d\\u043b\\u0435\\u043a\\u0442\\u0440\\u043e\\u043d\\u0438\\u043a\\u0430 \\u0438 \\u043d\\u0430\\u043d\\u043e\\u044d\\u043b\\u0435\\u043a\\u0442\\u0440\\u043e\\u043d\\u0438\\u043a\\u0430<br>\\u0424\\u0438\\u0437\\u0438\\u043a\\u0430=%{x}<br>\\u041c\\u0430\\u0442\\u0435\\u043c\\u0430\\u0442\\u0438\\u043a\\u0430=%{y}<br>\\u0420\\u0443\\u0441\\u0441\\u043a\\u0438\\u0439 \\u044f\\u0437\\u044b\\u043a=%{z}<extra></extra>\", \"legendgroup\": \"\\u042d\\u043b\\u0435\\u043a\\u0442\\u0440\\u043e\\u043d\\u0438\\u043a\\u0430 \\u0438 \\u043d\\u0430\\u043d\\u043e\\u044d\\u043b\\u0435\\u043a\\u0442\\u0440\\u043e\\u043d\\u0438\\u043a\\u0430\", \"marker\": {\"color\": \"#19d3f3\", \"symbol\": \"circle\"}, \"mode\": \"markers\", \"name\": \"\\u042d\\u043b\\u0435\\u043a\\u0442\\u0440\\u043e\\u043d\\u0438\\u043a\\u0430 \\u0438 \\u043d\\u0430\\u043d\\u043e\\u044d\\u043b\\u0435\\u043a\\u0442\\u0440\\u043e\\u043d\\u0438\\u043a\\u0430\", \"scene\": \"scene\", \"showlegend\": true, \"type\": \"scatter3d\", \"x\": [\"42.0\", \"51.0\", \"53.0\", \"51.0\", \"48.0\", \"61.0\", \"72.0\", \"52.0\", \"45.0\", \"61.0\", \"62.0\", \"47.0\", \"54.0\", \"42.0\", \"39.0\", \"44.0\", \"59.0\", \"44.0\", \"39.0\", \"58.0\"], \"y\": [\"39.0\", \"56.0\", \"0.0\", \"70.0\", \"56.0\", \"74.0\", \"56.0\", \"39.0\", \"33.0\", \"72.0\", \"74.0\", \"39.0\", \"70.0\", \"56.0\", \"27.0\", \"45.0\", \"62.0\", \"27.0\", \"33.0\", \"50.0\"], \"z\": [\"78.0\", \"62.0\", \"52.0\", \"71.0\", \"91.0\", \"89.0\", \"82.0\", \"62.0\", \"55.0\", \"59.0\", \"70.0\", \"70.0\", \"72.0\", \"61.0\", \"67.0\", \"57.0\", \"82.0\", \"70.0\", \"67.0\", \"91.0\"]}, {\"hovertemplate\": \"\\u041d\\u0430\\u043f\\u0440\\u0430\\u0432\\u043b\\u0435\\u043d\\u0438\\u0435=\\u041c\\u0430\\u0448\\u0438\\u043d\\u043e\\u0441\\u0442\\u0440\\u043e\\u0435\\u043d\\u0438\\u0435<br>\\u0424\\u0438\\u0437\\u0438\\u043a\\u0430=%{x}<br>\\u041c\\u0430\\u0442\\u0435\\u043c\\u0430\\u0442\\u0438\\u043a\\u0430=%{y}<br>\\u0420\\u0443\\u0441\\u0441\\u043a\\u0438\\u0439 \\u044f\\u0437\\u044b\\u043a=%{z}<extra></extra>\", \"legendgroup\": \"\\u041c\\u0430\\u0448\\u0438\\u043d\\u043e\\u0441\\u0442\\u0440\\u043e\\u0435\\u043d\\u0438\\u0435\", \"marker\": {\"color\": \"#FF6692\", \"symbol\": \"circle\"}, \"mode\": \"markers\", \"name\": \"\\u041c\\u0430\\u0448\\u0438\\u043d\\u043e\\u0441\\u0442\\u0440\\u043e\\u0435\\u043d\\u0438\\u0435\", \"scene\": \"scene\", \"showlegend\": true, \"type\": \"scatter3d\", \"x\": [\"55.0\", \"44.0\", \"47.0\", \"38.0\", \"47.0\", \"44.0\", \"40.0\", \"46.0\", \"40.0\", \"47.0\", \"59.0\", \"44.0\", \"40.0\", \"40.0\"], \"y\": [\"50.0\", \"45.0\", \"50.0\", \"50.0\", \"33.0\", \"33.0\", \"33.0\", \"39.0\", \"39.0\", \"39.0\", \"56.0\", \"56.0\", \"33.0\", \"45.0\"], \"z\": [\"67.0\", \"69.0\", \"78.0\", \"50.0\", \"43.0\", \"66.0\", \"46.0\", \"73.0\", \"51.0\", \"69.0\", \"72.0\", \"94.0\", \"61.0\", \"76.0\"]}, {\"hovertemplate\": \"\\u041d\\u0430\\u043f\\u0440\\u0430\\u0432\\u043b\\u0435\\u043d\\u0438\\u0435=\\u041f\\u0440\\u043e\\u0435\\u043a\\u0442\\u0438\\u0440\\u043e\\u0432\\u0430\\u043d\\u0438\\u0435 \\u0442\\u0435\\u0445\\u043d\\u043e\\u043b\\u043e\\u0433\\u0438\\u0447\\u0435\\u0441\\u043a\\u0438\\u0445 \\u043c\\u0430\\u0448\\u0438\\u043d \\u0438 \\u043a\\u043e\\u043c\\u043f\\u043b\\u0435\\u043a\\u0441\\u043e\\u0432<br>\\u0424\\u0438\\u0437\\u0438\\u043a\\u0430=%{x}<br>\\u041c\\u0430\\u0442\\u0435\\u043c\\u0430\\u0442\\u0438\\u043a\\u0430=%{y}<br>\\u0420\\u0443\\u0441\\u0441\\u043a\\u0438\\u0439 \\u044f\\u0437\\u044b\\u043a=%{z}<extra></extra>\", \"legendgroup\": \"\\u041f\\u0440\\u043e\\u0435\\u043a\\u0442\\u0438\\u0440\\u043e\\u0432\\u0430\\u043d\\u0438\\u0435 \\u0442\\u0435\\u0445\\u043d\\u043e\\u043b\\u043e\\u0433\\u0438\\u0447\\u0435\\u0441\\u043a\\u0438\\u0445 \\u043c\\u0430\\u0448\\u0438\\u043d \\u0438 \\u043a\\u043e\\u043c\\u043f\\u043b\\u0435\\u043a\\u0441\\u043e\\u0432\", \"marker\": {\"color\": \"#B6E880\", \"symbol\": \"circle\"}, \"mode\": \"markers\", \"name\": \"\\u041f\\u0440\\u043e\\u0435\\u043a\\u0442\\u0438\\u0440\\u043e\\u0432\\u0430\\u043d\\u0438\\u0435 \\u0442\\u0435\\u0445\\u043d\\u043e\\u043b\\u043e\\u0433\\u0438\\u0447\\u0435\\u0441\\u043a\\u0438\\u0445 \\u043c\\u0430\\u0448\\u0438\\u043d \\u0438 \\u043a\\u043e\\u043c\\u043f\\u043b\\u0435\\u043a\\u0441\\u043e\\u0432\", \"scene\": \"scene\", \"showlegend\": true, \"type\": \"scatter3d\", \"x\": [\"47.0\", \"55.0\", \"51.0\", \"59.0\", \"49.0\", \"41.0\", \"46.0\", \"58.0\", \"53.0\", \"40.0\", \"42.0\", \"42.0\", \"36.0\"], \"y\": [\"50.0\", \"45.0\", \"50.0\", \"50.0\", \"68.0\", \"50.0\", \"45.0\", \"68.0\", \"39.0\", \"39.0\", \"50.0\", \"39.0\", \"39.0\"], \"z\": [\"85.0\", \"66.0\", \"59.0\", \"66.0\", \"72.0\", \"59.0\", \"67.0\", \"72.0\", \"70.0\", \"70.0\", \"53.0\", \"60.0\", \"61.0\"]}, {\"hovertemplate\": \"\\u041d\\u0430\\u043f\\u0440\\u0430\\u0432\\u043b\\u0435\\u043d\\u0438\\u0435=\\u041c\\u0435\\u0442\\u0430\\u043b\\u043b\\u0443\\u0440\\u0433\\u0438\\u044f<br>\\u0424\\u0438\\u0437\\u0438\\u043a\\u0430=%{x}<br>\\u041c\\u0430\\u0442\\u0435\\u043c\\u0430\\u0442\\u0438\\u043a\\u0430=%{y}<br>\\u0420\\u0443\\u0441\\u0441\\u043a\\u0438\\u0439 \\u044f\\u0437\\u044b\\u043a=%{z}<extra></extra>\", \"legendgroup\": \"\\u041c\\u0435\\u0442\\u0430\\u043b\\u043b\\u0443\\u0440\\u0433\\u0438\\u044f\", \"marker\": {\"color\": \"#FF97FF\", \"symbol\": \"circle\"}, \"mode\": \"markers\", \"name\": \"\\u041c\\u0435\\u0442\\u0430\\u043b\\u043b\\u0443\\u0440\\u0433\\u0438\\u044f\", \"scene\": \"scene\", \"showlegend\": true, \"type\": \"scatter3d\", \"x\": [\"51.0\", \"45.0\", \"47.0\", \"66.0\", \"45.0\", \"47.0\", \"36.0\", \"36.0\", \"42.0\", \"36.0\"], \"y\": [\"39.0\", \"50.0\", \"45.0\", \"45.0\", \"50.0\", \"45.0\", \"27.0\", \"39.0\", \"50.0\", \"33.0\"], \"z\": [\"67.0\", \"85.0\", \"62.0\", \"65.0\", \"78.0\", \"56.0\", \"36.0\", \"44.0\", \"72.0\", \"60.0\"]}, {\"hovertemplate\": \"\\u041d\\u0430\\u043f\\u0440\\u0430\\u0432\\u043b\\u0435\\u043d\\u0438\\u0435=\\u0422\\u0435\\u0445\\u043d\\u0438\\u0447\\u0435\\u0441\\u043a\\u0430\\u044f \\u0444\\u0438\\u0437\\u0438\\u043a\\u0430<br>\\u0424\\u0438\\u0437\\u0438\\u043a\\u0430=%{x}<br>\\u041c\\u0430\\u0442\\u0435\\u043c\\u0430\\u0442\\u0438\\u043a\\u0430=%{y}<br>\\u0420\\u0443\\u0441\\u0441\\u043a\\u0438\\u0439 \\u044f\\u0437\\u044b\\u043a=%{z}<extra></extra>\", \"legendgroup\": \"\\u0422\\u0435\\u0445\\u043d\\u0438\\u0447\\u0435\\u0441\\u043a\\u0430\\u044f \\u0444\\u0438\\u0437\\u0438\\u043a\\u0430\", \"marker\": {\"color\": \"#FECB52\", \"symbol\": \"circle\"}, \"mode\": \"markers\", \"name\": \"\\u0422\\u0435\\u0445\\u043d\\u0438\\u0447\\u0435\\u0441\\u043a\\u0430\\u044f \\u0444\\u0438\\u0437\\u0438\\u043a\\u0430\", \"scene\": \"scene\", \"showlegend\": true, \"type\": \"scatter3d\", \"x\": [\"61.0\", \"49.0\", \"49.0\"], \"y\": [\"70.0\", \"62.0\", \"68.0\"], \"z\": [\"71.0\", \"62.0\", \"71.0\"]}, {\"hovertemplate\": \"\\u041d\\u0430\\u043f\\u0440\\u0430\\u0432\\u043b\\u0435\\u043d\\u0438\\u0435=\\u0423\\u043f\\u0440\\u0430\\u0432\\u043b\\u0435\\u043d\\u0438\\u0435 \\u043a\\u0430\\u0447\\u0435\\u0441\\u0442\\u0432\\u043e\\u043c<br>\\u0424\\u0438\\u0437\\u0438\\u043a\\u0430=%{x}<br>\\u041c\\u0430\\u0442\\u0435\\u043c\\u0430\\u0442\\u0438\\u043a\\u0430=%{y}<br>\\u0420\\u0443\\u0441\\u0441\\u043a\\u0438\\u0439 \\u044f\\u0437\\u044b\\u043a=%{z}<extra></extra>\", \"legendgroup\": \"\\u0423\\u043f\\u0440\\u0430\\u0432\\u043b\\u0435\\u043d\\u0438\\u0435 \\u043a\\u0430\\u0447\\u0435\\u0441\\u0442\\u0432\\u043e\\u043c\", \"marker\": {\"color\": \"#636efa\", \"symbol\": \"circle\"}, \"mode\": \"markers\", \"name\": \"\\u0423\\u043f\\u0440\\u0430\\u0432\\u043b\\u0435\\u043d\\u0438\\u0435 \\u043a\\u0430\\u0447\\u0435\\u0441\\u0442\\u0432\\u043e\\u043c\", \"scene\": \"scene\", \"showlegend\": true, \"type\": \"scatter3d\", \"x\": [\"51.0\", \"47.0\", \"41.0\", \"44.0\", \"44.0\", \"39.0\", \"47.0\"], \"y\": [\"68.0\", \"39.0\", \"45.0\", \"62.0\", \"39.0\", \"39.0\", \"56.0\"], \"z\": [\"67.0\", \"61.0\", \"78.0\", \"67.0\", \"66.0\", \"67.0\", \"62.0\"]}, {\"hovertemplate\": \"\\u041d\\u0430\\u043f\\u0440\\u0430\\u0432\\u043b\\u0435\\u043d\\u0438\\u0435=\\u041c\\u0430\\u0442\\u0435\\u0440\\u0438\\u0430\\u043b\\u043e\\u0432\\u0435\\u0434\\u0435\\u043d\\u0438\\u0435 \\u0438 \\u0442\\u0435\\u0445\\u043d\\u043e\\u043b\\u043e\\u0433\\u0438\\u0438 \\u043c\\u0430\\u0442\\u0435\\u0440\\u0438\\u0430\\u043b\\u043e\\u0432<br>\\u0424\\u0438\\u0437\\u0438\\u043a\\u0430=%{x}<br>\\u041c\\u0430\\u0442\\u0435\\u043c\\u0430\\u0442\\u0438\\u043a\\u0430=%{y}<br>\\u0420\\u0443\\u0441\\u0441\\u043a\\u0438\\u0439 \\u044f\\u0437\\u044b\\u043a=%{z}<extra></extra>\", \"legendgroup\": \"\\u041c\\u0430\\u0442\\u0435\\u0440\\u0438\\u0430\\u043b\\u043e\\u0432\\u0435\\u0434\\u0435\\u043d\\u0438\\u0435 \\u0438 \\u0442\\u0435\\u0445\\u043d\\u043e\\u043b\\u043e\\u0433\\u0438\\u0438 \\u043c\\u0430\\u0442\\u0435\\u0440\\u0438\\u0430\\u043b\\u043e\\u0432\", \"marker\": {\"color\": \"#EF553B\", \"symbol\": \"circle\"}, \"mode\": \"markers\", \"name\": \"\\u041c\\u0430\\u0442\\u0435\\u0440\\u0438\\u0430\\u043b\\u043e\\u0432\\u0435\\u0434\\u0435\\u043d\\u0438\\u0435 \\u0438 \\u0442\\u0435\\u0445\\u043d\\u043e\\u043b\\u043e\\u0433\\u0438\\u0438 \\u043c\\u0430\\u0442\\u0435\\u0440\\u0438\\u0430\\u043b\\u043e\\u0432\", \"scene\": \"scene\", \"showlegend\": true, \"type\": \"scatter3d\", \"x\": [\"68.0\", \"36.0\"], \"y\": [\"74.0\", \"39.0\"], \"z\": [\"96.0\", \"66.0\"]}, {\"hovertemplate\": \"\\u041d\\u0430\\u043f\\u0440\\u0430\\u0432\\u043b\\u0435\\u043d\\u0438\\u0435=\\u0421\\u0442\\u0430\\u043d\\u0434\\u0430\\u0440\\u0442\\u0438\\u0437\\u0430\\u0446\\u0438\\u044f \\u0438 \\u043c\\u0435\\u0442\\u0440\\u043e\\u043b\\u043e\\u0433\\u0438\\u044f<br>\\u0424\\u0438\\u0437\\u0438\\u043a\\u0430=%{x}<br>\\u041c\\u0430\\u0442\\u0435\\u043c\\u0430\\u0442\\u0438\\u043a\\u0430=%{y}<br>\\u0420\\u0443\\u0441\\u0441\\u043a\\u0438\\u0439 \\u044f\\u0437\\u044b\\u043a=%{z}<extra></extra>\", \"legendgroup\": \"\\u0421\\u0442\\u0430\\u043d\\u0434\\u0430\\u0440\\u0442\\u0438\\u0437\\u0430\\u0446\\u0438\\u044f \\u0438 \\u043c\\u0435\\u0442\\u0440\\u043e\\u043b\\u043e\\u0433\\u0438\\u044f\", \"marker\": {\"color\": \"#00cc96\", \"symbol\": \"circle\"}, \"mode\": \"markers\", \"name\": \"\\u0421\\u0442\\u0430\\u043d\\u0434\\u0430\\u0440\\u0442\\u0438\\u0437\\u0430\\u0446\\u0438\\u044f \\u0438 \\u043c\\u0435\\u0442\\u0440\\u043e\\u043b\\u043e\\u0433\\u0438\\u044f\", \"scene\": \"scene\", \"showlegend\": true, \"type\": \"scatter3d\", \"x\": [\"48.0\"], \"y\": [\"50.0\"], \"z\": [\"89.0\"]}, {\"hovertemplate\": \"\\u041d\\u0430\\u043f\\u0440\\u0430\\u0432\\u043b\\u0435\\u043d\\u0438\\u0435=\\u042d\\u043d\\u0435\\u0440\\u0433\\u0435\\u0442\\u0438\\u0447\\u0435\\u0441\\u043a\\u043e\\u0435 \\u043c\\u0430\\u0448\\u0438\\u043d\\u043e\\u0441\\u0442\\u0440\\u043e\\u0435\\u043d\\u0438\\u0435<br>\\u0424\\u0438\\u0437\\u0438\\u043a\\u0430=%{x}<br>\\u041c\\u0430\\u0442\\u0435\\u043c\\u0430\\u0442\\u0438\\u043a\\u0430=%{y}<br>\\u0420\\u0443\\u0441\\u0441\\u043a\\u0438\\u0439 \\u044f\\u0437\\u044b\\u043a=%{z}<extra></extra>\", \"legendgroup\": \"\\u042d\\u043d\\u0435\\u0440\\u0433\\u0435\\u0442\\u0438\\u0447\\u0435\\u0441\\u043a\\u043e\\u0435 \\u043c\\u0430\\u0448\\u0438\\u043d\\u043e\\u0441\\u0442\\u0440\\u043e\\u0435\\u043d\\u0438\\u0435\", \"marker\": {\"color\": \"#ab63fa\", \"symbol\": \"circle\"}, \"mode\": \"markers\", \"name\": \"\\u042d\\u043d\\u0435\\u0440\\u0433\\u0435\\u0442\\u0438\\u0447\\u0435\\u0441\\u043a\\u043e\\u0435 \\u043c\\u0430\\u0448\\u0438\\u043d\\u043e\\u0441\\u0442\\u0440\\u043e\\u0435\\u043d\\u0438\\u0435\", \"scene\": \"scene\", \"showlegend\": true, \"type\": \"scatter3d\", \"x\": [\"49.0\"], \"y\": [\"62.0\"], \"z\": [\"72.0\"]}],                        {\"legend\": {\"title\": {\"text\": \"\\u041d\\u0430\\u043f\\u0440\\u0430\\u0432\\u043b\\u0435\\u043d\\u0438\\u0435\"}, \"tracegroupgap\": 0}, \"margin\": {\"t\": 60}, \"scene\": {\"domain\": {\"x\": [0.0, 1.0], \"y\": [0.0, 1.0]}, \"xaxis\": {\"title\": {\"text\": \"\\u0424\\u0438\\u0437\\u0438\\u043a\\u0430\"}}, \"yaxis\": {\"title\": {\"text\": \"\\u041c\\u0430\\u0442\\u0435\\u043c\\u0430\\u0442\\u0438\\u043a\\u0430\"}}, \"zaxis\": {\"title\": {\"text\": \"\\u0420\\u0443\\u0441\\u0441\\u043a\\u0438\\u0439 \\u044f\\u0437\\u044b\\u043a\"}}}, \"template\": {\"data\": {\"bar\": [{\"error_x\": {\"color\": \"#2a3f5f\"}, \"error_y\": {\"color\": \"#2a3f5f\"}, \"marker\": {\"line\": {\"color\": \"#E5ECF6\", \"width\": 0.5}}, \"type\": \"bar\"}], \"barpolar\": [{\"marker\": {\"line\": {\"color\": \"#E5ECF6\", \"width\": 0.5}}, \"type\": \"barpolar\"}], \"carpet\": [{\"aaxis\": {\"endlinecolor\": \"#2a3f5f\", \"gridcolor\": \"white\", \"linecolor\": \"white\", \"minorgridcolor\": \"white\", \"startlinecolor\": \"#2a3f5f\"}, \"baxis\": {\"endlinecolor\": \"#2a3f5f\", \"gridcolor\": \"white\", \"linecolor\": \"white\", \"minorgridcolor\": \"white\", \"startlinecolor\": \"#2a3f5f\"}, \"type\": \"carpet\"}], \"choropleth\": [{\"colorbar\": {\"outlinewidth\": 0, \"ticks\": \"\"}, \"type\": \"choropleth\"}], \"contour\": [{\"colorbar\": {\"outlinewidth\": 0, \"ticks\": \"\"}, \"colorscale\": [[0.0, \"#0d0887\"], [0.1111111111111111, \"#46039f\"], [0.2222222222222222, \"#7201a8\"], [0.3333333333333333, \"#9c179e\"], [0.4444444444444444, \"#bd3786\"], [0.5555555555555556, \"#d8576b\"], [0.6666666666666666, \"#ed7953\"], [0.7777777777777778, \"#fb9f3a\"], [0.8888888888888888, \"#fdca26\"], [1.0, \"#f0f921\"]], \"type\": \"contour\"}], \"contourcarpet\": [{\"colorbar\": {\"outlinewidth\": 0, \"ticks\": \"\"}, \"type\": \"contourcarpet\"}], \"heatmap\": [{\"colorbar\": {\"outlinewidth\": 0, \"ticks\": \"\"}, \"colorscale\": [[0.0, \"#0d0887\"], [0.1111111111111111, \"#46039f\"], [0.2222222222222222, \"#7201a8\"], [0.3333333333333333, \"#9c179e\"], [0.4444444444444444, \"#bd3786\"], [0.5555555555555556, \"#d8576b\"], [0.6666666666666666, \"#ed7953\"], [0.7777777777777778, \"#fb9f3a\"], [0.8888888888888888, \"#fdca26\"], [1.0, \"#f0f921\"]], \"type\": \"heatmap\"}], \"heatmapgl\": [{\"colorbar\": {\"outlinewidth\": 0, \"ticks\": \"\"}, \"colorscale\": [[0.0, \"#0d0887\"], [0.1111111111111111, \"#46039f\"], [0.2222222222222222, \"#7201a8\"], [0.3333333333333333, \"#9c179e\"], [0.4444444444444444, \"#bd3786\"], [0.5555555555555556, \"#d8576b\"], [0.6666666666666666, \"#ed7953\"], [0.7777777777777778, \"#fb9f3a\"], [0.8888888888888888, \"#fdca26\"], [1.0, \"#f0f921\"]], \"type\": \"heatmapgl\"}], \"histogram\": [{\"marker\": {\"colorbar\": {\"outlinewidth\": 0, \"ticks\": \"\"}}, \"type\": \"histogram\"}], \"histogram2d\": [{\"colorbar\": {\"outlinewidth\": 0, \"ticks\": \"\"}, \"colorscale\": [[0.0, \"#0d0887\"], [0.1111111111111111, \"#46039f\"], [0.2222222222222222, \"#7201a8\"], [0.3333333333333333, \"#9c179e\"], [0.4444444444444444, \"#bd3786\"], [0.5555555555555556, \"#d8576b\"], [0.6666666666666666, \"#ed7953\"], [0.7777777777777778, \"#fb9f3a\"], [0.8888888888888888, \"#fdca26\"], [1.0, \"#f0f921\"]], \"type\": \"histogram2d\"}], \"histogram2dcontour\": [{\"colorbar\": {\"outlinewidth\": 0, \"ticks\": \"\"}, \"colorscale\": [[0.0, \"#0d0887\"], [0.1111111111111111, \"#46039f\"], [0.2222222222222222, \"#7201a8\"], [0.3333333333333333, \"#9c179e\"], [0.4444444444444444, \"#bd3786\"], [0.5555555555555556, \"#d8576b\"], [0.6666666666666666, \"#ed7953\"], [0.7777777777777778, \"#fb9f3a\"], [0.8888888888888888, \"#fdca26\"], [1.0, \"#f0f921\"]], \"type\": \"histogram2dcontour\"}], \"mesh3d\": [{\"colorbar\": {\"outlinewidth\": 0, \"ticks\": \"\"}, \"type\": \"mesh3d\"}], \"parcoords\": [{\"line\": {\"colorbar\": {\"outlinewidth\": 0, \"ticks\": \"\"}}, \"type\": \"parcoords\"}], \"pie\": [{\"automargin\": true, \"type\": \"pie\"}], \"scatter\": [{\"marker\": {\"colorbar\": {\"outlinewidth\": 0, \"ticks\": \"\"}}, \"type\": \"scatter\"}], \"scatter3d\": [{\"line\": {\"colorbar\": {\"outlinewidth\": 0, \"ticks\": \"\"}}, \"marker\": {\"colorbar\": {\"outlinewidth\": 0, \"ticks\": \"\"}}, \"type\": \"scatter3d\"}], \"scattercarpet\": [{\"marker\": {\"colorbar\": {\"outlinewidth\": 0, \"ticks\": \"\"}}, \"type\": \"scattercarpet\"}], \"scattergeo\": [{\"marker\": {\"colorbar\": {\"outlinewidth\": 0, \"ticks\": \"\"}}, \"type\": \"scattergeo\"}], \"scattergl\": [{\"marker\": {\"colorbar\": {\"outlinewidth\": 0, \"ticks\": \"\"}}, \"type\": \"scattergl\"}], \"scattermapbox\": [{\"marker\": {\"colorbar\": {\"outlinewidth\": 0, \"ticks\": \"\"}}, \"type\": \"scattermapbox\"}], \"scatterpolar\": [{\"marker\": {\"colorbar\": {\"outlinewidth\": 0, \"ticks\": \"\"}}, \"type\": \"scatterpolar\"}], \"scatterpolargl\": [{\"marker\": {\"colorbar\": {\"outlinewidth\": 0, \"ticks\": \"\"}}, \"type\": \"scatterpolargl\"}], \"scatterternary\": [{\"marker\": {\"colorbar\": {\"outlinewidth\": 0, \"ticks\": \"\"}}, \"type\": \"scatterternary\"}], \"surface\": [{\"colorbar\": {\"outlinewidth\": 0, \"ticks\": \"\"}, \"colorscale\": [[0.0, \"#0d0887\"], [0.1111111111111111, \"#46039f\"], [0.2222222222222222, \"#7201a8\"], [0.3333333333333333, \"#9c179e\"], [0.4444444444444444, \"#bd3786\"], [0.5555555555555556, \"#d8576b\"], [0.6666666666666666, \"#ed7953\"], [0.7777777777777778, \"#fb9f3a\"], [0.8888888888888888, \"#fdca26\"], [1.0, \"#f0f921\"]], \"type\": \"surface\"}], \"table\": [{\"cells\": {\"fill\": {\"color\": \"#EBF0F8\"}, \"line\": {\"color\": \"white\"}}, \"header\": {\"fill\": {\"color\": \"#C8D4E3\"}, \"line\": {\"color\": \"white\"}}, \"type\": \"table\"}]}, \"layout\": {\"annotationdefaults\": {\"arrowcolor\": \"#2a3f5f\", \"arrowhead\": 0, \"arrowwidth\": 1}, \"autotypenumbers\": \"strict\", \"coloraxis\": {\"colorbar\": {\"outlinewidth\": 0, \"ticks\": \"\"}}, \"colorscale\": {\"diverging\": [[0, \"#8e0152\"], [0.1, \"#c51b7d\"], [0.2, \"#de77ae\"], [0.3, \"#f1b6da\"], [0.4, \"#fde0ef\"], [0.5, \"#f7f7f7\"], [0.6, \"#e6f5d0\"], [0.7, \"#b8e186\"], [0.8, \"#7fbc41\"], [0.9, \"#4d9221\"], [1, \"#276419\"]], \"sequential\": [[0.0, \"#0d0887\"], [0.1111111111111111, \"#46039f\"], [0.2222222222222222, \"#7201a8\"], [0.3333333333333333, \"#9c179e\"], [0.4444444444444444, \"#bd3786\"], [0.5555555555555556, \"#d8576b\"], [0.6666666666666666, \"#ed7953\"], [0.7777777777777778, \"#fb9f3a\"], [0.8888888888888888, \"#fdca26\"], [1.0, \"#f0f921\"]], \"sequentialminus\": [[0.0, \"#0d0887\"], [0.1111111111111111, \"#46039f\"], [0.2222222222222222, \"#7201a8\"], [0.3333333333333333, \"#9c179e\"], [0.4444444444444444, \"#bd3786\"], [0.5555555555555556, \"#d8576b\"], [0.6666666666666666, \"#ed7953\"], [0.7777777777777778, \"#fb9f3a\"], [0.8888888888888888, \"#fdca26\"], [1.0, \"#f0f921\"]]}, \"colorway\": [\"#636efa\", \"#EF553B\", \"#00cc96\", \"#ab63fa\", \"#FFA15A\", \"#19d3f3\", \"#FF6692\", \"#B6E880\", \"#FF97FF\", \"#FECB52\"], \"font\": {\"color\": \"#2a3f5f\"}, \"geo\": {\"bgcolor\": \"white\", \"lakecolor\": \"white\", \"landcolor\": \"#E5ECF6\", \"showlakes\": true, \"showland\": true, \"subunitcolor\": \"white\"}, \"hoverlabel\": {\"align\": \"left\"}, \"hovermode\": \"closest\", \"mapbox\": {\"style\": \"light\"}, \"paper_bgcolor\": \"white\", \"plot_bgcolor\": \"#E5ECF6\", \"polar\": {\"angularaxis\": {\"gridcolor\": \"white\", \"linecolor\": \"white\", \"ticks\": \"\"}, \"bgcolor\": \"#E5ECF6\", \"radialaxis\": {\"gridcolor\": \"white\", \"linecolor\": \"white\", \"ticks\": \"\"}}, \"scene\": {\"xaxis\": {\"backgroundcolor\": \"#E5ECF6\", \"gridcolor\": \"white\", \"gridwidth\": 2, \"linecolor\": \"white\", \"showbackground\": true, \"ticks\": \"\", \"zerolinecolor\": \"white\"}, \"yaxis\": {\"backgroundcolor\": \"#E5ECF6\", \"gridcolor\": \"white\", \"gridwidth\": 2, \"linecolor\": \"white\", \"showbackground\": true, \"ticks\": \"\", \"zerolinecolor\": \"white\"}, \"zaxis\": {\"backgroundcolor\": \"#E5ECF6\", \"gridcolor\": \"white\", \"gridwidth\": 2, \"linecolor\": \"white\", \"showbackground\": true, \"ticks\": \"\", \"zerolinecolor\": \"white\"}}, \"shapedefaults\": {\"line\": {\"color\": \"#2a3f5f\"}}, \"ternary\": {\"aaxis\": {\"gridcolor\": \"white\", \"linecolor\": \"white\", \"ticks\": \"\"}, \"baxis\": {\"gridcolor\": \"white\", \"linecolor\": \"white\", \"ticks\": \"\"}, \"bgcolor\": \"#E5ECF6\", \"caxis\": {\"gridcolor\": \"white\", \"linecolor\": \"white\", \"ticks\": \"\"}}, \"title\": {\"x\": 0.05}, \"xaxis\": {\"automargin\": true, \"gridcolor\": \"white\", \"linecolor\": \"white\", \"ticks\": \"\", \"title\": {\"standoff\": 15}, \"zerolinecolor\": \"white\", \"zerolinewidth\": 2}, \"yaxis\": {\"automargin\": true, \"gridcolor\": \"white\", \"linecolor\": \"white\", \"ticks\": \"\", \"title\": {\"standoff\": 15}, \"zerolinecolor\": \"white\", \"zerolinewidth\": 2}}}},                        {\"responsive\": true}                    ).then(function(){\n",
       "                            \n",
       "var gd = document.getElementById('1d2e2d4e-02c9-43c4-ae27-de479639639e');\n",
       "var x = new MutationObserver(function (mutations, observer) {{\n",
       "        var display = window.getComputedStyle(gd).display;\n",
       "        if (!display || display === 'none') {{\n",
       "            console.log([gd, 'removed!']);\n",
       "            Plotly.purge(gd);\n",
       "            observer.disconnect();\n",
       "        }}\n",
       "}});\n",
       "\n",
       "// Listen for the removal of the full notebook cells\n",
       "var notebookContainer = gd.closest('#notebook-container');\n",
       "if (notebookContainer) {{\n",
       "    x.observe(notebookContainer, {childList: true});\n",
       "}}\n",
       "\n",
       "// Listen for the clearing of the current output cell\n",
       "var outputEl = gd.closest('.output');\n",
       "if (outputEl) {{\n",
       "    x.observe(outputEl, {childList: true});\n",
       "}}\n",
       "\n",
       "                        })                };                });            </script>        </div>"
      ]
     },
     "metadata": {},
     "output_type": "display_data"
    }
   ],
   "source": [
    "fig = px.scatter_3d(plot_data_nature_science, x='Физика', y='Математика', z='Русский язык',\n",
    "              color='Направление')\n",
    "fig.show()"
   ]
  },
  {
   "cell_type": "code",
   "execution_count": 9,
   "metadata": {},
   "outputs": [
    {
     "data": {
      "application/vnd.plotly.v1+json": {
       "config": {
        "plotlyServerURL": "https://plot.ly"
       },
       "data": [
        {
         "hovertemplate": "Направление=Экономика<br>Обществознание=%{x}<br>Математика=%{y}<br>Русский язык=%{z}<extra></extra>",
         "legendgroup": "Экономика",
         "marker": {
          "color": "#636efa",
          "symbol": "circle"
         },
         "mode": "markers",
         "name": "Экономика",
         "scene": "scene",
         "showlegend": true,
         "type": "scatter3d",
         "x": [
          "0.0",
          "47.0",
          "54.0",
          "46.0",
          "49.0",
          "42.0",
          "61.0",
          "61.0",
          "45.0",
          "47.0",
          "61.0",
          "56.0",
          "64.0",
          "47.0",
          "44.0",
          "0.0",
          "57.0",
          "66.0",
          "51.0",
          "46.0",
          "45.0",
          "48.0",
          "62.0",
          "72.0",
          "68.0",
          "66.0"
         ],
         "y": [
          "0.0",
          "39.0",
          "27.0",
          "39.0",
          "39.0",
          "27.0",
          "45.0",
          "50.0",
          "56.0",
          "0.0",
          "39.0",
          "55.0",
          "50.0",
          "33.0",
          "27.0",
          "45.0",
          "72.0",
          "50.0",
          "45.0",
          "27.0",
          "27.0",
          "33.0",
          "39.0",
          "39.0",
          "39.0",
          "70.0"
         ],
         "z": [
          "73.0",
          "82.0",
          "72.0",
          "73.0",
          "72.0",
          "69.0",
          "66.0",
          "66.0",
          "62.0",
          "61.0",
          "60.0",
          "84.0",
          "73.0",
          "70.0",
          "49.0",
          "67.0",
          "82.0",
          "73.0",
          "65.0",
          "53.0",
          "66.0",
          "64.0",
          "71.0",
          "87.0",
          "71.0",
          "71.0"
         ]
        },
        {
         "hovertemplate": "Направление=Сервис<br>Обществознание=%{x}<br>Математика=%{y}<br>Русский язык=%{z}<extra></extra>",
         "legendgroup": "Сервис",
         "marker": {
          "color": "#EF553B",
          "symbol": "circle"
         },
         "mode": "markers",
         "name": "Сервис",
         "scene": "scene",
         "showlegend": true,
         "type": "scatter3d",
         "x": [
          "78.0",
          "60.0",
          "59.0",
          "56.0",
          "62.0",
          "53.0",
          "72.0",
          "71.0",
          "79.0",
          "55.0",
          "62.0",
          "55.0",
          "44.0",
          "56.0",
          "47.0"
         ],
         "y": [
          "74.0",
          "50.0",
          "56.0",
          "56.0",
          "56.0",
          "50.0",
          "62.0",
          "72.0",
          "62.0",
          "33.0",
          "56.0",
          "62.0",
          "70.0",
          "68.0",
          "27.0"
         ],
         "z": [
          "78.0",
          "76.0",
          "65.0",
          "71.0",
          "76.0",
          "78.0",
          "96.0",
          "87.0",
          "87.0",
          "64.0",
          "76.0",
          "73.0",
          "82.0",
          "94.0",
          "67.0"
         ]
        },
        {
         "hovertemplate": "Направление=Менеджмент<br>Обществознание=%{x}<br>Математика=%{y}<br>Русский язык=%{z}<extra></extra>",
         "legendgroup": "Менеджмент",
         "marker": {
          "color": "#00cc96",
          "symbol": "circle"
         },
         "mode": "markers",
         "name": "Менеджмент",
         "scene": "scene",
         "showlegend": true,
         "type": "scatter3d",
         "x": [
          "52.0",
          "64.0",
          "57.0",
          "55.0",
          "61.0",
          "64.0"
         ],
         "y": [
          "27.0",
          "39.0",
          "45.0",
          "27.0",
          "62.0",
          "27.0"
         ],
         "z": [
          "89.0",
          "72.0",
          "61.0",
          "69.0",
          "59.0",
          "64.0"
         ]
        }
       ],
       "layout": {
        "legend": {
         "title": {
          "text": "Направление"
         },
         "tracegroupgap": 0
        },
        "margin": {
         "t": 60
        },
        "scene": {
         "domain": {
          "x": [
           0,
           1
          ],
          "y": [
           0,
           1
          ]
         },
         "xaxis": {
          "title": {
           "text": "Обществознание"
          }
         },
         "yaxis": {
          "title": {
           "text": "Математика"
          }
         },
         "zaxis": {
          "title": {
           "text": "Русский язык"
          }
         }
        },
        "template": {
         "data": {
          "bar": [
           {
            "error_x": {
             "color": "#2a3f5f"
            },
            "error_y": {
             "color": "#2a3f5f"
            },
            "marker": {
             "line": {
              "color": "#E5ECF6",
              "width": 0.5
             }
            },
            "type": "bar"
           }
          ],
          "barpolar": [
           {
            "marker": {
             "line": {
              "color": "#E5ECF6",
              "width": 0.5
             }
            },
            "type": "barpolar"
           }
          ],
          "carpet": [
           {
            "aaxis": {
             "endlinecolor": "#2a3f5f",
             "gridcolor": "white",
             "linecolor": "white",
             "minorgridcolor": "white",
             "startlinecolor": "#2a3f5f"
            },
            "baxis": {
             "endlinecolor": "#2a3f5f",
             "gridcolor": "white",
             "linecolor": "white",
             "minorgridcolor": "white",
             "startlinecolor": "#2a3f5f"
            },
            "type": "carpet"
           }
          ],
          "choropleth": [
           {
            "colorbar": {
             "outlinewidth": 0,
             "ticks": ""
            },
            "type": "choropleth"
           }
          ],
          "contour": [
           {
            "colorbar": {
             "outlinewidth": 0,
             "ticks": ""
            },
            "colorscale": [
             [
              0,
              "#0d0887"
             ],
             [
              0.1111111111111111,
              "#46039f"
             ],
             [
              0.2222222222222222,
              "#7201a8"
             ],
             [
              0.3333333333333333,
              "#9c179e"
             ],
             [
              0.4444444444444444,
              "#bd3786"
             ],
             [
              0.5555555555555556,
              "#d8576b"
             ],
             [
              0.6666666666666666,
              "#ed7953"
             ],
             [
              0.7777777777777778,
              "#fb9f3a"
             ],
             [
              0.8888888888888888,
              "#fdca26"
             ],
             [
              1,
              "#f0f921"
             ]
            ],
            "type": "contour"
           }
          ],
          "contourcarpet": [
           {
            "colorbar": {
             "outlinewidth": 0,
             "ticks": ""
            },
            "type": "contourcarpet"
           }
          ],
          "heatmap": [
           {
            "colorbar": {
             "outlinewidth": 0,
             "ticks": ""
            },
            "colorscale": [
             [
              0,
              "#0d0887"
             ],
             [
              0.1111111111111111,
              "#46039f"
             ],
             [
              0.2222222222222222,
              "#7201a8"
             ],
             [
              0.3333333333333333,
              "#9c179e"
             ],
             [
              0.4444444444444444,
              "#bd3786"
             ],
             [
              0.5555555555555556,
              "#d8576b"
             ],
             [
              0.6666666666666666,
              "#ed7953"
             ],
             [
              0.7777777777777778,
              "#fb9f3a"
             ],
             [
              0.8888888888888888,
              "#fdca26"
             ],
             [
              1,
              "#f0f921"
             ]
            ],
            "type": "heatmap"
           }
          ],
          "heatmapgl": [
           {
            "colorbar": {
             "outlinewidth": 0,
             "ticks": ""
            },
            "colorscale": [
             [
              0,
              "#0d0887"
             ],
             [
              0.1111111111111111,
              "#46039f"
             ],
             [
              0.2222222222222222,
              "#7201a8"
             ],
             [
              0.3333333333333333,
              "#9c179e"
             ],
             [
              0.4444444444444444,
              "#bd3786"
             ],
             [
              0.5555555555555556,
              "#d8576b"
             ],
             [
              0.6666666666666666,
              "#ed7953"
             ],
             [
              0.7777777777777778,
              "#fb9f3a"
             ],
             [
              0.8888888888888888,
              "#fdca26"
             ],
             [
              1,
              "#f0f921"
             ]
            ],
            "type": "heatmapgl"
           }
          ],
          "histogram": [
           {
            "marker": {
             "colorbar": {
              "outlinewidth": 0,
              "ticks": ""
             }
            },
            "type": "histogram"
           }
          ],
          "histogram2d": [
           {
            "colorbar": {
             "outlinewidth": 0,
             "ticks": ""
            },
            "colorscale": [
             [
              0,
              "#0d0887"
             ],
             [
              0.1111111111111111,
              "#46039f"
             ],
             [
              0.2222222222222222,
              "#7201a8"
             ],
             [
              0.3333333333333333,
              "#9c179e"
             ],
             [
              0.4444444444444444,
              "#bd3786"
             ],
             [
              0.5555555555555556,
              "#d8576b"
             ],
             [
              0.6666666666666666,
              "#ed7953"
             ],
             [
              0.7777777777777778,
              "#fb9f3a"
             ],
             [
              0.8888888888888888,
              "#fdca26"
             ],
             [
              1,
              "#f0f921"
             ]
            ],
            "type": "histogram2d"
           }
          ],
          "histogram2dcontour": [
           {
            "colorbar": {
             "outlinewidth": 0,
             "ticks": ""
            },
            "colorscale": [
             [
              0,
              "#0d0887"
             ],
             [
              0.1111111111111111,
              "#46039f"
             ],
             [
              0.2222222222222222,
              "#7201a8"
             ],
             [
              0.3333333333333333,
              "#9c179e"
             ],
             [
              0.4444444444444444,
              "#bd3786"
             ],
             [
              0.5555555555555556,
              "#d8576b"
             ],
             [
              0.6666666666666666,
              "#ed7953"
             ],
             [
              0.7777777777777778,
              "#fb9f3a"
             ],
             [
              0.8888888888888888,
              "#fdca26"
             ],
             [
              1,
              "#f0f921"
             ]
            ],
            "type": "histogram2dcontour"
           }
          ],
          "mesh3d": [
           {
            "colorbar": {
             "outlinewidth": 0,
             "ticks": ""
            },
            "type": "mesh3d"
           }
          ],
          "parcoords": [
           {
            "line": {
             "colorbar": {
              "outlinewidth": 0,
              "ticks": ""
             }
            },
            "type": "parcoords"
           }
          ],
          "pie": [
           {
            "automargin": true,
            "type": "pie"
           }
          ],
          "scatter": [
           {
            "marker": {
             "colorbar": {
              "outlinewidth": 0,
              "ticks": ""
             }
            },
            "type": "scatter"
           }
          ],
          "scatter3d": [
           {
            "line": {
             "colorbar": {
              "outlinewidth": 0,
              "ticks": ""
             }
            },
            "marker": {
             "colorbar": {
              "outlinewidth": 0,
              "ticks": ""
             }
            },
            "type": "scatter3d"
           }
          ],
          "scattercarpet": [
           {
            "marker": {
             "colorbar": {
              "outlinewidth": 0,
              "ticks": ""
             }
            },
            "type": "scattercarpet"
           }
          ],
          "scattergeo": [
           {
            "marker": {
             "colorbar": {
              "outlinewidth": 0,
              "ticks": ""
             }
            },
            "type": "scattergeo"
           }
          ],
          "scattergl": [
           {
            "marker": {
             "colorbar": {
              "outlinewidth": 0,
              "ticks": ""
             }
            },
            "type": "scattergl"
           }
          ],
          "scattermapbox": [
           {
            "marker": {
             "colorbar": {
              "outlinewidth": 0,
              "ticks": ""
             }
            },
            "type": "scattermapbox"
           }
          ],
          "scatterpolar": [
           {
            "marker": {
             "colorbar": {
              "outlinewidth": 0,
              "ticks": ""
             }
            },
            "type": "scatterpolar"
           }
          ],
          "scatterpolargl": [
           {
            "marker": {
             "colorbar": {
              "outlinewidth": 0,
              "ticks": ""
             }
            },
            "type": "scatterpolargl"
           }
          ],
          "scatterternary": [
           {
            "marker": {
             "colorbar": {
              "outlinewidth": 0,
              "ticks": ""
             }
            },
            "type": "scatterternary"
           }
          ],
          "surface": [
           {
            "colorbar": {
             "outlinewidth": 0,
             "ticks": ""
            },
            "colorscale": [
             [
              0,
              "#0d0887"
             ],
             [
              0.1111111111111111,
              "#46039f"
             ],
             [
              0.2222222222222222,
              "#7201a8"
             ],
             [
              0.3333333333333333,
              "#9c179e"
             ],
             [
              0.4444444444444444,
              "#bd3786"
             ],
             [
              0.5555555555555556,
              "#d8576b"
             ],
             [
              0.6666666666666666,
              "#ed7953"
             ],
             [
              0.7777777777777778,
              "#fb9f3a"
             ],
             [
              0.8888888888888888,
              "#fdca26"
             ],
             [
              1,
              "#f0f921"
             ]
            ],
            "type": "surface"
           }
          ],
          "table": [
           {
            "cells": {
             "fill": {
              "color": "#EBF0F8"
             },
             "line": {
              "color": "white"
             }
            },
            "header": {
             "fill": {
              "color": "#C8D4E3"
             },
             "line": {
              "color": "white"
             }
            },
            "type": "table"
           }
          ]
         },
         "layout": {
          "annotationdefaults": {
           "arrowcolor": "#2a3f5f",
           "arrowhead": 0,
           "arrowwidth": 1
          },
          "autotypenumbers": "strict",
          "coloraxis": {
           "colorbar": {
            "outlinewidth": 0,
            "ticks": ""
           }
          },
          "colorscale": {
           "diverging": [
            [
             0,
             "#8e0152"
            ],
            [
             0.1,
             "#c51b7d"
            ],
            [
             0.2,
             "#de77ae"
            ],
            [
             0.3,
             "#f1b6da"
            ],
            [
             0.4,
             "#fde0ef"
            ],
            [
             0.5,
             "#f7f7f7"
            ],
            [
             0.6,
             "#e6f5d0"
            ],
            [
             0.7,
             "#b8e186"
            ],
            [
             0.8,
             "#7fbc41"
            ],
            [
             0.9,
             "#4d9221"
            ],
            [
             1,
             "#276419"
            ]
           ],
           "sequential": [
            [
             0,
             "#0d0887"
            ],
            [
             0.1111111111111111,
             "#46039f"
            ],
            [
             0.2222222222222222,
             "#7201a8"
            ],
            [
             0.3333333333333333,
             "#9c179e"
            ],
            [
             0.4444444444444444,
             "#bd3786"
            ],
            [
             0.5555555555555556,
             "#d8576b"
            ],
            [
             0.6666666666666666,
             "#ed7953"
            ],
            [
             0.7777777777777778,
             "#fb9f3a"
            ],
            [
             0.8888888888888888,
             "#fdca26"
            ],
            [
             1,
             "#f0f921"
            ]
           ],
           "sequentialminus": [
            [
             0,
             "#0d0887"
            ],
            [
             0.1111111111111111,
             "#46039f"
            ],
            [
             0.2222222222222222,
             "#7201a8"
            ],
            [
             0.3333333333333333,
             "#9c179e"
            ],
            [
             0.4444444444444444,
             "#bd3786"
            ],
            [
             0.5555555555555556,
             "#d8576b"
            ],
            [
             0.6666666666666666,
             "#ed7953"
            ],
            [
             0.7777777777777778,
             "#fb9f3a"
            ],
            [
             0.8888888888888888,
             "#fdca26"
            ],
            [
             1,
             "#f0f921"
            ]
           ]
          },
          "colorway": [
           "#636efa",
           "#EF553B",
           "#00cc96",
           "#ab63fa",
           "#FFA15A",
           "#19d3f3",
           "#FF6692",
           "#B6E880",
           "#FF97FF",
           "#FECB52"
          ],
          "font": {
           "color": "#2a3f5f"
          },
          "geo": {
           "bgcolor": "white",
           "lakecolor": "white",
           "landcolor": "#E5ECF6",
           "showlakes": true,
           "showland": true,
           "subunitcolor": "white"
          },
          "hoverlabel": {
           "align": "left"
          },
          "hovermode": "closest",
          "mapbox": {
           "style": "light"
          },
          "paper_bgcolor": "white",
          "plot_bgcolor": "#E5ECF6",
          "polar": {
           "angularaxis": {
            "gridcolor": "white",
            "linecolor": "white",
            "ticks": ""
           },
           "bgcolor": "#E5ECF6",
           "radialaxis": {
            "gridcolor": "white",
            "linecolor": "white",
            "ticks": ""
           }
          },
          "scene": {
           "xaxis": {
            "backgroundcolor": "#E5ECF6",
            "gridcolor": "white",
            "gridwidth": 2,
            "linecolor": "white",
            "showbackground": true,
            "ticks": "",
            "zerolinecolor": "white"
           },
           "yaxis": {
            "backgroundcolor": "#E5ECF6",
            "gridcolor": "white",
            "gridwidth": 2,
            "linecolor": "white",
            "showbackground": true,
            "ticks": "",
            "zerolinecolor": "white"
           },
           "zaxis": {
            "backgroundcolor": "#E5ECF6",
            "gridcolor": "white",
            "gridwidth": 2,
            "linecolor": "white",
            "showbackground": true,
            "ticks": "",
            "zerolinecolor": "white"
           }
          },
          "shapedefaults": {
           "line": {
            "color": "#2a3f5f"
           }
          },
          "ternary": {
           "aaxis": {
            "gridcolor": "white",
            "linecolor": "white",
            "ticks": ""
           },
           "baxis": {
            "gridcolor": "white",
            "linecolor": "white",
            "ticks": ""
           },
           "bgcolor": "#E5ECF6",
           "caxis": {
            "gridcolor": "white",
            "linecolor": "white",
            "ticks": ""
           }
          },
          "title": {
           "x": 0.05
          },
          "xaxis": {
           "automargin": true,
           "gridcolor": "white",
           "linecolor": "white",
           "ticks": "",
           "title": {
            "standoff": 15
           },
           "zerolinecolor": "white",
           "zerolinewidth": 2
          },
          "yaxis": {
           "automargin": true,
           "gridcolor": "white",
           "linecolor": "white",
           "ticks": "",
           "title": {
            "standoff": 15
           },
           "zerolinecolor": "white",
           "zerolinewidth": 2
          }
         }
        }
       }
      },
      "text/html": [
       "<div>                            <div id=\"90224ae4-cdcd-4499-b62c-22c3e492d9f2\" class=\"plotly-graph-div\" style=\"height:525px; width:100%;\"></div>            <script type=\"text/javascript\">                require([\"plotly\"], function(Plotly) {                    window.PLOTLYENV=window.PLOTLYENV || {};                                    if (document.getElementById(\"90224ae4-cdcd-4499-b62c-22c3e492d9f2\")) {                    Plotly.newPlot(                        \"90224ae4-cdcd-4499-b62c-22c3e492d9f2\",                        [{\"hovertemplate\": \"\\u041d\\u0430\\u043f\\u0440\\u0430\\u0432\\u043b\\u0435\\u043d\\u0438\\u0435=\\u042d\\u043a\\u043e\\u043d\\u043e\\u043c\\u0438\\u043a\\u0430<br>\\u041e\\u0431\\u0449\\u0435\\u0441\\u0442\\u0432\\u043e\\u0437\\u043d\\u0430\\u043d\\u0438\\u0435=%{x}<br>\\u041c\\u0430\\u0442\\u0435\\u043c\\u0430\\u0442\\u0438\\u043a\\u0430=%{y}<br>\\u0420\\u0443\\u0441\\u0441\\u043a\\u0438\\u0439 \\u044f\\u0437\\u044b\\u043a=%{z}<extra></extra>\", \"legendgroup\": \"\\u042d\\u043a\\u043e\\u043d\\u043e\\u043c\\u0438\\u043a\\u0430\", \"marker\": {\"color\": \"#636efa\", \"symbol\": \"circle\"}, \"mode\": \"markers\", \"name\": \"\\u042d\\u043a\\u043e\\u043d\\u043e\\u043c\\u0438\\u043a\\u0430\", \"scene\": \"scene\", \"showlegend\": true, \"type\": \"scatter3d\", \"x\": [\"0.0\", \"47.0\", \"54.0\", \"46.0\", \"49.0\", \"42.0\", \"61.0\", \"61.0\", \"45.0\", \"47.0\", \"61.0\", \"56.0\", \"64.0\", \"47.0\", \"44.0\", \"0.0\", \"57.0\", \"66.0\", \"51.0\", \"46.0\", \"45.0\", \"48.0\", \"62.0\", \"72.0\", \"68.0\", \"66.0\"], \"y\": [\"0.0\", \"39.0\", \"27.0\", \"39.0\", \"39.0\", \"27.0\", \"45.0\", \"50.0\", \"56.0\", \"0.0\", \"39.0\", \"55.0\", \"50.0\", \"33.0\", \"27.0\", \"45.0\", \"72.0\", \"50.0\", \"45.0\", \"27.0\", \"27.0\", \"33.0\", \"39.0\", \"39.0\", \"39.0\", \"70.0\"], \"z\": [\"73.0\", \"82.0\", \"72.0\", \"73.0\", \"72.0\", \"69.0\", \"66.0\", \"66.0\", \"62.0\", \"61.0\", \"60.0\", \"84.0\", \"73.0\", \"70.0\", \"49.0\", \"67.0\", \"82.0\", \"73.0\", \"65.0\", \"53.0\", \"66.0\", \"64.0\", \"71.0\", \"87.0\", \"71.0\", \"71.0\"]}, {\"hovertemplate\": \"\\u041d\\u0430\\u043f\\u0440\\u0430\\u0432\\u043b\\u0435\\u043d\\u0438\\u0435=\\u0421\\u0435\\u0440\\u0432\\u0438\\u0441<br>\\u041e\\u0431\\u0449\\u0435\\u0441\\u0442\\u0432\\u043e\\u0437\\u043d\\u0430\\u043d\\u0438\\u0435=%{x}<br>\\u041c\\u0430\\u0442\\u0435\\u043c\\u0430\\u0442\\u0438\\u043a\\u0430=%{y}<br>\\u0420\\u0443\\u0441\\u0441\\u043a\\u0438\\u0439 \\u044f\\u0437\\u044b\\u043a=%{z}<extra></extra>\", \"legendgroup\": \"\\u0421\\u0435\\u0440\\u0432\\u0438\\u0441\", \"marker\": {\"color\": \"#EF553B\", \"symbol\": \"circle\"}, \"mode\": \"markers\", \"name\": \"\\u0421\\u0435\\u0440\\u0432\\u0438\\u0441\", \"scene\": \"scene\", \"showlegend\": true, \"type\": \"scatter3d\", \"x\": [\"78.0\", \"60.0\", \"59.0\", \"56.0\", \"62.0\", \"53.0\", \"72.0\", \"71.0\", \"79.0\", \"55.0\", \"62.0\", \"55.0\", \"44.0\", \"56.0\", \"47.0\"], \"y\": [\"74.0\", \"50.0\", \"56.0\", \"56.0\", \"56.0\", \"50.0\", \"62.0\", \"72.0\", \"62.0\", \"33.0\", \"56.0\", \"62.0\", \"70.0\", \"68.0\", \"27.0\"], \"z\": [\"78.0\", \"76.0\", \"65.0\", \"71.0\", \"76.0\", \"78.0\", \"96.0\", \"87.0\", \"87.0\", \"64.0\", \"76.0\", \"73.0\", \"82.0\", \"94.0\", \"67.0\"]}, {\"hovertemplate\": \"\\u041d\\u0430\\u043f\\u0440\\u0430\\u0432\\u043b\\u0435\\u043d\\u0438\\u0435=\\u041c\\u0435\\u043d\\u0435\\u0434\\u0436\\u043c\\u0435\\u043d\\u0442<br>\\u041e\\u0431\\u0449\\u0435\\u0441\\u0442\\u0432\\u043e\\u0437\\u043d\\u0430\\u043d\\u0438\\u0435=%{x}<br>\\u041c\\u0430\\u0442\\u0435\\u043c\\u0430\\u0442\\u0438\\u043a\\u0430=%{y}<br>\\u0420\\u0443\\u0441\\u0441\\u043a\\u0438\\u0439 \\u044f\\u0437\\u044b\\u043a=%{z}<extra></extra>\", \"legendgroup\": \"\\u041c\\u0435\\u043d\\u0435\\u0434\\u0436\\u043c\\u0435\\u043d\\u0442\", \"marker\": {\"color\": \"#00cc96\", \"symbol\": \"circle\"}, \"mode\": \"markers\", \"name\": \"\\u041c\\u0435\\u043d\\u0435\\u0434\\u0436\\u043c\\u0435\\u043d\\u0442\", \"scene\": \"scene\", \"showlegend\": true, \"type\": \"scatter3d\", \"x\": [\"52.0\", \"64.0\", \"57.0\", \"55.0\", \"61.0\", \"64.0\"], \"y\": [\"27.0\", \"39.0\", \"45.0\", \"27.0\", \"62.0\", \"27.0\"], \"z\": [\"89.0\", \"72.0\", \"61.0\", \"69.0\", \"59.0\", \"64.0\"]}],                        {\"legend\": {\"title\": {\"text\": \"\\u041d\\u0430\\u043f\\u0440\\u0430\\u0432\\u043b\\u0435\\u043d\\u0438\\u0435\"}, \"tracegroupgap\": 0}, \"margin\": {\"t\": 60}, \"scene\": {\"domain\": {\"x\": [0.0, 1.0], \"y\": [0.0, 1.0]}, \"xaxis\": {\"title\": {\"text\": \"\\u041e\\u0431\\u0449\\u0435\\u0441\\u0442\\u0432\\u043e\\u0437\\u043d\\u0430\\u043d\\u0438\\u0435\"}}, \"yaxis\": {\"title\": {\"text\": \"\\u041c\\u0430\\u0442\\u0435\\u043c\\u0430\\u0442\\u0438\\u043a\\u0430\"}}, \"zaxis\": {\"title\": {\"text\": \"\\u0420\\u0443\\u0441\\u0441\\u043a\\u0438\\u0439 \\u044f\\u0437\\u044b\\u043a\"}}}, \"template\": {\"data\": {\"bar\": [{\"error_x\": {\"color\": \"#2a3f5f\"}, \"error_y\": {\"color\": \"#2a3f5f\"}, \"marker\": {\"line\": {\"color\": \"#E5ECF6\", \"width\": 0.5}}, \"type\": \"bar\"}], \"barpolar\": [{\"marker\": {\"line\": {\"color\": \"#E5ECF6\", \"width\": 0.5}}, \"type\": \"barpolar\"}], \"carpet\": [{\"aaxis\": {\"endlinecolor\": \"#2a3f5f\", \"gridcolor\": \"white\", \"linecolor\": \"white\", \"minorgridcolor\": \"white\", \"startlinecolor\": \"#2a3f5f\"}, \"baxis\": {\"endlinecolor\": \"#2a3f5f\", \"gridcolor\": \"white\", \"linecolor\": \"white\", \"minorgridcolor\": \"white\", \"startlinecolor\": \"#2a3f5f\"}, \"type\": \"carpet\"}], \"choropleth\": [{\"colorbar\": {\"outlinewidth\": 0, \"ticks\": \"\"}, \"type\": \"choropleth\"}], \"contour\": [{\"colorbar\": {\"outlinewidth\": 0, \"ticks\": \"\"}, \"colorscale\": [[0.0, \"#0d0887\"], [0.1111111111111111, \"#46039f\"], [0.2222222222222222, \"#7201a8\"], [0.3333333333333333, \"#9c179e\"], [0.4444444444444444, \"#bd3786\"], [0.5555555555555556, \"#d8576b\"], [0.6666666666666666, \"#ed7953\"], [0.7777777777777778, \"#fb9f3a\"], [0.8888888888888888, \"#fdca26\"], [1.0, \"#f0f921\"]], \"type\": \"contour\"}], \"contourcarpet\": [{\"colorbar\": {\"outlinewidth\": 0, \"ticks\": \"\"}, \"type\": \"contourcarpet\"}], \"heatmap\": [{\"colorbar\": {\"outlinewidth\": 0, \"ticks\": \"\"}, \"colorscale\": [[0.0, \"#0d0887\"], [0.1111111111111111, \"#46039f\"], [0.2222222222222222, \"#7201a8\"], [0.3333333333333333, \"#9c179e\"], [0.4444444444444444, \"#bd3786\"], [0.5555555555555556, \"#d8576b\"], [0.6666666666666666, \"#ed7953\"], [0.7777777777777778, \"#fb9f3a\"], [0.8888888888888888, \"#fdca26\"], [1.0, \"#f0f921\"]], \"type\": \"heatmap\"}], \"heatmapgl\": [{\"colorbar\": {\"outlinewidth\": 0, \"ticks\": \"\"}, \"colorscale\": [[0.0, \"#0d0887\"], [0.1111111111111111, \"#46039f\"], [0.2222222222222222, \"#7201a8\"], [0.3333333333333333, \"#9c179e\"], [0.4444444444444444, \"#bd3786\"], [0.5555555555555556, \"#d8576b\"], [0.6666666666666666, \"#ed7953\"], [0.7777777777777778, \"#fb9f3a\"], [0.8888888888888888, \"#fdca26\"], [1.0, \"#f0f921\"]], \"type\": \"heatmapgl\"}], \"histogram\": [{\"marker\": {\"colorbar\": {\"outlinewidth\": 0, \"ticks\": \"\"}}, \"type\": \"histogram\"}], \"histogram2d\": [{\"colorbar\": {\"outlinewidth\": 0, \"ticks\": \"\"}, \"colorscale\": [[0.0, \"#0d0887\"], [0.1111111111111111, \"#46039f\"], [0.2222222222222222, \"#7201a8\"], [0.3333333333333333, \"#9c179e\"], [0.4444444444444444, \"#bd3786\"], [0.5555555555555556, \"#d8576b\"], [0.6666666666666666, \"#ed7953\"], [0.7777777777777778, \"#fb9f3a\"], [0.8888888888888888, \"#fdca26\"], [1.0, \"#f0f921\"]], \"type\": \"histogram2d\"}], \"histogram2dcontour\": [{\"colorbar\": {\"outlinewidth\": 0, \"ticks\": \"\"}, \"colorscale\": [[0.0, \"#0d0887\"], [0.1111111111111111, \"#46039f\"], [0.2222222222222222, \"#7201a8\"], [0.3333333333333333, \"#9c179e\"], [0.4444444444444444, \"#bd3786\"], [0.5555555555555556, \"#d8576b\"], [0.6666666666666666, \"#ed7953\"], [0.7777777777777778, \"#fb9f3a\"], [0.8888888888888888, \"#fdca26\"], [1.0, \"#f0f921\"]], \"type\": \"histogram2dcontour\"}], \"mesh3d\": [{\"colorbar\": {\"outlinewidth\": 0, \"ticks\": \"\"}, \"type\": \"mesh3d\"}], \"parcoords\": [{\"line\": {\"colorbar\": {\"outlinewidth\": 0, \"ticks\": \"\"}}, \"type\": \"parcoords\"}], \"pie\": [{\"automargin\": true, \"type\": \"pie\"}], \"scatter\": [{\"marker\": {\"colorbar\": {\"outlinewidth\": 0, \"ticks\": \"\"}}, \"type\": \"scatter\"}], \"scatter3d\": [{\"line\": {\"colorbar\": {\"outlinewidth\": 0, \"ticks\": \"\"}}, \"marker\": {\"colorbar\": {\"outlinewidth\": 0, \"ticks\": \"\"}}, \"type\": \"scatter3d\"}], \"scattercarpet\": [{\"marker\": {\"colorbar\": {\"outlinewidth\": 0, \"ticks\": \"\"}}, \"type\": \"scattercarpet\"}], \"scattergeo\": [{\"marker\": {\"colorbar\": {\"outlinewidth\": 0, \"ticks\": \"\"}}, \"type\": \"scattergeo\"}], \"scattergl\": [{\"marker\": {\"colorbar\": {\"outlinewidth\": 0, \"ticks\": \"\"}}, \"type\": \"scattergl\"}], \"scattermapbox\": [{\"marker\": {\"colorbar\": {\"outlinewidth\": 0, \"ticks\": \"\"}}, \"type\": \"scattermapbox\"}], \"scatterpolar\": [{\"marker\": {\"colorbar\": {\"outlinewidth\": 0, \"ticks\": \"\"}}, \"type\": \"scatterpolar\"}], \"scatterpolargl\": [{\"marker\": {\"colorbar\": {\"outlinewidth\": 0, \"ticks\": \"\"}}, \"type\": \"scatterpolargl\"}], \"scatterternary\": [{\"marker\": {\"colorbar\": {\"outlinewidth\": 0, \"ticks\": \"\"}}, \"type\": \"scatterternary\"}], \"surface\": [{\"colorbar\": {\"outlinewidth\": 0, \"ticks\": \"\"}, \"colorscale\": [[0.0, \"#0d0887\"], [0.1111111111111111, \"#46039f\"], [0.2222222222222222, \"#7201a8\"], [0.3333333333333333, \"#9c179e\"], [0.4444444444444444, \"#bd3786\"], [0.5555555555555556, \"#d8576b\"], [0.6666666666666666, \"#ed7953\"], [0.7777777777777778, \"#fb9f3a\"], [0.8888888888888888, \"#fdca26\"], [1.0, \"#f0f921\"]], \"type\": \"surface\"}], \"table\": [{\"cells\": {\"fill\": {\"color\": \"#EBF0F8\"}, \"line\": {\"color\": \"white\"}}, \"header\": {\"fill\": {\"color\": \"#C8D4E3\"}, \"line\": {\"color\": \"white\"}}, \"type\": \"table\"}]}, \"layout\": {\"annotationdefaults\": {\"arrowcolor\": \"#2a3f5f\", \"arrowhead\": 0, \"arrowwidth\": 1}, \"autotypenumbers\": \"strict\", \"coloraxis\": {\"colorbar\": {\"outlinewidth\": 0, \"ticks\": \"\"}}, \"colorscale\": {\"diverging\": [[0, \"#8e0152\"], [0.1, \"#c51b7d\"], [0.2, \"#de77ae\"], [0.3, \"#f1b6da\"], [0.4, \"#fde0ef\"], [0.5, \"#f7f7f7\"], [0.6, \"#e6f5d0\"], [0.7, \"#b8e186\"], [0.8, \"#7fbc41\"], [0.9, \"#4d9221\"], [1, \"#276419\"]], \"sequential\": [[0.0, \"#0d0887\"], [0.1111111111111111, \"#46039f\"], [0.2222222222222222, \"#7201a8\"], [0.3333333333333333, \"#9c179e\"], [0.4444444444444444, \"#bd3786\"], [0.5555555555555556, \"#d8576b\"], [0.6666666666666666, \"#ed7953\"], [0.7777777777777778, \"#fb9f3a\"], [0.8888888888888888, \"#fdca26\"], [1.0, \"#f0f921\"]], \"sequentialminus\": [[0.0, \"#0d0887\"], [0.1111111111111111, \"#46039f\"], [0.2222222222222222, \"#7201a8\"], [0.3333333333333333, \"#9c179e\"], [0.4444444444444444, \"#bd3786\"], [0.5555555555555556, \"#d8576b\"], [0.6666666666666666, \"#ed7953\"], [0.7777777777777778, \"#fb9f3a\"], [0.8888888888888888, \"#fdca26\"], [1.0, \"#f0f921\"]]}, \"colorway\": [\"#636efa\", \"#EF553B\", \"#00cc96\", \"#ab63fa\", \"#FFA15A\", \"#19d3f3\", \"#FF6692\", \"#B6E880\", \"#FF97FF\", \"#FECB52\"], \"font\": {\"color\": \"#2a3f5f\"}, \"geo\": {\"bgcolor\": \"white\", \"lakecolor\": \"white\", \"landcolor\": \"#E5ECF6\", \"showlakes\": true, \"showland\": true, \"subunitcolor\": \"white\"}, \"hoverlabel\": {\"align\": \"left\"}, \"hovermode\": \"closest\", \"mapbox\": {\"style\": \"light\"}, \"paper_bgcolor\": \"white\", \"plot_bgcolor\": \"#E5ECF6\", \"polar\": {\"angularaxis\": {\"gridcolor\": \"white\", \"linecolor\": \"white\", \"ticks\": \"\"}, \"bgcolor\": \"#E5ECF6\", \"radialaxis\": {\"gridcolor\": \"white\", \"linecolor\": \"white\", \"ticks\": \"\"}}, \"scene\": {\"xaxis\": {\"backgroundcolor\": \"#E5ECF6\", \"gridcolor\": \"white\", \"gridwidth\": 2, \"linecolor\": \"white\", \"showbackground\": true, \"ticks\": \"\", \"zerolinecolor\": \"white\"}, \"yaxis\": {\"backgroundcolor\": \"#E5ECF6\", \"gridcolor\": \"white\", \"gridwidth\": 2, \"linecolor\": \"white\", \"showbackground\": true, \"ticks\": \"\", \"zerolinecolor\": \"white\"}, \"zaxis\": {\"backgroundcolor\": \"#E5ECF6\", \"gridcolor\": \"white\", \"gridwidth\": 2, \"linecolor\": \"white\", \"showbackground\": true, \"ticks\": \"\", \"zerolinecolor\": \"white\"}}, \"shapedefaults\": {\"line\": {\"color\": \"#2a3f5f\"}}, \"ternary\": {\"aaxis\": {\"gridcolor\": \"white\", \"linecolor\": \"white\", \"ticks\": \"\"}, \"baxis\": {\"gridcolor\": \"white\", \"linecolor\": \"white\", \"ticks\": \"\"}, \"bgcolor\": \"#E5ECF6\", \"caxis\": {\"gridcolor\": \"white\", \"linecolor\": \"white\", \"ticks\": \"\"}}, \"title\": {\"x\": 0.05}, \"xaxis\": {\"automargin\": true, \"gridcolor\": \"white\", \"linecolor\": \"white\", \"ticks\": \"\", \"title\": {\"standoff\": 15}, \"zerolinecolor\": \"white\", \"zerolinewidth\": 2}, \"yaxis\": {\"automargin\": true, \"gridcolor\": \"white\", \"linecolor\": \"white\", \"ticks\": \"\", \"title\": {\"standoff\": 15}, \"zerolinecolor\": \"white\", \"zerolinewidth\": 2}}}},                        {\"responsive\": true}                    ).then(function(){\n",
       "                            \n",
       "var gd = document.getElementById('90224ae4-cdcd-4499-b62c-22c3e492d9f2');\n",
       "var x = new MutationObserver(function (mutations, observer) {{\n",
       "        var display = window.getComputedStyle(gd).display;\n",
       "        if (!display || display === 'none') {{\n",
       "            console.log([gd, 'removed!']);\n",
       "            Plotly.purge(gd);\n",
       "            observer.disconnect();\n",
       "        }}\n",
       "}});\n",
       "\n",
       "// Listen for the removal of the full notebook cells\n",
       "var notebookContainer = gd.closest('#notebook-container');\n",
       "if (notebookContainer) {{\n",
       "    x.observe(notebookContainer, {childList: true});\n",
       "}}\n",
       "\n",
       "// Listen for the clearing of the current output cell\n",
       "var outputEl = gd.closest('.output');\n",
       "if (outputEl) {{\n",
       "    x.observe(outputEl, {childList: true});\n",
       "}}\n",
       "\n",
       "                        })                };                });            </script>        </div>"
      ]
     },
     "metadata": {},
     "output_type": "display_data"
    }
   ],
   "source": [
    "import plotly.express as px\n",
    "fig = px.scatter_3d(plot_data_social_science, x='Обществознание', y='Математика', z='Русский язык',\n",
    "              color='Направление')\n",
    "fig.show()"
   ]
  }
 ],
 "metadata": {
  "kernelspec": {
   "display_name": "Python 3",
   "language": "python",
   "name": "python3"
  },
  "language_info": {
   "codemirror_mode": {
    "name": "ipython",
    "version": 3
   },
   "file_extension": ".py",
   "mimetype": "text/x-python",
   "name": "python",
   "nbconvert_exporter": "python",
   "pygments_lexer": "ipython3",
   "version": "3.8.5"
  }
 },
 "nbformat": 4,
 "nbformat_minor": 4
}
